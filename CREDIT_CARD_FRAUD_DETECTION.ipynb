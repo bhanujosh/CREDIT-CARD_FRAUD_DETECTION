{
  "nbformat": 4,
  "nbformat_minor": 0,
  "metadata": {
    "colab": {
      "name": "CREDIT CARD FRAUD DETECTION",
      "provenance": [],
      "collapsed_sections": []
    },
    "kernelspec": {
      "display_name": "Python 3",
      "name": "python3"
    },
    "language_info": {
      "name": "python"
    }
  },
  "cells": [
    {
      "cell_type": "code",
      "metadata": {
        "id": "HxYT6hc145EC"
      },
      "source": [
        "# import packages\n",
        "import pandas as pd\n",
        "import numpy as np\n",
        "import matplotlib.pyplot as plt\n",
        "import seaborn as sns\n",
        "%matplotlib inline\n",
        "import warnings\n",
        "warnings.filterwarnings(\"ignore\")"
      ],
      "execution_count": null,
      "outputs": []
    },
    {
      "cell_type": "code",
      "metadata": {
        "id": "a517Bgen6Ibg"
      },
      "source": [
        "# load datasetcsv\n",
        "df = pd.read_csv('/content/drive/MyDrive/19CSE304-Lab/Projects/creditcard_fraud.csv')"
      ],
      "execution_count": null,
      "outputs": []
    },
    {
      "cell_type": "code",
      "metadata": {
        "id": "TewoYGUTp9Hc"
      },
      "source": [
        "# df.drop('Unnamed: 0',axis=1,inplace=True) # unnecessary column"
      ],
      "execution_count": null,
      "outputs": []
    },
    {
      "cell_type": "code",
      "metadata": {
        "id": "HnKbvR9r6IeI",
        "colab": {
          "base_uri": "https://localhost:8080/"
        },
        "outputId": "27945764-b5ba-4958-b443-d370ac6d8662"
      },
      "source": [
        "df.shape"
      ],
      "execution_count": null,
      "outputs": [
        {
          "output_type": "execute_result",
          "data": {
            "text/plain": [
              "(1296675, 23)"
            ]
          },
          "metadata": {},
          "execution_count": 4
        }
      ]
    },
    {
      "cell_type": "code",
      "metadata": {
        "id": "d9FbZ6a46Igb",
        "colab": {
          "base_uri": "https://localhost:8080/"
        },
        "outputId": "ca785e95-7920-4273-d55a-df919a3d3ca3"
      },
      "source": [
        "df.columns"
      ],
      "execution_count": null,
      "outputs": [
        {
          "output_type": "execute_result",
          "data": {
            "text/plain": [
              "Index(['Unnamed: 0', 'trans_date_trans_time', 'cc_num', 'merchant', 'category',\n",
              "       'amt', 'first', 'last', 'gender', 'street', 'city', 'state', 'zip',\n",
              "       'lat', 'long', 'city_pop', 'job', 'dob', 'trans_num', 'unix_time',\n",
              "       'merch_lat', 'merch_long', 'is_fraud'],\n",
              "      dtype='object')"
            ]
          },
          "metadata": {},
          "execution_count": 5
        }
      ]
    },
    {
      "cell_type": "code",
      "metadata": {
        "id": "ZkEYGoDr6IjG",
        "colab": {
          "base_uri": "https://localhost:8080/",
          "height": 521
        },
        "outputId": "96b516f4-a3e1-49a1-c4c7-1b08be858021"
      },
      "source": [
        "df.head(5)"
      ],
      "execution_count": null,
      "outputs": [
        {
          "output_type": "execute_result",
          "data": {
            "text/html": [
              "<div>\n",
              "<style scoped>\n",
              "    .dataframe tbody tr th:only-of-type {\n",
              "        vertical-align: middle;\n",
              "    }\n",
              "\n",
              "    .dataframe tbody tr th {\n",
              "        vertical-align: top;\n",
              "    }\n",
              "\n",
              "    .dataframe thead th {\n",
              "        text-align: right;\n",
              "    }\n",
              "</style>\n",
              "<table border=\"1\" class=\"dataframe\">\n",
              "  <thead>\n",
              "    <tr style=\"text-align: right;\">\n",
              "      <th></th>\n",
              "      <th>Unnamed: 0</th>\n",
              "      <th>trans_date_trans_time</th>\n",
              "      <th>cc_num</th>\n",
              "      <th>merchant</th>\n",
              "      <th>category</th>\n",
              "      <th>amt</th>\n",
              "      <th>first</th>\n",
              "      <th>last</th>\n",
              "      <th>gender</th>\n",
              "      <th>street</th>\n",
              "      <th>city</th>\n",
              "      <th>state</th>\n",
              "      <th>zip</th>\n",
              "      <th>lat</th>\n",
              "      <th>long</th>\n",
              "      <th>city_pop</th>\n",
              "      <th>job</th>\n",
              "      <th>dob</th>\n",
              "      <th>trans_num</th>\n",
              "      <th>unix_time</th>\n",
              "      <th>merch_lat</th>\n",
              "      <th>merch_long</th>\n",
              "      <th>is_fraud</th>\n",
              "    </tr>\n",
              "  </thead>\n",
              "  <tbody>\n",
              "    <tr>\n",
              "      <th>0</th>\n",
              "      <td>0</td>\n",
              "      <td>2019-01-01 00:00:18</td>\n",
              "      <td>2703186189652095</td>\n",
              "      <td>fraud_Rippin, Kub and Mann</td>\n",
              "      <td>misc_net</td>\n",
              "      <td>4.97</td>\n",
              "      <td>Jennifer</td>\n",
              "      <td>Banks</td>\n",
              "      <td>F</td>\n",
              "      <td>561 Perry Cove</td>\n",
              "      <td>Moravian Falls</td>\n",
              "      <td>NC</td>\n",
              "      <td>28654</td>\n",
              "      <td>36.0788</td>\n",
              "      <td>-81.1781</td>\n",
              "      <td>3495</td>\n",
              "      <td>Psychologist, counselling</td>\n",
              "      <td>1988-03-09</td>\n",
              "      <td>0b242abb623afc578575680df30655b9</td>\n",
              "      <td>1325376018</td>\n",
              "      <td>36.011293</td>\n",
              "      <td>-82.048315</td>\n",
              "      <td>0</td>\n",
              "    </tr>\n",
              "    <tr>\n",
              "      <th>1</th>\n",
              "      <td>1</td>\n",
              "      <td>2019-01-01 00:00:44</td>\n",
              "      <td>630423337322</td>\n",
              "      <td>fraud_Heller, Gutmann and Zieme</td>\n",
              "      <td>grocery_pos</td>\n",
              "      <td>107.23</td>\n",
              "      <td>Stephanie</td>\n",
              "      <td>Gill</td>\n",
              "      <td>F</td>\n",
              "      <td>43039 Riley Greens Suite 393</td>\n",
              "      <td>Orient</td>\n",
              "      <td>WA</td>\n",
              "      <td>99160</td>\n",
              "      <td>48.8878</td>\n",
              "      <td>-118.2105</td>\n",
              "      <td>149</td>\n",
              "      <td>Special educational needs teacher</td>\n",
              "      <td>1978-06-21</td>\n",
              "      <td>1f76529f8574734946361c461b024d99</td>\n",
              "      <td>1325376044</td>\n",
              "      <td>49.159047</td>\n",
              "      <td>-118.186462</td>\n",
              "      <td>0</td>\n",
              "    </tr>\n",
              "    <tr>\n",
              "      <th>2</th>\n",
              "      <td>2</td>\n",
              "      <td>2019-01-01 00:00:51</td>\n",
              "      <td>38859492057661</td>\n",
              "      <td>fraud_Lind-Buckridge</td>\n",
              "      <td>entertainment</td>\n",
              "      <td>220.11</td>\n",
              "      <td>Edward</td>\n",
              "      <td>Sanchez</td>\n",
              "      <td>M</td>\n",
              "      <td>594 White Dale Suite 530</td>\n",
              "      <td>Malad City</td>\n",
              "      <td>ID</td>\n",
              "      <td>83252</td>\n",
              "      <td>42.1808</td>\n",
              "      <td>-112.2620</td>\n",
              "      <td>4154</td>\n",
              "      <td>Nature conservation officer</td>\n",
              "      <td>1962-01-19</td>\n",
              "      <td>a1a22d70485983eac12b5b88dad1cf95</td>\n",
              "      <td>1325376051</td>\n",
              "      <td>43.150704</td>\n",
              "      <td>-112.154481</td>\n",
              "      <td>0</td>\n",
              "    </tr>\n",
              "    <tr>\n",
              "      <th>3</th>\n",
              "      <td>3</td>\n",
              "      <td>2019-01-01 00:01:16</td>\n",
              "      <td>3534093764340240</td>\n",
              "      <td>fraud_Kutch, Hermiston and Farrell</td>\n",
              "      <td>gas_transport</td>\n",
              "      <td>45.00</td>\n",
              "      <td>Jeremy</td>\n",
              "      <td>White</td>\n",
              "      <td>M</td>\n",
              "      <td>9443 Cynthia Court Apt. 038</td>\n",
              "      <td>Boulder</td>\n",
              "      <td>MT</td>\n",
              "      <td>59632</td>\n",
              "      <td>46.2306</td>\n",
              "      <td>-112.1138</td>\n",
              "      <td>1939</td>\n",
              "      <td>Patent attorney</td>\n",
              "      <td>1967-01-12</td>\n",
              "      <td>6b849c168bdad6f867558c3793159a81</td>\n",
              "      <td>1325376076</td>\n",
              "      <td>47.034331</td>\n",
              "      <td>-112.561071</td>\n",
              "      <td>0</td>\n",
              "    </tr>\n",
              "    <tr>\n",
              "      <th>4</th>\n",
              "      <td>4</td>\n",
              "      <td>2019-01-01 00:03:06</td>\n",
              "      <td>375534208663984</td>\n",
              "      <td>fraud_Keeling-Crist</td>\n",
              "      <td>misc_pos</td>\n",
              "      <td>41.96</td>\n",
              "      <td>Tyler</td>\n",
              "      <td>Garcia</td>\n",
              "      <td>M</td>\n",
              "      <td>408 Bradley Rest</td>\n",
              "      <td>Doe Hill</td>\n",
              "      <td>VA</td>\n",
              "      <td>24433</td>\n",
              "      <td>38.4207</td>\n",
              "      <td>-79.4629</td>\n",
              "      <td>99</td>\n",
              "      <td>Dance movement psychotherapist</td>\n",
              "      <td>1986-03-28</td>\n",
              "      <td>a41d7549acf90789359a9aa5346dcb46</td>\n",
              "      <td>1325376186</td>\n",
              "      <td>38.674999</td>\n",
              "      <td>-78.632459</td>\n",
              "      <td>0</td>\n",
              "    </tr>\n",
              "  </tbody>\n",
              "</table>\n",
              "</div>"
            ],
            "text/plain": [
              "   Unnamed: 0 trans_date_trans_time  ...  merch_long is_fraud\n",
              "0           0   2019-01-01 00:00:18  ...  -82.048315        0\n",
              "1           1   2019-01-01 00:00:44  ... -118.186462        0\n",
              "2           2   2019-01-01 00:00:51  ... -112.154481        0\n",
              "3           3   2019-01-01 00:01:16  ... -112.561071        0\n",
              "4           4   2019-01-01 00:03:06  ...  -78.632459        0\n",
              "\n",
              "[5 rows x 23 columns]"
            ]
          },
          "metadata": {},
          "execution_count": 6
        }
      ]
    },
    {
      "cell_type": "code",
      "metadata": {
        "id": "gL1iPm9n6Il8",
        "colab": {
          "base_uri": "https://localhost:8080/",
          "height": 469
        },
        "outputId": "9c15b62c-4773-4ace-9801-bd63b56b184b"
      },
      "source": [
        "df.tail(5)"
      ],
      "execution_count": null,
      "outputs": [
        {
          "output_type": "execute_result",
          "data": {
            "text/html": [
              "<div>\n",
              "<style scoped>\n",
              "    .dataframe tbody tr th:only-of-type {\n",
              "        vertical-align: middle;\n",
              "    }\n",
              "\n",
              "    .dataframe tbody tr th {\n",
              "        vertical-align: top;\n",
              "    }\n",
              "\n",
              "    .dataframe thead th {\n",
              "        text-align: right;\n",
              "    }\n",
              "</style>\n",
              "<table border=\"1\" class=\"dataframe\">\n",
              "  <thead>\n",
              "    <tr style=\"text-align: right;\">\n",
              "      <th></th>\n",
              "      <th>Unnamed: 0</th>\n",
              "      <th>trans_date_trans_time</th>\n",
              "      <th>cc_num</th>\n",
              "      <th>merchant</th>\n",
              "      <th>category</th>\n",
              "      <th>amt</th>\n",
              "      <th>first</th>\n",
              "      <th>last</th>\n",
              "      <th>gender</th>\n",
              "      <th>street</th>\n",
              "      <th>city</th>\n",
              "      <th>state</th>\n",
              "      <th>zip</th>\n",
              "      <th>lat</th>\n",
              "      <th>long</th>\n",
              "      <th>city_pop</th>\n",
              "      <th>job</th>\n",
              "      <th>dob</th>\n",
              "      <th>trans_num</th>\n",
              "      <th>unix_time</th>\n",
              "      <th>merch_lat</th>\n",
              "      <th>merch_long</th>\n",
              "      <th>is_fraud</th>\n",
              "    </tr>\n",
              "  </thead>\n",
              "  <tbody>\n",
              "    <tr>\n",
              "      <th>1296670</th>\n",
              "      <td>1296670</td>\n",
              "      <td>2020-06-21 12:12:08</td>\n",
              "      <td>30263540414123</td>\n",
              "      <td>fraud_Reichel Inc</td>\n",
              "      <td>entertainment</td>\n",
              "      <td>15.56</td>\n",
              "      <td>Erik</td>\n",
              "      <td>Patterson</td>\n",
              "      <td>M</td>\n",
              "      <td>162 Jessica Row Apt. 072</td>\n",
              "      <td>Hatch</td>\n",
              "      <td>UT</td>\n",
              "      <td>84735</td>\n",
              "      <td>37.7175</td>\n",
              "      <td>-112.4777</td>\n",
              "      <td>258</td>\n",
              "      <td>Geoscientist</td>\n",
              "      <td>1961-11-24</td>\n",
              "      <td>440b587732da4dc1a6395aba5fb41669</td>\n",
              "      <td>1371816728</td>\n",
              "      <td>36.841266</td>\n",
              "      <td>-111.690765</td>\n",
              "      <td>0</td>\n",
              "    </tr>\n",
              "    <tr>\n",
              "      <th>1296671</th>\n",
              "      <td>1296671</td>\n",
              "      <td>2020-06-21 12:12:19</td>\n",
              "      <td>6011149206456997</td>\n",
              "      <td>fraud_Abernathy and Sons</td>\n",
              "      <td>food_dining</td>\n",
              "      <td>51.70</td>\n",
              "      <td>Jeffrey</td>\n",
              "      <td>White</td>\n",
              "      <td>M</td>\n",
              "      <td>8617 Holmes Terrace Suite 651</td>\n",
              "      <td>Tuscarora</td>\n",
              "      <td>MD</td>\n",
              "      <td>21790</td>\n",
              "      <td>39.2667</td>\n",
              "      <td>-77.5101</td>\n",
              "      <td>100</td>\n",
              "      <td>Production assistant, television</td>\n",
              "      <td>1979-12-11</td>\n",
              "      <td>278000d2e0d2277d1de2f890067dcc0a</td>\n",
              "      <td>1371816739</td>\n",
              "      <td>38.906881</td>\n",
              "      <td>-78.246528</td>\n",
              "      <td>0</td>\n",
              "    </tr>\n",
              "    <tr>\n",
              "      <th>1296672</th>\n",
              "      <td>1296672</td>\n",
              "      <td>2020-06-21 12:12:32</td>\n",
              "      <td>3514865930894695</td>\n",
              "      <td>fraud_Stiedemann Ltd</td>\n",
              "      <td>food_dining</td>\n",
              "      <td>105.93</td>\n",
              "      <td>Christopher</td>\n",
              "      <td>Castaneda</td>\n",
              "      <td>M</td>\n",
              "      <td>1632 Cohen Drive Suite 639</td>\n",
              "      <td>High Rolls Mountain Park</td>\n",
              "      <td>NM</td>\n",
              "      <td>88325</td>\n",
              "      <td>32.9396</td>\n",
              "      <td>-105.8189</td>\n",
              "      <td>899</td>\n",
              "      <td>Naval architect</td>\n",
              "      <td>1967-08-30</td>\n",
              "      <td>483f52fe67fabef353d552c1e662974c</td>\n",
              "      <td>1371816752</td>\n",
              "      <td>33.619513</td>\n",
              "      <td>-105.130529</td>\n",
              "      <td>0</td>\n",
              "    </tr>\n",
              "    <tr>\n",
              "      <th>1296673</th>\n",
              "      <td>1296673</td>\n",
              "      <td>2020-06-21 12:13:36</td>\n",
              "      <td>2720012583106919</td>\n",
              "      <td>fraud_Reinger, Weissnat and Strosin</td>\n",
              "      <td>food_dining</td>\n",
              "      <td>74.90</td>\n",
              "      <td>Joseph</td>\n",
              "      <td>Murray</td>\n",
              "      <td>M</td>\n",
              "      <td>42933 Ryan Underpass</td>\n",
              "      <td>Manderson</td>\n",
              "      <td>SD</td>\n",
              "      <td>57756</td>\n",
              "      <td>43.3526</td>\n",
              "      <td>-102.5411</td>\n",
              "      <td>1126</td>\n",
              "      <td>Volunteer coordinator</td>\n",
              "      <td>1980-08-18</td>\n",
              "      <td>d667cdcbadaaed3da3f4020e83591c83</td>\n",
              "      <td>1371816816</td>\n",
              "      <td>42.788940</td>\n",
              "      <td>-103.241160</td>\n",
              "      <td>0</td>\n",
              "    </tr>\n",
              "    <tr>\n",
              "      <th>1296674</th>\n",
              "      <td>1296674</td>\n",
              "      <td>2020-06-21 12:13:37</td>\n",
              "      <td>4292902571056973207</td>\n",
              "      <td>fraud_Langosh, Wintheiser and Hyatt</td>\n",
              "      <td>food_dining</td>\n",
              "      <td>4.30</td>\n",
              "      <td>Jeffrey</td>\n",
              "      <td>Smith</td>\n",
              "      <td>M</td>\n",
              "      <td>135 Joseph Mountains</td>\n",
              "      <td>Sula</td>\n",
              "      <td>MT</td>\n",
              "      <td>59871</td>\n",
              "      <td>45.8433</td>\n",
              "      <td>-113.8748</td>\n",
              "      <td>218</td>\n",
              "      <td>Therapist, horticultural</td>\n",
              "      <td>1995-08-16</td>\n",
              "      <td>8f7c8e4ab7f25875d753b422917c98c9</td>\n",
              "      <td>1371816817</td>\n",
              "      <td>46.565983</td>\n",
              "      <td>-114.186110</td>\n",
              "      <td>0</td>\n",
              "    </tr>\n",
              "  </tbody>\n",
              "</table>\n",
              "</div>"
            ],
            "text/plain": [
              "         Unnamed: 0 trans_date_trans_time  ...  merch_long is_fraud\n",
              "1296670     1296670   2020-06-21 12:12:08  ... -111.690765        0\n",
              "1296671     1296671   2020-06-21 12:12:19  ...  -78.246528        0\n",
              "1296672     1296672   2020-06-21 12:12:32  ... -105.130529        0\n",
              "1296673     1296673   2020-06-21 12:13:36  ... -103.241160        0\n",
              "1296674     1296674   2020-06-21 12:13:37  ... -114.186110        0\n",
              "\n",
              "[5 rows x 23 columns]"
            ]
          },
          "metadata": {},
          "execution_count": 7
        }
      ]
    },
    {
      "cell_type": "code",
      "metadata": {
        "id": "GOOxm8h86Ipa",
        "colab": {
          "base_uri": "https://localhost:8080/",
          "height": 417
        },
        "outputId": "76578062-86ad-44a9-a5ee-da2c00723542"
      },
      "source": [
        "df.sample(5)"
      ],
      "execution_count": null,
      "outputs": [
        {
          "output_type": "execute_result",
          "data": {
            "text/html": [
              "<div>\n",
              "<style scoped>\n",
              "    .dataframe tbody tr th:only-of-type {\n",
              "        vertical-align: middle;\n",
              "    }\n",
              "\n",
              "    .dataframe tbody tr th {\n",
              "        vertical-align: top;\n",
              "    }\n",
              "\n",
              "    .dataframe thead th {\n",
              "        text-align: right;\n",
              "    }\n",
              "</style>\n",
              "<table border=\"1\" class=\"dataframe\">\n",
              "  <thead>\n",
              "    <tr style=\"text-align: right;\">\n",
              "      <th></th>\n",
              "      <th>Unnamed: 0</th>\n",
              "      <th>trans_date_trans_time</th>\n",
              "      <th>cc_num</th>\n",
              "      <th>merchant</th>\n",
              "      <th>category</th>\n",
              "      <th>amt</th>\n",
              "      <th>first</th>\n",
              "      <th>last</th>\n",
              "      <th>gender</th>\n",
              "      <th>street</th>\n",
              "      <th>city</th>\n",
              "      <th>state</th>\n",
              "      <th>zip</th>\n",
              "      <th>lat</th>\n",
              "      <th>long</th>\n",
              "      <th>city_pop</th>\n",
              "      <th>job</th>\n",
              "      <th>dob</th>\n",
              "      <th>trans_num</th>\n",
              "      <th>unix_time</th>\n",
              "      <th>merch_lat</th>\n",
              "      <th>merch_long</th>\n",
              "      <th>is_fraud</th>\n",
              "    </tr>\n",
              "  </thead>\n",
              "  <tbody>\n",
              "    <tr>\n",
              "      <th>730357</th>\n",
              "      <td>730357</td>\n",
              "      <td>2019-11-08 16:01:14</td>\n",
              "      <td>4570636521433188</td>\n",
              "      <td>fraud_Fadel Inc</td>\n",
              "      <td>health_fitness</td>\n",
              "      <td>16.36</td>\n",
              "      <td>Christine</td>\n",
              "      <td>Leblanc</td>\n",
              "      <td>F</td>\n",
              "      <td>5097 Jodi Vista Suite 811</td>\n",
              "      <td>Deltona</td>\n",
              "      <td>FL</td>\n",
              "      <td>32725</td>\n",
              "      <td>28.8989</td>\n",
              "      <td>-81.2473</td>\n",
              "      <td>88735</td>\n",
              "      <td>Commercial horticulturist</td>\n",
              "      <td>1988-04-09</td>\n",
              "      <td>786feef441d363feb4dcc455108713c0</td>\n",
              "      <td>1352390474</td>\n",
              "      <td>29.490974</td>\n",
              "      <td>-81.290427</td>\n",
              "      <td>0</td>\n",
              "    </tr>\n",
              "    <tr>\n",
              "      <th>531897</th>\n",
              "      <td>531897</td>\n",
              "      <td>2019-08-17 07:16:24</td>\n",
              "      <td>4640395708703</td>\n",
              "      <td>fraud_Stokes, Christiansen and Sipes</td>\n",
              "      <td>grocery_net</td>\n",
              "      <td>42.83</td>\n",
              "      <td>Melissa</td>\n",
              "      <td>Krause</td>\n",
              "      <td>F</td>\n",
              "      <td>67632 Martin Gateway</td>\n",
              "      <td>Fordoche</td>\n",
              "      <td>LA</td>\n",
              "      <td>70732</td>\n",
              "      <td>30.6576</td>\n",
              "      <td>-91.6264</td>\n",
              "      <td>1178</td>\n",
              "      <td>Community education officer</td>\n",
              "      <td>1951-06-13</td>\n",
              "      <td>0a1290f8f277cdb31a10804138c8d073</td>\n",
              "      <td>1345187784</td>\n",
              "      <td>30.306709</td>\n",
              "      <td>-91.533721</td>\n",
              "      <td>0</td>\n",
              "    </tr>\n",
              "    <tr>\n",
              "      <th>119364</th>\n",
              "      <td>119364</td>\n",
              "      <td>2019-03-08 16:43:39</td>\n",
              "      <td>639046421587</td>\n",
              "      <td>fraud_Barton LLC</td>\n",
              "      <td>kids_pets</td>\n",
              "      <td>51.58</td>\n",
              "      <td>Dylan</td>\n",
              "      <td>Bonilla</td>\n",
              "      <td>M</td>\n",
              "      <td>2497 John Motorway Suite 922</td>\n",
              "      <td>Leetsdale</td>\n",
              "      <td>PA</td>\n",
              "      <td>15056</td>\n",
              "      <td>40.5662</td>\n",
              "      <td>-80.2099</td>\n",
              "      <td>1140</td>\n",
              "      <td>Administrator, education</td>\n",
              "      <td>1986-06-20</td>\n",
              "      <td>7e7cd6fbc891d2492f650edec2a2ea93</td>\n",
              "      <td>1331225019</td>\n",
              "      <td>40.331410</td>\n",
              "      <td>-79.390852</td>\n",
              "      <td>0</td>\n",
              "    </tr>\n",
              "    <tr>\n",
              "      <th>841301</th>\n",
              "      <td>841301</td>\n",
              "      <td>2019-12-13 22:45:18</td>\n",
              "      <td>4334230547694630</td>\n",
              "      <td>fraud_Ernser-Lynch</td>\n",
              "      <td>food_dining</td>\n",
              "      <td>54.63</td>\n",
              "      <td>Scott</td>\n",
              "      <td>Martin</td>\n",
              "      <td>M</td>\n",
              "      <td>7483 Navarro Flats</td>\n",
              "      <td>Freedom</td>\n",
              "      <td>WY</td>\n",
              "      <td>83120</td>\n",
              "      <td>43.0172</td>\n",
              "      <td>-111.0292</td>\n",
              "      <td>471</td>\n",
              "      <td>Education officer, museum</td>\n",
              "      <td>1967-08-02</td>\n",
              "      <td>22c55748cb46f587608e7350ece85a4d</td>\n",
              "      <td>1355438718</td>\n",
              "      <td>43.335723</td>\n",
              "      <td>-111.159900</td>\n",
              "      <td>0</td>\n",
              "    </tr>\n",
              "    <tr>\n",
              "      <th>45601</th>\n",
              "      <td>45601</td>\n",
              "      <td>2019-01-28 01:49:23</td>\n",
              "      <td>4841313716651064</td>\n",
              "      <td>fraud_Bradtke PLC</td>\n",
              "      <td>grocery_pos</td>\n",
              "      <td>106.87</td>\n",
              "      <td>Omar</td>\n",
              "      <td>Gay</td>\n",
              "      <td>M</td>\n",
              "      <td>2161 Blankenship Freeway</td>\n",
              "      <td>West Hartford</td>\n",
              "      <td>VT</td>\n",
              "      <td>5084</td>\n",
              "      <td>43.7185</td>\n",
              "      <td>-72.4439</td>\n",
              "      <td>140</td>\n",
              "      <td>Development worker, community</td>\n",
              "      <td>1989-10-28</td>\n",
              "      <td>56b36e69b055f11aa70fb1b38286ebfd</td>\n",
              "      <td>1327715363</td>\n",
              "      <td>43.930310</td>\n",
              "      <td>-72.263676</td>\n",
              "      <td>0</td>\n",
              "    </tr>\n",
              "  </tbody>\n",
              "</table>\n",
              "</div>"
            ],
            "text/plain": [
              "        Unnamed: 0 trans_date_trans_time  ...  merch_long is_fraud\n",
              "730357      730357   2019-11-08 16:01:14  ...  -81.290427        0\n",
              "531897      531897   2019-08-17 07:16:24  ...  -91.533721        0\n",
              "119364      119364   2019-03-08 16:43:39  ...  -79.390852        0\n",
              "841301      841301   2019-12-13 22:45:18  ... -111.159900        0\n",
              "45601        45601   2019-01-28 01:49:23  ...  -72.263676        0\n",
              "\n",
              "[5 rows x 23 columns]"
            ]
          },
          "metadata": {},
          "execution_count": 8
        }
      ]
    },
    {
      "cell_type": "markdown",
      "metadata": {
        "id": "yYp79sQn6Wd6"
      },
      "source": [
        "# **Data Preprocessing**"
      ]
    },
    {
      "cell_type": "code",
      "metadata": {
        "id": "Tz1DKGun6Zmo",
        "colab": {
          "base_uri": "https://localhost:8080/"
        },
        "outputId": "0a6d7ba7-cdac-44c1-d9fe-643354f8c74b"
      },
      "source": [
        "df.info()"
      ],
      "execution_count": null,
      "outputs": [
        {
          "output_type": "stream",
          "name": "stdout",
          "text": [
            "<class 'pandas.core.frame.DataFrame'>\n",
            "RangeIndex: 1296675 entries, 0 to 1296674\n",
            "Data columns (total 23 columns):\n",
            " #   Column                 Non-Null Count    Dtype  \n",
            "---  ------                 --------------    -----  \n",
            " 0   Unnamed: 0             1296675 non-null  int64  \n",
            " 1   trans_date_trans_time  1296675 non-null  object \n",
            " 2   cc_num                 1296675 non-null  int64  \n",
            " 3   merchant               1296675 non-null  object \n",
            " 4   category               1296675 non-null  object \n",
            " 5   amt                    1296675 non-null  float64\n",
            " 6   first                  1296675 non-null  object \n",
            " 7   last                   1296675 non-null  object \n",
            " 8   gender                 1296675 non-null  object \n",
            " 9   street                 1296675 non-null  object \n",
            " 10  city                   1296675 non-null  object \n",
            " 11  state                  1296675 non-null  object \n",
            " 12  zip                    1296675 non-null  int64  \n",
            " 13  lat                    1296675 non-null  float64\n",
            " 14  long                   1296675 non-null  float64\n",
            " 15  city_pop               1296675 non-null  int64  \n",
            " 16  job                    1296675 non-null  object \n",
            " 17  dob                    1296675 non-null  object \n",
            " 18  trans_num              1296675 non-null  object \n",
            " 19  unix_time              1296675 non-null  int64  \n",
            " 20  merch_lat              1296675 non-null  float64\n",
            " 21  merch_long             1296675 non-null  float64\n",
            " 22  is_fraud               1296675 non-null  int64  \n",
            "dtypes: float64(5), int64(6), object(12)\n",
            "memory usage: 227.5+ MB\n"
          ]
        }
      ]
    },
    {
      "cell_type": "code",
      "metadata": {
        "id": "VNsm_hqa6hJO",
        "colab": {
          "base_uri": "https://localhost:8080/",
          "height": 300
        },
        "outputId": "c3f44800-e6df-48e5-c18c-e1a562c68103"
      },
      "source": [
        "df.describe()"
      ],
      "execution_count": null,
      "outputs": [
        {
          "output_type": "execute_result",
          "data": {
            "text/html": [
              "<div>\n",
              "<style scoped>\n",
              "    .dataframe tbody tr th:only-of-type {\n",
              "        vertical-align: middle;\n",
              "    }\n",
              "\n",
              "    .dataframe tbody tr th {\n",
              "        vertical-align: top;\n",
              "    }\n",
              "\n",
              "    .dataframe thead th {\n",
              "        text-align: right;\n",
              "    }\n",
              "</style>\n",
              "<table border=\"1\" class=\"dataframe\">\n",
              "  <thead>\n",
              "    <tr style=\"text-align: right;\">\n",
              "      <th></th>\n",
              "      <th>Unnamed: 0</th>\n",
              "      <th>cc_num</th>\n",
              "      <th>amt</th>\n",
              "      <th>zip</th>\n",
              "      <th>lat</th>\n",
              "      <th>long</th>\n",
              "      <th>city_pop</th>\n",
              "      <th>unix_time</th>\n",
              "      <th>merch_lat</th>\n",
              "      <th>merch_long</th>\n",
              "      <th>is_fraud</th>\n",
              "    </tr>\n",
              "  </thead>\n",
              "  <tbody>\n",
              "    <tr>\n",
              "      <th>count</th>\n",
              "      <td>1.296675e+06</td>\n",
              "      <td>1.296675e+06</td>\n",
              "      <td>1.296675e+06</td>\n",
              "      <td>1.296675e+06</td>\n",
              "      <td>1.296675e+06</td>\n",
              "      <td>1.296675e+06</td>\n",
              "      <td>1.296675e+06</td>\n",
              "      <td>1.296675e+06</td>\n",
              "      <td>1.296675e+06</td>\n",
              "      <td>1.296675e+06</td>\n",
              "      <td>1.296675e+06</td>\n",
              "    </tr>\n",
              "    <tr>\n",
              "      <th>mean</th>\n",
              "      <td>6.483370e+05</td>\n",
              "      <td>4.171920e+17</td>\n",
              "      <td>7.035104e+01</td>\n",
              "      <td>4.880067e+04</td>\n",
              "      <td>3.853762e+01</td>\n",
              "      <td>-9.022634e+01</td>\n",
              "      <td>8.882444e+04</td>\n",
              "      <td>1.349244e+09</td>\n",
              "      <td>3.853734e+01</td>\n",
              "      <td>-9.022646e+01</td>\n",
              "      <td>5.788652e-03</td>\n",
              "    </tr>\n",
              "    <tr>\n",
              "      <th>std</th>\n",
              "      <td>3.743180e+05</td>\n",
              "      <td>1.308806e+18</td>\n",
              "      <td>1.603160e+02</td>\n",
              "      <td>2.689322e+04</td>\n",
              "      <td>5.075808e+00</td>\n",
              "      <td>1.375908e+01</td>\n",
              "      <td>3.019564e+05</td>\n",
              "      <td>1.284128e+07</td>\n",
              "      <td>5.109788e+00</td>\n",
              "      <td>1.377109e+01</td>\n",
              "      <td>7.586269e-02</td>\n",
              "    </tr>\n",
              "    <tr>\n",
              "      <th>min</th>\n",
              "      <td>0.000000e+00</td>\n",
              "      <td>6.041621e+10</td>\n",
              "      <td>1.000000e+00</td>\n",
              "      <td>1.257000e+03</td>\n",
              "      <td>2.002710e+01</td>\n",
              "      <td>-1.656723e+02</td>\n",
              "      <td>2.300000e+01</td>\n",
              "      <td>1.325376e+09</td>\n",
              "      <td>1.902779e+01</td>\n",
              "      <td>-1.666712e+02</td>\n",
              "      <td>0.000000e+00</td>\n",
              "    </tr>\n",
              "    <tr>\n",
              "      <th>25%</th>\n",
              "      <td>3.241685e+05</td>\n",
              "      <td>1.800429e+14</td>\n",
              "      <td>9.650000e+00</td>\n",
              "      <td>2.623700e+04</td>\n",
              "      <td>3.462050e+01</td>\n",
              "      <td>-9.679800e+01</td>\n",
              "      <td>7.430000e+02</td>\n",
              "      <td>1.338751e+09</td>\n",
              "      <td>3.473357e+01</td>\n",
              "      <td>-9.689728e+01</td>\n",
              "      <td>0.000000e+00</td>\n",
              "    </tr>\n",
              "    <tr>\n",
              "      <th>50%</th>\n",
              "      <td>6.483370e+05</td>\n",
              "      <td>3.521417e+15</td>\n",
              "      <td>4.752000e+01</td>\n",
              "      <td>4.817400e+04</td>\n",
              "      <td>3.935430e+01</td>\n",
              "      <td>-8.747690e+01</td>\n",
              "      <td>2.456000e+03</td>\n",
              "      <td>1.349250e+09</td>\n",
              "      <td>3.936568e+01</td>\n",
              "      <td>-8.743839e+01</td>\n",
              "      <td>0.000000e+00</td>\n",
              "    </tr>\n",
              "    <tr>\n",
              "      <th>75%</th>\n",
              "      <td>9.725055e+05</td>\n",
              "      <td>4.642255e+15</td>\n",
              "      <td>8.314000e+01</td>\n",
              "      <td>7.204200e+04</td>\n",
              "      <td>4.194040e+01</td>\n",
              "      <td>-8.015800e+01</td>\n",
              "      <td>2.032800e+04</td>\n",
              "      <td>1.359385e+09</td>\n",
              "      <td>4.195716e+01</td>\n",
              "      <td>-8.023680e+01</td>\n",
              "      <td>0.000000e+00</td>\n",
              "    </tr>\n",
              "    <tr>\n",
              "      <th>max</th>\n",
              "      <td>1.296674e+06</td>\n",
              "      <td>4.992346e+18</td>\n",
              "      <td>2.894890e+04</td>\n",
              "      <td>9.978300e+04</td>\n",
              "      <td>6.669330e+01</td>\n",
              "      <td>-6.795030e+01</td>\n",
              "      <td>2.906700e+06</td>\n",
              "      <td>1.371817e+09</td>\n",
              "      <td>6.751027e+01</td>\n",
              "      <td>-6.695090e+01</td>\n",
              "      <td>1.000000e+00</td>\n",
              "    </tr>\n",
              "  </tbody>\n",
              "</table>\n",
              "</div>"
            ],
            "text/plain": [
              "         Unnamed: 0        cc_num  ...    merch_long      is_fraud\n",
              "count  1.296675e+06  1.296675e+06  ...  1.296675e+06  1.296675e+06\n",
              "mean   6.483370e+05  4.171920e+17  ... -9.022646e+01  5.788652e-03\n",
              "std    3.743180e+05  1.308806e+18  ...  1.377109e+01  7.586269e-02\n",
              "min    0.000000e+00  6.041621e+10  ... -1.666712e+02  0.000000e+00\n",
              "25%    3.241685e+05  1.800429e+14  ... -9.689728e+01  0.000000e+00\n",
              "50%    6.483370e+05  3.521417e+15  ... -8.743839e+01  0.000000e+00\n",
              "75%    9.725055e+05  4.642255e+15  ... -8.023680e+01  0.000000e+00\n",
              "max    1.296674e+06  4.992346e+18  ... -6.695090e+01  1.000000e+00\n",
              "\n",
              "[8 rows x 11 columns]"
            ]
          },
          "metadata": {},
          "execution_count": 10
        }
      ]
    },
    {
      "cell_type": "code",
      "metadata": {
        "id": "VFHLpzqj6hLV",
        "colab": {
          "base_uri": "https://localhost:8080/",
          "height": 300
        },
        "outputId": "88ead111-c62c-4e7e-b0d7-f1fcdd2878de"
      },
      "source": [
        "df[['amt','unix_time']].describe()"
      ],
      "execution_count": null,
      "outputs": [
        {
          "output_type": "execute_result",
          "data": {
            "text/html": [
              "<div>\n",
              "<style scoped>\n",
              "    .dataframe tbody tr th:only-of-type {\n",
              "        vertical-align: middle;\n",
              "    }\n",
              "\n",
              "    .dataframe tbody tr th {\n",
              "        vertical-align: top;\n",
              "    }\n",
              "\n",
              "    .dataframe thead th {\n",
              "        text-align: right;\n",
              "    }\n",
              "</style>\n",
              "<table border=\"1\" class=\"dataframe\">\n",
              "  <thead>\n",
              "    <tr style=\"text-align: right;\">\n",
              "      <th></th>\n",
              "      <th>amt</th>\n",
              "      <th>unix_time</th>\n",
              "    </tr>\n",
              "  </thead>\n",
              "  <tbody>\n",
              "    <tr>\n",
              "      <th>count</th>\n",
              "      <td>1.296675e+06</td>\n",
              "      <td>1.296675e+06</td>\n",
              "    </tr>\n",
              "    <tr>\n",
              "      <th>mean</th>\n",
              "      <td>7.035104e+01</td>\n",
              "      <td>1.349244e+09</td>\n",
              "    </tr>\n",
              "    <tr>\n",
              "      <th>std</th>\n",
              "      <td>1.603160e+02</td>\n",
              "      <td>1.284128e+07</td>\n",
              "    </tr>\n",
              "    <tr>\n",
              "      <th>min</th>\n",
              "      <td>1.000000e+00</td>\n",
              "      <td>1.325376e+09</td>\n",
              "    </tr>\n",
              "    <tr>\n",
              "      <th>25%</th>\n",
              "      <td>9.650000e+00</td>\n",
              "      <td>1.338751e+09</td>\n",
              "    </tr>\n",
              "    <tr>\n",
              "      <th>50%</th>\n",
              "      <td>4.752000e+01</td>\n",
              "      <td>1.349250e+09</td>\n",
              "    </tr>\n",
              "    <tr>\n",
              "      <th>75%</th>\n",
              "      <td>8.314000e+01</td>\n",
              "      <td>1.359385e+09</td>\n",
              "    </tr>\n",
              "    <tr>\n",
              "      <th>max</th>\n",
              "      <td>2.894890e+04</td>\n",
              "      <td>1.371817e+09</td>\n",
              "    </tr>\n",
              "  </tbody>\n",
              "</table>\n",
              "</div>"
            ],
            "text/plain": [
              "                amt     unix_time\n",
              "count  1.296675e+06  1.296675e+06\n",
              "mean   7.035104e+01  1.349244e+09\n",
              "std    1.603160e+02  1.284128e+07\n",
              "min    1.000000e+00  1.325376e+09\n",
              "25%    9.650000e+00  1.338751e+09\n",
              "50%    4.752000e+01  1.349250e+09\n",
              "75%    8.314000e+01  1.359385e+09\n",
              "max    2.894890e+04  1.371817e+09"
            ]
          },
          "metadata": {},
          "execution_count": 11
        }
      ]
    },
    {
      "cell_type": "code",
      "metadata": {
        "id": "R_fYtD-v6hO7",
        "colab": {
          "base_uri": "https://localhost:8080/"
        },
        "outputId": "800ae494-06ac-49ac-84fd-be2b66b4697c"
      },
      "source": [
        "#null values\n",
        "df.isnull().sum()"
      ],
      "execution_count": null,
      "outputs": [
        {
          "output_type": "execute_result",
          "data": {
            "text/plain": [
              "Unnamed: 0               0\n",
              "trans_date_trans_time    0\n",
              "cc_num                   0\n",
              "merchant                 0\n",
              "category                 0\n",
              "amt                      0\n",
              "first                    0\n",
              "last                     0\n",
              "gender                   0\n",
              "street                   0\n",
              "city                     0\n",
              "state                    0\n",
              "zip                      0\n",
              "lat                      0\n",
              "long                     0\n",
              "city_pop                 0\n",
              "job                      0\n",
              "dob                      0\n",
              "trans_num                0\n",
              "unix_time                0\n",
              "merch_lat                0\n",
              "merch_long               0\n",
              "is_fraud                 0\n",
              "dtype: int64"
            ]
          },
          "metadata": {},
          "execution_count": 12
        }
      ]
    },
    {
      "cell_type": "code",
      "metadata": {
        "id": "0au47eBiJ0ix",
        "colab": {
          "base_uri": "https://localhost:8080/"
        },
        "outputId": "4d3b2b08-4a93-4230-9b48-cf1f5d6009e9"
      },
      "source": [
        "df.duplicated().sum()"
      ],
      "execution_count": null,
      "outputs": [
        {
          "output_type": "execute_result",
          "data": {
            "text/plain": [
              "0"
            ]
          },
          "metadata": {},
          "execution_count": 13
        }
      ]
    },
    {
      "cell_type": "code",
      "metadata": {
        "id": "TJtYvUy2K9yZ"
      },
      "source": [
        "import time\n",
        "import datetime\n",
        "df['dob']= pd.to_datetime(df['dob'])\n",
        "df['age'] = np.rint((pd.to_datetime('now') - df['dob']) / np.timedelta64(1, 'Y'))\n",
        "df.drop(['dob'],inplace=True,axis=1)"
      ],
      "execution_count": null,
      "outputs": []
    },
    {
      "cell_type": "code",
      "metadata": {
        "id": "T2eCVKY06vDA",
        "colab": {
          "base_uri": "https://localhost:8080/",
          "height": 426
        },
        "outputId": "bd87ddbd-1169-4c74-d1a4-e4f2390e1976"
      },
      "source": [
        "# fraud transactions\n",
        "fraud_stats = df[df['is_fraud'] == 1].describe().transpose().reset_index()\n",
        "fraud_stats = fraud_stats.rename(columns = {\"index\" : \"Features\"})\n",
        "fraud_stats = np.around(fraud_stats,3)\n",
        "fraud_stats"
      ],
      "execution_count": null,
      "outputs": [
        {
          "output_type": "execute_result",
          "data": {
            "text/html": [
              "<div>\n",
              "<style scoped>\n",
              "    .dataframe tbody tr th:only-of-type {\n",
              "        vertical-align: middle;\n",
              "    }\n",
              "\n",
              "    .dataframe tbody tr th {\n",
              "        vertical-align: top;\n",
              "    }\n",
              "\n",
              "    .dataframe thead th {\n",
              "        text-align: right;\n",
              "    }\n",
              "</style>\n",
              "<table border=\"1\" class=\"dataframe\">\n",
              "  <thead>\n",
              "    <tr style=\"text-align: right;\">\n",
              "      <th></th>\n",
              "      <th>Features</th>\n",
              "      <th>count</th>\n",
              "      <th>mean</th>\n",
              "      <th>std</th>\n",
              "      <th>min</th>\n",
              "      <th>25%</th>\n",
              "      <th>50%</th>\n",
              "      <th>75%</th>\n",
              "      <th>max</th>\n",
              "    </tr>\n",
              "  </thead>\n",
              "  <tbody>\n",
              "    <tr>\n",
              "      <th>0</th>\n",
              "      <td>Unnamed: 0</td>\n",
              "      <td>7506.0</td>\n",
              "      <td>6.249497e+05</td>\n",
              "      <td>4.010560e+05</td>\n",
              "      <td>2.449000e+03</td>\n",
              "      <td>2.398565e+05</td>\n",
              "      <td>6.381620e+05</td>\n",
              "      <td>9.849215e+05</td>\n",
              "      <td>1.295733e+06</td>\n",
              "    </tr>\n",
              "    <tr>\n",
              "      <th>1</th>\n",
              "      <td>cc_num</td>\n",
              "      <td>7506.0</td>\n",
              "      <td>4.003577e+17</td>\n",
              "      <td>1.276871e+18</td>\n",
              "      <td>6.041621e+10</td>\n",
              "      <td>1.800429e+14</td>\n",
              "      <td>3.528041e+15</td>\n",
              "      <td>4.651007e+15</td>\n",
              "      <td>4.992346e+18</td>\n",
              "    </tr>\n",
              "    <tr>\n",
              "      <th>2</th>\n",
              "      <td>amt</td>\n",
              "      <td>7506.0</td>\n",
              "      <td>5.313200e+02</td>\n",
              "      <td>3.905600e+02</td>\n",
              "      <td>1.060000e+00</td>\n",
              "      <td>2.456620e+02</td>\n",
              "      <td>3.965050e+02</td>\n",
              "      <td>9.008750e+02</td>\n",
              "      <td>1.376040e+03</td>\n",
              "    </tr>\n",
              "    <tr>\n",
              "      <th>3</th>\n",
              "      <td>zip</td>\n",
              "      <td>7506.0</td>\n",
              "      <td>4.803871e+04</td>\n",
              "      <td>2.726556e+04</td>\n",
              "      <td>1.330000e+03</td>\n",
              "      <td>2.492700e+04</td>\n",
              "      <td>4.629000e+04</td>\n",
              "      <td>7.110700e+04</td>\n",
              "      <td>9.978300e+04</td>\n",
              "    </tr>\n",
              "    <tr>\n",
              "      <th>4</th>\n",
              "      <td>lat</td>\n",
              "      <td>7506.0</td>\n",
              "      <td>3.866400e+01</td>\n",
              "      <td>5.172000e+00</td>\n",
              "      <td>2.002700e+01</td>\n",
              "      <td>3.505600e+01</td>\n",
              "      <td>3.943400e+01</td>\n",
              "      <td>4.207300e+01</td>\n",
              "      <td>6.669300e+01</td>\n",
              "    </tr>\n",
              "    <tr>\n",
              "      <th>5</th>\n",
              "      <td>long</td>\n",
              "      <td>7506.0</td>\n",
              "      <td>-8.991600e+01</td>\n",
              "      <td>1.427800e+01</td>\n",
              "      <td>-1.656720e+02</td>\n",
              "      <td>-9.670100e+01</td>\n",
              "      <td>-8.669200e+01</td>\n",
              "      <td>-7.994200e+01</td>\n",
              "      <td>-6.855600e+01</td>\n",
              "    </tr>\n",
              "    <tr>\n",
              "      <th>6</th>\n",
              "      <td>city_pop</td>\n",
              "      <td>7506.0</td>\n",
              "      <td>9.727676e+04</td>\n",
              "      <td>3.265815e+05</td>\n",
              "      <td>2.300000e+01</td>\n",
              "      <td>7.465000e+02</td>\n",
              "      <td>2.623000e+03</td>\n",
              "      <td>2.143700e+04</td>\n",
              "      <td>2.906700e+06</td>\n",
              "    </tr>\n",
              "    <tr>\n",
              "      <th>7</th>\n",
              "      <td>unix_time</td>\n",
              "      <td>7506.0</td>\n",
              "      <td>1.348389e+09</td>\n",
              "      <td>1.383020e+07</td>\n",
              "      <td>1.325466e+09</td>\n",
              "      <td>1.335744e+09</td>\n",
              "      <td>1.348872e+09</td>\n",
              "      <td>1.360021e+09</td>\n",
              "      <td>1.371787e+09</td>\n",
              "    </tr>\n",
              "    <tr>\n",
              "      <th>8</th>\n",
              "      <td>merch_lat</td>\n",
              "      <td>7506.0</td>\n",
              "      <td>3.865400e+01</td>\n",
              "      <td>5.218000e+00</td>\n",
              "      <td>1.942500e+01</td>\n",
              "      <td>3.511500e+01</td>\n",
              "      <td>3.942700e+01</td>\n",
              "      <td>4.198700e+01</td>\n",
              "      <td>6.751000e+01</td>\n",
              "    </tr>\n",
              "    <tr>\n",
              "      <th>9</th>\n",
              "      <td>merch_long</td>\n",
              "      <td>7506.0</td>\n",
              "      <td>-8.991600e+01</td>\n",
              "      <td>1.429900e+01</td>\n",
              "      <td>-1.665510e+02</td>\n",
              "      <td>-9.667100e+01</td>\n",
              "      <td>-8.681300e+01</td>\n",
              "      <td>-7.990700e+01</td>\n",
              "      <td>-6.756900e+01</td>\n",
              "    </tr>\n",
              "    <tr>\n",
              "      <th>10</th>\n",
              "      <td>is_fraud</td>\n",
              "      <td>7506.0</td>\n",
              "      <td>1.000000e+00</td>\n",
              "      <td>0.000000e+00</td>\n",
              "      <td>1.000000e+00</td>\n",
              "      <td>1.000000e+00</td>\n",
              "      <td>1.000000e+00</td>\n",
              "      <td>1.000000e+00</td>\n",
              "      <td>1.000000e+00</td>\n",
              "    </tr>\n",
              "    <tr>\n",
              "      <th>11</th>\n",
              "      <td>age</td>\n",
              "      <td>7506.0</td>\n",
              "      <td>5.100400e+01</td>\n",
              "      <td>1.886300e+01</td>\n",
              "      <td>1.700000e+01</td>\n",
              "      <td>3.500000e+01</td>\n",
              "      <td>5.000000e+01</td>\n",
              "      <td>6.300000e+01</td>\n",
              "      <td>9.600000e+01</td>\n",
              "    </tr>\n",
              "  </tbody>\n",
              "</table>\n",
              "</div>"
            ],
            "text/plain": [
              "      Features   count          mean  ...           50%           75%           max\n",
              "0   Unnamed: 0  7506.0  6.249497e+05  ...  6.381620e+05  9.849215e+05  1.295733e+06\n",
              "1       cc_num  7506.0  4.003577e+17  ...  3.528041e+15  4.651007e+15  4.992346e+18\n",
              "2          amt  7506.0  5.313200e+02  ...  3.965050e+02  9.008750e+02  1.376040e+03\n",
              "3          zip  7506.0  4.803871e+04  ...  4.629000e+04  7.110700e+04  9.978300e+04\n",
              "4          lat  7506.0  3.866400e+01  ...  3.943400e+01  4.207300e+01  6.669300e+01\n",
              "5         long  7506.0 -8.991600e+01  ... -8.669200e+01 -7.994200e+01 -6.855600e+01\n",
              "6     city_pop  7506.0  9.727676e+04  ...  2.623000e+03  2.143700e+04  2.906700e+06\n",
              "7    unix_time  7506.0  1.348389e+09  ...  1.348872e+09  1.360021e+09  1.371787e+09\n",
              "8    merch_lat  7506.0  3.865400e+01  ...  3.942700e+01  4.198700e+01  6.751000e+01\n",
              "9   merch_long  7506.0 -8.991600e+01  ... -8.681300e+01 -7.990700e+01 -6.756900e+01\n",
              "10    is_fraud  7506.0  1.000000e+00  ...  1.000000e+00  1.000000e+00  1.000000e+00\n",
              "11         age  7506.0  5.100400e+01  ...  5.000000e+01  6.300000e+01  9.600000e+01\n",
              "\n",
              "[12 rows x 9 columns]"
            ]
          },
          "metadata": {},
          "execution_count": 15
        }
      ]
    },
    {
      "cell_type": "code",
      "metadata": {
        "id": "OprzBTJX6vGZ",
        "colab": {
          "base_uri": "https://localhost:8080/",
          "height": 426
        },
        "outputId": "fdba58ad-1134-406e-988a-8c1af1785beb"
      },
      "source": [
        "# proper transactions\n",
        "\n",
        "proper_stats = (df[df['is_fraud'] == 0].describe().transpose().reset_index())\n",
        "proper_stats = proper_stats.rename(columns = {\"index\" : \"Features\"})\n",
        "proper_stats = np.around(proper_stats,3)\n",
        "proper_stats"
      ],
      "execution_count": null,
      "outputs": [
        {
          "output_type": "execute_result",
          "data": {
            "text/html": [
              "<div>\n",
              "<style scoped>\n",
              "    .dataframe tbody tr th:only-of-type {\n",
              "        vertical-align: middle;\n",
              "    }\n",
              "\n",
              "    .dataframe tbody tr th {\n",
              "        vertical-align: top;\n",
              "    }\n",
              "\n",
              "    .dataframe thead th {\n",
              "        text-align: right;\n",
              "    }\n",
              "</style>\n",
              "<table border=\"1\" class=\"dataframe\">\n",
              "  <thead>\n",
              "    <tr style=\"text-align: right;\">\n",
              "      <th></th>\n",
              "      <th>Features</th>\n",
              "      <th>count</th>\n",
              "      <th>mean</th>\n",
              "      <th>std</th>\n",
              "      <th>min</th>\n",
              "      <th>25%</th>\n",
              "      <th>50%</th>\n",
              "      <th>75%</th>\n",
              "      <th>max</th>\n",
              "    </tr>\n",
              "  </thead>\n",
              "  <tbody>\n",
              "    <tr>\n",
              "      <th>0</th>\n",
              "      <td>Unnamed: 0</td>\n",
              "      <td>1289169.0</td>\n",
              "      <td>6.484732e+05</td>\n",
              "      <td>3.741526e+05</td>\n",
              "      <td>0.000000e+00</td>\n",
              "      <td>3.246100e+05</td>\n",
              "      <td>6.484110e+05</td>\n",
              "      <td>9.723990e+05</td>\n",
              "      <td>1.296674e+06</td>\n",
              "    </tr>\n",
              "    <tr>\n",
              "      <th>1</th>\n",
              "      <td>cc_num</td>\n",
              "      <td>1289169.0</td>\n",
              "      <td>4.172901e+17</td>\n",
              "      <td>1.308990e+18</td>\n",
              "      <td>6.041621e+10</td>\n",
              "      <td>1.800429e+14</td>\n",
              "      <td>3.521417e+15</td>\n",
              "      <td>4.642255e+15</td>\n",
              "      <td>4.992346e+18</td>\n",
              "    </tr>\n",
              "    <tr>\n",
              "      <th>2</th>\n",
              "      <td>amt</td>\n",
              "      <td>1289169.0</td>\n",
              "      <td>6.766700e+01</td>\n",
              "      <td>1.540080e+02</td>\n",
              "      <td>1.000000e+00</td>\n",
              "      <td>9.610000e+00</td>\n",
              "      <td>4.728000e+01</td>\n",
              "      <td>8.254000e+01</td>\n",
              "      <td>2.894890e+04</td>\n",
              "    </tr>\n",
              "    <tr>\n",
              "      <th>3</th>\n",
              "      <td>zip</td>\n",
              "      <td>1289169.0</td>\n",
              "      <td>4.880511e+04</td>\n",
              "      <td>2.689099e+04</td>\n",
              "      <td>1.257000e+03</td>\n",
              "      <td>2.623700e+04</td>\n",
              "      <td>4.817400e+04</td>\n",
              "      <td>7.204200e+04</td>\n",
              "      <td>9.978300e+04</td>\n",
              "    </tr>\n",
              "    <tr>\n",
              "      <th>4</th>\n",
              "      <td>lat</td>\n",
              "      <td>1289169.0</td>\n",
              "      <td>3.853700e+01</td>\n",
              "      <td>5.075000e+00</td>\n",
              "      <td>2.002700e+01</td>\n",
              "      <td>3.462000e+01</td>\n",
              "      <td>3.935400e+01</td>\n",
              "      <td>4.194000e+01</td>\n",
              "      <td>6.569000e+01</td>\n",
              "    </tr>\n",
              "    <tr>\n",
              "      <th>5</th>\n",
              "      <td>long</td>\n",
              "      <td>1289169.0</td>\n",
              "      <td>-9.022800e+01</td>\n",
              "      <td>1.375600e+01</td>\n",
              "      <td>-1.656720e+02</td>\n",
              "      <td>-9.679800e+01</td>\n",
              "      <td>-8.747700e+01</td>\n",
              "      <td>-8.015800e+01</td>\n",
              "      <td>-6.795000e+01</td>\n",
              "    </tr>\n",
              "    <tr>\n",
              "      <th>6</th>\n",
              "      <td>city_pop</td>\n",
              "      <td>1289169.0</td>\n",
              "      <td>8.877523e+04</td>\n",
              "      <td>3.018065e+05</td>\n",
              "      <td>2.300000e+01</td>\n",
              "      <td>7.430000e+02</td>\n",
              "      <td>2.456000e+03</td>\n",
              "      <td>2.032800e+04</td>\n",
              "      <td>2.906700e+06</td>\n",
              "    </tr>\n",
              "    <tr>\n",
              "      <th>7</th>\n",
              "      <td>unix_time</td>\n",
              "      <td>1289169.0</td>\n",
              "      <td>1.349249e+09</td>\n",
              "      <td>1.283514e+07</td>\n",
              "      <td>1.325376e+09</td>\n",
              "      <td>1.338759e+09</td>\n",
              "      <td>1.349254e+09</td>\n",
              "      <td>1.359378e+09</td>\n",
              "      <td>1.371817e+09</td>\n",
              "    </tr>\n",
              "    <tr>\n",
              "      <th>8</th>\n",
              "      <td>merch_lat</td>\n",
              "      <td>1289169.0</td>\n",
              "      <td>3.853700e+01</td>\n",
              "      <td>5.109000e+00</td>\n",
              "      <td>1.902800e+01</td>\n",
              "      <td>3.473100e+01</td>\n",
              "      <td>3.936500e+01</td>\n",
              "      <td>4.195700e+01</td>\n",
              "      <td>6.668300e+01</td>\n",
              "    </tr>\n",
              "    <tr>\n",
              "      <th>9</th>\n",
              "      <td>merch_long</td>\n",
              "      <td>1289169.0</td>\n",
              "      <td>-9.022800e+01</td>\n",
              "      <td>1.376800e+01</td>\n",
              "      <td>-1.666710e+02</td>\n",
              "      <td>-9.689900e+01</td>\n",
              "      <td>-8.744100e+01</td>\n",
              "      <td>-8.023900e+01</td>\n",
              "      <td>-6.695100e+01</td>\n",
              "    </tr>\n",
              "    <tr>\n",
              "      <th>10</th>\n",
              "      <td>is_fraud</td>\n",
              "      <td>1289169.0</td>\n",
              "      <td>0.000000e+00</td>\n",
              "      <td>0.000000e+00</td>\n",
              "      <td>0.000000e+00</td>\n",
              "      <td>0.000000e+00</td>\n",
              "      <td>0.000000e+00</td>\n",
              "      <td>0.000000e+00</td>\n",
              "      <td>0.000000e+00</td>\n",
              "    </tr>\n",
              "    <tr>\n",
              "      <th>11</th>\n",
              "      <td>age</td>\n",
              "      <td>1289169.0</td>\n",
              "      <td>4.815900e+01</td>\n",
              "      <td>1.738500e+01</td>\n",
              "      <td>1.700000e+01</td>\n",
              "      <td>3.500000e+01</td>\n",
              "      <td>4.600000e+01</td>\n",
              "      <td>5.900000e+01</td>\n",
              "      <td>9.700000e+01</td>\n",
              "    </tr>\n",
              "  </tbody>\n",
              "</table>\n",
              "</div>"
            ],
            "text/plain": [
              "      Features      count  ...           75%           max\n",
              "0   Unnamed: 0  1289169.0  ...  9.723990e+05  1.296674e+06\n",
              "1       cc_num  1289169.0  ...  4.642255e+15  4.992346e+18\n",
              "2          amt  1289169.0  ...  8.254000e+01  2.894890e+04\n",
              "3          zip  1289169.0  ...  7.204200e+04  9.978300e+04\n",
              "4          lat  1289169.0  ...  4.194000e+01  6.569000e+01\n",
              "5         long  1289169.0  ... -8.015800e+01 -6.795000e+01\n",
              "6     city_pop  1289169.0  ...  2.032800e+04  2.906700e+06\n",
              "7    unix_time  1289169.0  ...  1.359378e+09  1.371817e+09\n",
              "8    merch_lat  1289169.0  ...  4.195700e+01  6.668300e+01\n",
              "9   merch_long  1289169.0  ... -8.023900e+01 -6.695100e+01\n",
              "10    is_fraud  1289169.0  ...  0.000000e+00  0.000000e+00\n",
              "11         age  1289169.0  ...  5.900000e+01  9.700000e+01\n",
              "\n",
              "[12 rows x 9 columns]"
            ]
          },
          "metadata": {},
          "execution_count": 16
        }
      ]
    },
    {
      "cell_type": "code",
      "metadata": {
        "id": "UGINMShBIJRM",
        "colab": {
          "base_uri": "https://localhost:8080/"
        },
        "outputId": "f3202de8-64e9-4cb5-d068-fb3d06a4d8d8"
      },
      "source": [
        "# Count of is_fraud = 1 => fraudelent transactions \n",
        "# Count of is_fraud = 0 => proper transactions\n",
        "df[\"is_fraud\"].value_counts()"
      ],
      "execution_count": null,
      "outputs": [
        {
          "output_type": "execute_result",
          "data": {
            "text/plain": [
              "0    1289169\n",
              "1       7506\n",
              "Name: is_fraud, dtype: int64"
            ]
          },
          "metadata": {},
          "execution_count": 17
        }
      ]
    },
    {
      "cell_type": "code",
      "metadata": {
        "id": "D_bRHrJdIYDy",
        "colab": {
          "base_uri": "https://localhost:8080/"
        },
        "outputId": "c5753fa9-bcf3-4f4c-8a56-c21948e016e5"
      },
      "source": [
        "# fraud vs proper transactions \n",
        "total = df[\"is_fraud\"].value_counts()\n",
        "proper = total[0]\n",
        "fraud = total[1]\n",
        "perc_of_proper = (proper/(proper+fraud))*100\n",
        "perc_of_fraud = (fraud/(proper+fraud))*100\n",
        "print('Non-fraudulent transactions : {}'.format(proper))\n",
        "print('Percentage of Non-fraudulent transactions : {:.3f}%'.format(perc_of_proper))\n",
        "print('Fraudulent transactions : {}'.format(fraud))\n",
        "print('Percentage of Fraudulent transactions : {:.3f}%'.format(perc_of_fraud))"
      ],
      "execution_count": null,
      "outputs": [
        {
          "output_type": "stream",
          "name": "stdout",
          "text": [
            "Non-fraudulent transactions : 1289169\n",
            "Percentage of Non-fraudulent transactions : 99.421%\n",
            "Fraudulent transactions : 7506\n",
            "Percentage of Fraudulent transactions : 0.579%\n"
          ]
        }
      ]
    },
    {
      "cell_type": "code",
      "metadata": {
        "id": "9gk3BZTKIdrK",
        "colab": {
          "base_uri": "https://localhost:8080/",
          "height": 296
        },
        "outputId": "aabbf81b-3950-4e8e-9f7e-83b5e9acbb00"
      },
      "source": [
        "# Bar plot for the percentage of fraudulent vs non-fraudulent transcations\n",
        "fraud_percentage = {'is_fraud':['Non-Fraudulent', 'Fraudulent'], 'Percentage':[perc_of_proper, perc_of_fraud]} \n",
        "df_fraud_percentage = pd.DataFrame(fraud_percentage) \n",
        "sns.barplot(x='is_fraud',y='Percentage', data=df_fraud_percentage)\n",
        "plt.title('Percentage of fraudulent vs non-fraudulent transcations')\n",
        "plt.show()"
      ],
      "execution_count": null,
      "outputs": [
        {
          "output_type": "display_data",
          "data": {
            "image/png": "[encoded data removed]",
            "text/plain": [
              "<Figure size 432x288 with 1 Axes>"
            ]
          },
          "metadata": {
            "needs_background": "light"
          }
        }
      ]
    },
    {
      "cell_type": "markdown",
      "metadata": {
        "id": "4bMTmFenNZ70"
      },
      "source": [
        "# **Data Selection and Manipulation**"
      ]
    },
    {
      "cell_type": "code",
      "metadata": {
        "id": "eFJiW7tYX6sQ"
      },
      "source": [
        "df.set_index('Unnamed: 0',inplace=True)"
      ],
      "execution_count": null,
      "outputs": []
    },
    {
      "cell_type": "code",
      "metadata": {
        "id": "Uhedj6nYO5SN",
        "colab": {
          "base_uri": "https://localhost:8080/",
          "height": 553
        },
        "outputId": "fb61f7d0-90d4-4f4e-c94d-b88340f6e5ac"
      },
      "source": [
        "# Resetting index\n",
        "df.reset_index()\n",
        "df.head(5)"
      ],
      "execution_count": null,
      "outputs": [
        {
          "output_type": "execute_result",
          "data": {
            "text/html": [
              "<div>\n",
              "<style scoped>\n",
              "    .dataframe tbody tr th:only-of-type {\n",
              "        vertical-align: middle;\n",
              "    }\n",
              "\n",
              "    .dataframe tbody tr th {\n",
              "        vertical-align: top;\n",
              "    }\n",
              "\n",
              "    .dataframe thead th {\n",
              "        text-align: right;\n",
              "    }\n",
              "</style>\n",
              "<table border=\"1\" class=\"dataframe\">\n",
              "  <thead>\n",
              "    <tr style=\"text-align: right;\">\n",
              "      <th></th>\n",
              "      <th>trans_date_trans_time</th>\n",
              "      <th>cc_num</th>\n",
              "      <th>merchant</th>\n",
              "      <th>category</th>\n",
              "      <th>amt</th>\n",
              "      <th>first</th>\n",
              "      <th>last</th>\n",
              "      <th>gender</th>\n",
              "      <th>street</th>\n",
              "      <th>city</th>\n",
              "      <th>state</th>\n",
              "      <th>zip</th>\n",
              "      <th>lat</th>\n",
              "      <th>long</th>\n",
              "      <th>city_pop</th>\n",
              "      <th>job</th>\n",
              "      <th>trans_num</th>\n",
              "      <th>unix_time</th>\n",
              "      <th>merch_lat</th>\n",
              "      <th>merch_long</th>\n",
              "      <th>is_fraud</th>\n",
              "      <th>age</th>\n",
              "    </tr>\n",
              "    <tr>\n",
              "      <th>Unnamed: 0</th>\n",
              "      <th></th>\n",
              "      <th></th>\n",
              "      <th></th>\n",
              "      <th></th>\n",
              "      <th></th>\n",
              "      <th></th>\n",
              "      <th></th>\n",
              "      <th></th>\n",
              "      <th></th>\n",
              "      <th></th>\n",
              "      <th></th>\n",
              "      <th></th>\n",
              "      <th></th>\n",
              "      <th></th>\n",
              "      <th></th>\n",
              "      <th></th>\n",
              "      <th></th>\n",
              "      <th></th>\n",
              "      <th></th>\n",
              "      <th></th>\n",
              "      <th></th>\n",
              "      <th></th>\n",
              "    </tr>\n",
              "  </thead>\n",
              "  <tbody>\n",
              "    <tr>\n",
              "      <th>0</th>\n",
              "      <td>2019-01-01 00:00:18</td>\n",
              "      <td>2703186189652095</td>\n",
              "      <td>fraud_Rippin, Kub and Mann</td>\n",
              "      <td>misc_net</td>\n",
              "      <td>4.97</td>\n",
              "      <td>Jennifer</td>\n",
              "      <td>Banks</td>\n",
              "      <td>F</td>\n",
              "      <td>561 Perry Cove</td>\n",
              "      <td>Moravian Falls</td>\n",
              "      <td>NC</td>\n",
              "      <td>28654</td>\n",
              "      <td>36.0788</td>\n",
              "      <td>-81.1781</td>\n",
              "      <td>3495</td>\n",
              "      <td>Psychologist, counselling</td>\n",
              "      <td>0b242abb623afc578575680df30655b9</td>\n",
              "      <td>1325376018</td>\n",
              "      <td>36.011293</td>\n",
              "      <td>-82.048315</td>\n",
              "      <td>0</td>\n",
              "      <td>34.0</td>\n",
              "    </tr>\n",
              "    <tr>\n",
              "      <th>1</th>\n",
              "      <td>2019-01-01 00:00:44</td>\n",
              "      <td>630423337322</td>\n",
              "      <td>fraud_Heller, Gutmann and Zieme</td>\n",
              "      <td>grocery_pos</td>\n",
              "      <td>107.23</td>\n",
              "      <td>Stephanie</td>\n",
              "      <td>Gill</td>\n",
              "      <td>F</td>\n",
              "      <td>43039 Riley Greens Suite 393</td>\n",
              "      <td>Orient</td>\n",
              "      <td>WA</td>\n",
              "      <td>99160</td>\n",
              "      <td>48.8878</td>\n",
              "      <td>-118.2105</td>\n",
              "      <td>149</td>\n",
              "      <td>Special educational needs teacher</td>\n",
              "      <td>1f76529f8574734946361c461b024d99</td>\n",
              "      <td>1325376044</td>\n",
              "      <td>49.159047</td>\n",
              "      <td>-118.186462</td>\n",
              "      <td>0</td>\n",
              "      <td>43.0</td>\n",
              "    </tr>\n",
              "    <tr>\n",
              "      <th>2</th>\n",
              "      <td>2019-01-01 00:00:51</td>\n",
              "      <td>38859492057661</td>\n",
              "      <td>fraud_Lind-Buckridge</td>\n",
              "      <td>entertainment</td>\n",
              "      <td>220.11</td>\n",
              "      <td>Edward</td>\n",
              "      <td>Sanchez</td>\n",
              "      <td>M</td>\n",
              "      <td>594 White Dale Suite 530</td>\n",
              "      <td>Malad City</td>\n",
              "      <td>ID</td>\n",
              "      <td>83252</td>\n",
              "      <td>42.1808</td>\n",
              "      <td>-112.2620</td>\n",
              "      <td>4154</td>\n",
              "      <td>Nature conservation officer</td>\n",
              "      <td>a1a22d70485983eac12b5b88dad1cf95</td>\n",
              "      <td>1325376051</td>\n",
              "      <td>43.150704</td>\n",
              "      <td>-112.154481</td>\n",
              "      <td>0</td>\n",
              "      <td>60.0</td>\n",
              "    </tr>\n",
              "    <tr>\n",
              "      <th>3</th>\n",
              "      <td>2019-01-01 00:01:16</td>\n",
              "      <td>3534093764340240</td>\n",
              "      <td>fraud_Kutch, Hermiston and Farrell</td>\n",
              "      <td>gas_transport</td>\n",
              "      <td>45.00</td>\n",
              "      <td>Jeremy</td>\n",
              "      <td>White</td>\n",
              "      <td>M</td>\n",
              "      <td>9443 Cynthia Court Apt. 038</td>\n",
              "      <td>Boulder</td>\n",
              "      <td>MT</td>\n",
              "      <td>59632</td>\n",
              "      <td>46.2306</td>\n",
              "      <td>-112.1138</td>\n",
              "      <td>1939</td>\n",
              "      <td>Patent attorney</td>\n",
              "      <td>6b849c168bdad6f867558c3793159a81</td>\n",
              "      <td>1325376076</td>\n",
              "      <td>47.034331</td>\n",
              "      <td>-112.561071</td>\n",
              "      <td>0</td>\n",
              "      <td>55.0</td>\n",
              "    </tr>\n",
              "    <tr>\n",
              "      <th>4</th>\n",
              "      <td>2019-01-01 00:03:06</td>\n",
              "      <td>375534208663984</td>\n",
              "      <td>fraud_Keeling-Crist</td>\n",
              "      <td>misc_pos</td>\n",
              "      <td>41.96</td>\n",
              "      <td>Tyler</td>\n",
              "      <td>Garcia</td>\n",
              "      <td>M</td>\n",
              "      <td>408 Bradley Rest</td>\n",
              "      <td>Doe Hill</td>\n",
              "      <td>VA</td>\n",
              "      <td>24433</td>\n",
              "      <td>38.4207</td>\n",
              "      <td>-79.4629</td>\n",
              "      <td>99</td>\n",
              "      <td>Dance movement psychotherapist</td>\n",
              "      <td>a41d7549acf90789359a9aa5346dcb46</td>\n",
              "      <td>1325376186</td>\n",
              "      <td>38.674999</td>\n",
              "      <td>-78.632459</td>\n",
              "      <td>0</td>\n",
              "      <td>36.0</td>\n",
              "    </tr>\n",
              "  </tbody>\n",
              "</table>\n",
              "</div>"
            ],
            "text/plain": [
              "           trans_date_trans_time            cc_num  ... is_fraud   age\n",
              "Unnamed: 0                                          ...               \n",
              "0            2019-01-01 00:00:18  2703186189652095  ...        0  34.0\n",
              "1            2019-01-01 00:00:44      630423337322  ...        0  43.0\n",
              "2            2019-01-01 00:00:51    38859492057661  ...        0  60.0\n",
              "3            2019-01-01 00:01:16  3534093764340240  ...        0  55.0\n",
              "4            2019-01-01 00:03:06   375534208663984  ...        0  36.0\n",
              "\n",
              "[5 rows x 22 columns]"
            ]
          },
          "metadata": {},
          "execution_count": 21
        }
      ]
    },
    {
      "cell_type": "code",
      "metadata": {
        "id": "ZhubZnv9X4_I"
      },
      "source": [
        "df.rename_axis(None,inplace=True)"
      ],
      "execution_count": null,
      "outputs": []
    },
    {
      "cell_type": "code",
      "metadata": {
        "id": "Y6NJ_igGNavr",
        "colab": {
          "base_uri": "https://localhost:8080/"
        },
        "outputId": "720a2e9d-9124-4d09-daec-8abe0936b9aa"
      },
      "source": [
        "df['is_fraud'].unique()"
      ],
      "execution_count": null,
      "outputs": [
        {
          "output_type": "execute_result",
          "data": {
            "text/plain": [
              "array([0, 1])"
            ]
          },
          "metadata": {},
          "execution_count": 23
        }
      ]
    },
    {
      "cell_type": "code",
      "metadata": {
        "id": "S716oYhZO5A-",
        "colab": {
          "base_uri": "https://localhost:8080/"
        },
        "outputId": "f7e3064a-9838-4005-eaab-9787e0b18aa1"
      },
      "source": [
        "df.at[24,'is_fraud']"
      ],
      "execution_count": null,
      "outputs": [
        {
          "output_type": "execute_result",
          "data": {
            "text/plain": [
              "0"
            ]
          },
          "metadata": {},
          "execution_count": 24
        }
      ]
    },
    {
      "cell_type": "code",
      "metadata": {
        "id": "76QHYAATVoqj",
        "colab": {
          "base_uri": "https://localhost:8080/",
          "height": 504
        },
        "outputId": "4fa2bdea-78c1-4685-af8e-cec7e07f8d3e"
      },
      "source": [
        "df.head()"
      ],
      "execution_count": null,
      "outputs": [
        {
          "output_type": "execute_result",
          "data": {
            "text/html": [
              "<div>\n",
              "<style scoped>\n",
              "    .dataframe tbody tr th:only-of-type {\n",
              "        vertical-align: middle;\n",
              "    }\n",
              "\n",
              "    .dataframe tbody tr th {\n",
              "        vertical-align: top;\n",
              "    }\n",
              "\n",
              "    .dataframe thead th {\n",
              "        text-align: right;\n",
              "    }\n",
              "</style>\n",
              "<table border=\"1\" class=\"dataframe\">\n",
              "  <thead>\n",
              "    <tr style=\"text-align: right;\">\n",
              "      <th></th>\n",
              "      <th>trans_date_trans_time</th>\n",
              "      <th>cc_num</th>\n",
              "      <th>merchant</th>\n",
              "      <th>category</th>\n",
              "      <th>amt</th>\n",
              "      <th>first</th>\n",
              "      <th>last</th>\n",
              "      <th>gender</th>\n",
              "      <th>street</th>\n",
              "      <th>city</th>\n",
              "      <th>state</th>\n",
              "      <th>zip</th>\n",
              "      <th>lat</th>\n",
              "      <th>long</th>\n",
              "      <th>city_pop</th>\n",
              "      <th>job</th>\n",
              "      <th>trans_num</th>\n",
              "      <th>unix_time</th>\n",
              "      <th>merch_lat</th>\n",
              "      <th>merch_long</th>\n",
              "      <th>is_fraud</th>\n",
              "      <th>age</th>\n",
              "    </tr>\n",
              "  </thead>\n",
              "  <tbody>\n",
              "    <tr>\n",
              "      <th>0</th>\n",
              "      <td>2019-01-01 00:00:18</td>\n",
              "      <td>2703186189652095</td>\n",
              "      <td>fraud_Rippin, Kub and Mann</td>\n",
              "      <td>misc_net</td>\n",
              "      <td>4.97</td>\n",
              "      <td>Jennifer</td>\n",
              "      <td>Banks</td>\n",
              "      <td>F</td>\n",
              "      <td>561 Perry Cove</td>\n",
              "      <td>Moravian Falls</td>\n",
              "      <td>NC</td>\n",
              "      <td>28654</td>\n",
              "      <td>36.0788</td>\n",
              "      <td>-81.1781</td>\n",
              "      <td>3495</td>\n",
              "      <td>Psychologist, counselling</td>\n",
              "      <td>0b242abb623afc578575680df30655b9</td>\n",
              "      <td>1325376018</td>\n",
              "      <td>36.011293</td>\n",
              "      <td>-82.048315</td>\n",
              "      <td>0</td>\n",
              "      <td>34.0</td>\n",
              "    </tr>\n",
              "    <tr>\n",
              "      <th>1</th>\n",
              "      <td>2019-01-01 00:00:44</td>\n",
              "      <td>630423337322</td>\n",
              "      <td>fraud_Heller, Gutmann and Zieme</td>\n",
              "      <td>grocery_pos</td>\n",
              "      <td>107.23</td>\n",
              "      <td>Stephanie</td>\n",
              "      <td>Gill</td>\n",
              "      <td>F</td>\n",
              "      <td>43039 Riley Greens Suite 393</td>\n",
              "      <td>Orient</td>\n",
              "      <td>WA</td>\n",
              "      <td>99160</td>\n",
              "      <td>48.8878</td>\n",
              "      <td>-118.2105</td>\n",
              "      <td>149</td>\n",
              "      <td>Special educational needs teacher</td>\n",
              "      <td>1f76529f8574734946361c461b024d99</td>\n",
              "      <td>1325376044</td>\n",
              "      <td>49.159047</td>\n",
              "      <td>-118.186462</td>\n",
              "      <td>0</td>\n",
              "      <td>43.0</td>\n",
              "    </tr>\n",
              "    <tr>\n",
              "      <th>2</th>\n",
              "      <td>2019-01-01 00:00:51</td>\n",
              "      <td>38859492057661</td>\n",
              "      <td>fraud_Lind-Buckridge</td>\n",
              "      <td>entertainment</td>\n",
              "      <td>220.11</td>\n",
              "      <td>Edward</td>\n",
              "      <td>Sanchez</td>\n",
              "      <td>M</td>\n",
              "      <td>594 White Dale Suite 530</td>\n",
              "      <td>Malad City</td>\n",
              "      <td>ID</td>\n",
              "      <td>83252</td>\n",
              "      <td>42.1808</td>\n",
              "      <td>-112.2620</td>\n",
              "      <td>4154</td>\n",
              "      <td>Nature conservation officer</td>\n",
              "      <td>a1a22d70485983eac12b5b88dad1cf95</td>\n",
              "      <td>1325376051</td>\n",
              "      <td>43.150704</td>\n",
              "      <td>-112.154481</td>\n",
              "      <td>0</td>\n",
              "      <td>60.0</td>\n",
              "    </tr>\n",
              "    <tr>\n",
              "      <th>3</th>\n",
              "      <td>2019-01-01 00:01:16</td>\n",
              "      <td>3534093764340240</td>\n",
              "      <td>fraud_Kutch, Hermiston and Farrell</td>\n",
              "      <td>gas_transport</td>\n",
              "      <td>45.00</td>\n",
              "      <td>Jeremy</td>\n",
              "      <td>White</td>\n",
              "      <td>M</td>\n",
              "      <td>9443 Cynthia Court Apt. 038</td>\n",
              "      <td>Boulder</td>\n",
              "      <td>MT</td>\n",
              "      <td>59632</td>\n",
              "      <td>46.2306</td>\n",
              "      <td>-112.1138</td>\n",
              "      <td>1939</td>\n",
              "      <td>Patent attorney</td>\n",
              "      <td>6b849c168bdad6f867558c3793159a81</td>\n",
              "      <td>1325376076</td>\n",
              "      <td>47.034331</td>\n",
              "      <td>-112.561071</td>\n",
              "      <td>0</td>\n",
              "      <td>55.0</td>\n",
              "    </tr>\n",
              "    <tr>\n",
              "      <th>4</th>\n",
              "      <td>2019-01-01 00:03:06</td>\n",
              "      <td>375534208663984</td>\n",
              "      <td>fraud_Keeling-Crist</td>\n",
              "      <td>misc_pos</td>\n",
              "      <td>41.96</td>\n",
              "      <td>Tyler</td>\n",
              "      <td>Garcia</td>\n",
              "      <td>M</td>\n",
              "      <td>408 Bradley Rest</td>\n",
              "      <td>Doe Hill</td>\n",
              "      <td>VA</td>\n",
              "      <td>24433</td>\n",
              "      <td>38.4207</td>\n",
              "      <td>-79.4629</td>\n",
              "      <td>99</td>\n",
              "      <td>Dance movement psychotherapist</td>\n",
              "      <td>a41d7549acf90789359a9aa5346dcb46</td>\n",
              "      <td>1325376186</td>\n",
              "      <td>38.674999</td>\n",
              "      <td>-78.632459</td>\n",
              "      <td>0</td>\n",
              "      <td>36.0</td>\n",
              "    </tr>\n",
              "  </tbody>\n",
              "</table>\n",
              "</div>"
            ],
            "text/plain": [
              "  trans_date_trans_time            cc_num  ... is_fraud   age\n",
              "0   2019-01-01 00:00:18  2703186189652095  ...        0  34.0\n",
              "1   2019-01-01 00:00:44      630423337322  ...        0  43.0\n",
              "2   2019-01-01 00:00:51    38859492057661  ...        0  60.0\n",
              "3   2019-01-01 00:01:16  3534093764340240  ...        0  55.0\n",
              "4   2019-01-01 00:03:06   375534208663984  ...        0  36.0\n",
              "\n",
              "[5 rows x 22 columns]"
            ]
          },
          "metadata": {},
          "execution_count": 25
        }
      ]
    },
    {
      "cell_type": "code",
      "metadata": {
        "id": "o0c1MemSO5Ic",
        "colab": {
          "base_uri": "https://localhost:8080/"
        },
        "outputId": "3a3d3609-304c-43ae-9ae1-be67b17850c3"
      },
      "source": [
        "df.loc[(df['gender']=='F') & (df['state']=='NC')& (df['is_fraud']==1),'is_fraud'].count()"
      ],
      "execution_count": null,
      "outputs": [
        {
          "output_type": "execute_result",
          "data": {
            "text/plain": [
              "55"
            ]
          },
          "metadata": {},
          "execution_count": 26
        }
      ]
    },
    {
      "cell_type": "code",
      "metadata": {
        "id": "l1vQ8h1pO5K3",
        "colab": {
          "base_uri": "https://localhost:8080/"
        },
        "outputId": "1d8337fc-f8e6-4b25-935e-57eaf9871fc1"
      },
      "source": [
        "df.loc[(df['gender']=='M') & (df['category']=='fraud_Keeling-Crist') & (df['amt']>10000) ,'is_fraud'].count()"
      ],
      "execution_count": null,
      "outputs": [
        {
          "output_type": "execute_result",
          "data": {
            "text/plain": [
              "0"
            ]
          },
          "metadata": {},
          "execution_count": 27
        }
      ]
    },
    {
      "cell_type": "code",
      "metadata": {
        "id": "z9GhOnfEO5NP",
        "colab": {
          "base_uri": "https://localhost:8080/",
          "height": 676
        },
        "outputId": "0e68276b-a31c-43ac-83f5-410ff27067de"
      },
      "source": [
        "df.iloc[:20,[5,6,-2]]"
      ],
      "execution_count": null,
      "outputs": [
        {
          "output_type": "execute_result",
          "data": {
            "text/html": [
              "<div>\n",
              "<style scoped>\n",
              "    .dataframe tbody tr th:only-of-type {\n",
              "        vertical-align: middle;\n",
              "    }\n",
              "\n",
              "    .dataframe tbody tr th {\n",
              "        vertical-align: top;\n",
              "    }\n",
              "\n",
              "    .dataframe thead th {\n",
              "        text-align: right;\n",
              "    }\n",
              "</style>\n",
              "<table border=\"1\" class=\"dataframe\">\n",
              "  <thead>\n",
              "    <tr style=\"text-align: right;\">\n",
              "      <th></th>\n",
              "      <th>first</th>\n",
              "      <th>last</th>\n",
              "      <th>is_fraud</th>\n",
              "    </tr>\n",
              "  </thead>\n",
              "  <tbody>\n",
              "    <tr>\n",
              "      <th>0</th>\n",
              "      <td>Jennifer</td>\n",
              "      <td>Banks</td>\n",
              "      <td>0</td>\n",
              "    </tr>\n",
              "    <tr>\n",
              "      <th>1</th>\n",
              "      <td>Stephanie</td>\n",
              "      <td>Gill</td>\n",
              "      <td>0</td>\n",
              "    </tr>\n",
              "    <tr>\n",
              "      <th>2</th>\n",
              "      <td>Edward</td>\n",
              "      <td>Sanchez</td>\n",
              "      <td>0</td>\n",
              "    </tr>\n",
              "    <tr>\n",
              "      <th>3</th>\n",
              "      <td>Jeremy</td>\n",
              "      <td>White</td>\n",
              "      <td>0</td>\n",
              "    </tr>\n",
              "    <tr>\n",
              "      <th>4</th>\n",
              "      <td>Tyler</td>\n",
              "      <td>Garcia</td>\n",
              "      <td>0</td>\n",
              "    </tr>\n",
              "    <tr>\n",
              "      <th>5</th>\n",
              "      <td>Jennifer</td>\n",
              "      <td>Conner</td>\n",
              "      <td>0</td>\n",
              "    </tr>\n",
              "    <tr>\n",
              "      <th>6</th>\n",
              "      <td>Kelsey</td>\n",
              "      <td>Richards</td>\n",
              "      <td>0</td>\n",
              "    </tr>\n",
              "    <tr>\n",
              "      <th>7</th>\n",
              "      <td>Steven</td>\n",
              "      <td>Williams</td>\n",
              "      <td>0</td>\n",
              "    </tr>\n",
              "    <tr>\n",
              "      <th>8</th>\n",
              "      <td>Heather</td>\n",
              "      <td>Chase</td>\n",
              "      <td>0</td>\n",
              "    </tr>\n",
              "    <tr>\n",
              "      <th>9</th>\n",
              "      <td>Melissa</td>\n",
              "      <td>Aguilar</td>\n",
              "      <td>0</td>\n",
              "    </tr>\n",
              "    <tr>\n",
              "      <th>10</th>\n",
              "      <td>Eddie</td>\n",
              "      <td>Mendez</td>\n",
              "      <td>0</td>\n",
              "    </tr>\n",
              "    <tr>\n",
              "      <th>11</th>\n",
              "      <td>Theresa</td>\n",
              "      <td>Blackwell</td>\n",
              "      <td>0</td>\n",
              "    </tr>\n",
              "    <tr>\n",
              "      <th>12</th>\n",
              "      <td>Charles</td>\n",
              "      <td>Robles</td>\n",
              "      <td>0</td>\n",
              "    </tr>\n",
              "    <tr>\n",
              "      <th>13</th>\n",
              "      <td>Jack</td>\n",
              "      <td>Hill</td>\n",
              "      <td>0</td>\n",
              "    </tr>\n",
              "    <tr>\n",
              "      <th>14</th>\n",
              "      <td>Christopher</td>\n",
              "      <td>Castaneda</td>\n",
              "      <td>0</td>\n",
              "    </tr>\n",
              "    <tr>\n",
              "      <th>15</th>\n",
              "      <td>Ronald</td>\n",
              "      <td>Carson</td>\n",
              "      <td>0</td>\n",
              "    </tr>\n",
              "    <tr>\n",
              "      <th>16</th>\n",
              "      <td>Lisa</td>\n",
              "      <td>Mendez</td>\n",
              "      <td>0</td>\n",
              "    </tr>\n",
              "    <tr>\n",
              "      <th>17</th>\n",
              "      <td>Nathan</td>\n",
              "      <td>Thomas</td>\n",
              "      <td>0</td>\n",
              "    </tr>\n",
              "    <tr>\n",
              "      <th>18</th>\n",
              "      <td>Justin</td>\n",
              "      <td>Gay</td>\n",
              "      <td>0</td>\n",
              "    </tr>\n",
              "    <tr>\n",
              "      <th>19</th>\n",
              "      <td>Kenneth</td>\n",
              "      <td>Robinson</td>\n",
              "      <td>0</td>\n",
              "    </tr>\n",
              "  </tbody>\n",
              "</table>\n",
              "</div>"
            ],
            "text/plain": [
              "          first       last  is_fraud\n",
              "0      Jennifer      Banks         0\n",
              "1     Stephanie       Gill         0\n",
              "2        Edward    Sanchez         0\n",
              "3        Jeremy      White         0\n",
              "4         Tyler     Garcia         0\n",
              "5      Jennifer     Conner         0\n",
              "6        Kelsey   Richards         0\n",
              "7        Steven   Williams         0\n",
              "8       Heather      Chase         0\n",
              "9       Melissa    Aguilar         0\n",
              "10        Eddie     Mendez         0\n",
              "11      Theresa  Blackwell         0\n",
              "12      Charles     Robles         0\n",
              "13         Jack       Hill         0\n",
              "14  Christopher  Castaneda         0\n",
              "15       Ronald     Carson         0\n",
              "16         Lisa     Mendez         0\n",
              "17       Nathan     Thomas         0\n",
              "18       Justin        Gay         0\n",
              "19      Kenneth   Robinson         0"
            ]
          },
          "metadata": {},
          "execution_count": 28
        }
      ]
    },
    {
      "cell_type": "code",
      "metadata": {
        "id": "LdnvoUL1YqLr",
        "colab": {
          "base_uri": "https://localhost:8080/",
          "height": 842
        },
        "outputId": "255623bf-2632-4381-cc21-5c7d703b5824"
      },
      "source": [
        "df.sort_values(by=['amt'])"
      ],
      "execution_count": null,
      "outputs": [
        {
          "output_type": "execute_result",
          "data": {
            "text/html": [
              "<div>\n",
              "<style scoped>\n",
              "    .dataframe tbody tr th:only-of-type {\n",
              "        vertical-align: middle;\n",
              "    }\n",
              "\n",
              "    .dataframe tbody tr th {\n",
              "        vertical-align: top;\n",
              "    }\n",
              "\n",
              "    .dataframe thead th {\n",
              "        text-align: right;\n",
              "    }\n",
              "</style>\n",
              "<table border=\"1\" class=\"dataframe\">\n",
              "  <thead>\n",
              "    <tr style=\"text-align: right;\">\n",
              "      <th></th>\n",
              "      <th>trans_date_trans_time</th>\n",
              "      <th>cc_num</th>\n",
              "      <th>merchant</th>\n",
              "      <th>category</th>\n",
              "      <th>amt</th>\n",
              "      <th>first</th>\n",
              "      <th>last</th>\n",
              "      <th>gender</th>\n",
              "      <th>street</th>\n",
              "      <th>city</th>\n",
              "      <th>state</th>\n",
              "      <th>zip</th>\n",
              "      <th>lat</th>\n",
              "      <th>long</th>\n",
              "      <th>city_pop</th>\n",
              "      <th>job</th>\n",
              "      <th>trans_num</th>\n",
              "      <th>unix_time</th>\n",
              "      <th>merch_lat</th>\n",
              "      <th>merch_long</th>\n",
              "      <th>is_fraud</th>\n",
              "      <th>age</th>\n",
              "    </tr>\n",
              "  </thead>\n",
              "  <tbody>\n",
              "    <tr>\n",
              "      <th>856060</th>\n",
              "      <td>2019-12-16 13:12:51</td>\n",
              "      <td>30518206766474</td>\n",
              "      <td>fraud_Wilkinson PLC</td>\n",
              "      <td>kids_pets</td>\n",
              "      <td>1.00</td>\n",
              "      <td>Tamara</td>\n",
              "      <td>Martinez</td>\n",
              "      <td>F</td>\n",
              "      <td>471 Marquez Prairie Suite 680</td>\n",
              "      <td>Matthews</td>\n",
              "      <td>MO</td>\n",
              "      <td>63867</td>\n",
              "      <td>36.7154</td>\n",
              "      <td>-89.6287</td>\n",
              "      <td>1019</td>\n",
              "      <td>Aeronautical engineer</td>\n",
              "      <td>2260cb1f6392bacaa21ed3cdf256b9d0</td>\n",
              "      <td>1355663571</td>\n",
              "      <td>35.885287</td>\n",
              "      <td>-90.400848</td>\n",
              "      <td>0</td>\n",
              "      <td>43.0</td>\n",
              "    </tr>\n",
              "    <tr>\n",
              "      <th>371549</th>\n",
              "      <td>2019-06-21 09:23:24</td>\n",
              "      <td>4783226709001</td>\n",
              "      <td>fraud_Cormier LLC</td>\n",
              "      <td>shopping_net</td>\n",
              "      <td>1.00</td>\n",
              "      <td>Jessica</td>\n",
              "      <td>Garcia</td>\n",
              "      <td>F</td>\n",
              "      <td>13108 Jennifer Passage</td>\n",
              "      <td>Mc Cracken</td>\n",
              "      <td>KS</td>\n",
              "      <td>67556</td>\n",
              "      <td>38.5957</td>\n",
              "      <td>-99.5540</td>\n",
              "      <td>320</td>\n",
              "      <td>Film/video editor</td>\n",
              "      <td>14c3b79eba42307636f7043a0f223614</td>\n",
              "      <td>1340270604</td>\n",
              "      <td>39.540400</td>\n",
              "      <td>-98.554979</td>\n",
              "      <td>0</td>\n",
              "      <td>61.0</td>\n",
              "    </tr>\n",
              "    <tr>\n",
              "      <th>300745</th>\n",
              "      <td>2019-05-26 19:47:03</td>\n",
              "      <td>2286236465059468</td>\n",
              "      <td>fraud_Friesen Ltd</td>\n",
              "      <td>health_fitness</td>\n",
              "      <td>1.00</td>\n",
              "      <td>Morgan</td>\n",
              "      <td>Murray</td>\n",
              "      <td>F</td>\n",
              "      <td>2788 Brittney Island</td>\n",
              "      <td>Blairstown</td>\n",
              "      <td>MO</td>\n",
              "      <td>64726</td>\n",
              "      <td>38.5319</td>\n",
              "      <td>-93.9221</td>\n",
              "      <td>467</td>\n",
              "      <td>Agricultural consultant</td>\n",
              "      <td>d305b2b6db28f8a491bb1f10818e119a</td>\n",
              "      <td>1338061623</td>\n",
              "      <td>38.724478</td>\n",
              "      <td>-93.413349</td>\n",
              "      <td>0</td>\n",
              "      <td>72.0</td>\n",
              "    </tr>\n",
              "    <tr>\n",
              "      <th>906626</th>\n",
              "      <td>2019-12-28 13:29:54</td>\n",
              "      <td>3523843138706408</td>\n",
              "      <td>fraud_Nader-Maggio</td>\n",
              "      <td>personal_care</td>\n",
              "      <td>1.00</td>\n",
              "      <td>Grace</td>\n",
              "      <td>Williams</td>\n",
              "      <td>F</td>\n",
              "      <td>28812 Charles Mill Apt. 628</td>\n",
              "      <td>Plantersville</td>\n",
              "      <td>AL</td>\n",
              "      <td>36758</td>\n",
              "      <td>32.6176</td>\n",
              "      <td>-86.9475</td>\n",
              "      <td>1412</td>\n",
              "      <td>Drilling engineer</td>\n",
              "      <td>2d99df3e24dcaec9efababe18c9c160d</td>\n",
              "      <td>1356701394</td>\n",
              "      <td>33.522638</td>\n",
              "      <td>-86.248212</td>\n",
              "      <td>0</td>\n",
              "      <td>51.0</td>\n",
              "    </tr>\n",
              "    <tr>\n",
              "      <th>483715</th>\n",
              "      <td>2019-07-30 16:14:35</td>\n",
              "      <td>2285066385084291</td>\n",
              "      <td>fraud_Larson-Moen</td>\n",
              "      <td>entertainment</td>\n",
              "      <td>1.00</td>\n",
              "      <td>Richard</td>\n",
              "      <td>Brown</td>\n",
              "      <td>M</td>\n",
              "      <td>17819 Jose Mount Suite 657</td>\n",
              "      <td>Heidelberg</td>\n",
              "      <td>MS</td>\n",
              "      <td>39439</td>\n",
              "      <td>31.8820</td>\n",
              "      <td>-88.9981</td>\n",
              "      <td>4573</td>\n",
              "      <td>Exhibitions officer, museum/gallery</td>\n",
              "      <td>d78fe6ed57e7b370133a193a0c655335</td>\n",
              "      <td>1343664875</td>\n",
              "      <td>32.859879</td>\n",
              "      <td>-89.101711</td>\n",
              "      <td>0</td>\n",
              "      <td>34.0</td>\n",
              "    </tr>\n",
              "    <tr>\n",
              "      <th>...</th>\n",
              "      <td>...</td>\n",
              "      <td>...</td>\n",
              "      <td>...</td>\n",
              "      <td>...</td>\n",
              "      <td>...</td>\n",
              "      <td>...</td>\n",
              "      <td>...</td>\n",
              "      <td>...</td>\n",
              "      <td>...</td>\n",
              "      <td>...</td>\n",
              "      <td>...</td>\n",
              "      <td>...</td>\n",
              "      <td>...</td>\n",
              "      <td>...</td>\n",
              "      <td>...</td>\n",
              "      <td>...</td>\n",
              "      <td>...</td>\n",
              "      <td>...</td>\n",
              "      <td>...</td>\n",
              "      <td>...</td>\n",
              "      <td>...</td>\n",
              "      <td>...</td>\n",
              "    </tr>\n",
              "    <tr>\n",
              "      <th>352894</th>\n",
              "      <td>2019-06-14 20:15:38</td>\n",
              "      <td>5540636818935089</td>\n",
              "      <td>fraud_Hackett Group</td>\n",
              "      <td>travel</td>\n",
              "      <td>25086.94</td>\n",
              "      <td>Kenneth</td>\n",
              "      <td>Foster</td>\n",
              "      <td>M</td>\n",
              "      <td>329 Michael Extension</td>\n",
              "      <td>Lawrence</td>\n",
              "      <td>MA</td>\n",
              "      <td>1843</td>\n",
              "      <td>42.6911</td>\n",
              "      <td>-71.1605</td>\n",
              "      <td>76383</td>\n",
              "      <td>Geoscientist</td>\n",
              "      <td>0b902a1e549c98b949444a7557da2403</td>\n",
              "      <td>1339704938</td>\n",
              "      <td>42.397174</td>\n",
              "      <td>-71.474163</td>\n",
              "      <td>0</td>\n",
              "      <td>37.0</td>\n",
              "    </tr>\n",
              "    <tr>\n",
              "      <th>606211</th>\n",
              "      <td>2019-09-14 22:19:01</td>\n",
              "      <td>30408301059761</td>\n",
              "      <td>fraud_Boyer-Haley</td>\n",
              "      <td>travel</td>\n",
              "      <td>26544.12</td>\n",
              "      <td>Brandon</td>\n",
              "      <td>Pittman</td>\n",
              "      <td>M</td>\n",
              "      <td>2881 Frey Village</td>\n",
              "      <td>Cross</td>\n",
              "      <td>SC</td>\n",
              "      <td>29436</td>\n",
              "      <td>33.3364</td>\n",
              "      <td>-80.1859</td>\n",
              "      <td>4471</td>\n",
              "      <td>Occupational hygienist</td>\n",
              "      <td>dda9d800d37a9fc2c086a836d66b0588</td>\n",
              "      <td>1347661141</td>\n",
              "      <td>33.020256</td>\n",
              "      <td>-80.125607</td>\n",
              "      <td>0</td>\n",
              "      <td>48.0</td>\n",
              "    </tr>\n",
              "    <tr>\n",
              "      <th>1234797</th>\n",
              "      <td>2020-05-30 17:31:30</td>\n",
              "      <td>60423098130</td>\n",
              "      <td>fraud_Monahan, Hermann and Johns</td>\n",
              "      <td>travel</td>\n",
              "      <td>27119.77</td>\n",
              "      <td>Jason</td>\n",
              "      <td>Gray</td>\n",
              "      <td>M</td>\n",
              "      <td>875 Amy Point</td>\n",
              "      <td>Amorita</td>\n",
              "      <td>OK</td>\n",
              "      <td>73719</td>\n",
              "      <td>36.9412</td>\n",
              "      <td>-98.2458</td>\n",
              "      <td>83</td>\n",
              "      <td>Barrister's clerk</td>\n",
              "      <td>916093eeab1831be71d49362bf5b7be5</td>\n",
              "      <td>1369935090</td>\n",
              "      <td>37.286865</td>\n",
              "      <td>-97.249611</td>\n",
              "      <td>0</td>\n",
              "      <td>63.0</td>\n",
              "    </tr>\n",
              "    <tr>\n",
              "      <th>793677</th>\n",
              "      <td>2019-12-02 15:53:46</td>\n",
              "      <td>675909898057</td>\n",
              "      <td>fraud_Monahan, Hermann and Johns</td>\n",
              "      <td>travel</td>\n",
              "      <td>27390.12</td>\n",
              "      <td>Christopher</td>\n",
              "      <td>Henry</td>\n",
              "      <td>M</td>\n",
              "      <td>1198 Robert Stravenue Apt. 479</td>\n",
              "      <td>Armonk</td>\n",
              "      <td>NY</td>\n",
              "      <td>10504</td>\n",
              "      <td>41.1360</td>\n",
              "      <td>-73.7009</td>\n",
              "      <td>7987</td>\n",
              "      <td>Television/film/video producer</td>\n",
              "      <td>2ca9bd5df126cc35e541a4f2c2551197</td>\n",
              "      <td>1354463626</td>\n",
              "      <td>41.665873</td>\n",
              "      <td>-74.663015</td>\n",
              "      <td>0</td>\n",
              "      <td>58.0</td>\n",
              "    </tr>\n",
              "    <tr>\n",
              "      <th>787549</th>\n",
              "      <td>2019-12-01 16:19:23</td>\n",
              "      <td>4979422371139333</td>\n",
              "      <td>fraud_Satterfield-Lowe</td>\n",
              "      <td>travel</td>\n",
              "      <td>28948.90</td>\n",
              "      <td>Kelly</td>\n",
              "      <td>Zimmerman</td>\n",
              "      <td>F</td>\n",
              "      <td>1893 Katie Tunnel</td>\n",
              "      <td>Westerville</td>\n",
              "      <td>NE</td>\n",
              "      <td>68881</td>\n",
              "      <td>41.4193</td>\n",
              "      <td>-99.3844</td>\n",
              "      <td>73</td>\n",
              "      <td>Product designer</td>\n",
              "      <td>309c4bf7fc47b1ddee5ad883bcf634b6</td>\n",
              "      <td>1354378763</td>\n",
              "      <td>42.317313</td>\n",
              "      <td>-99.139498</td>\n",
              "      <td>0</td>\n",
              "      <td>87.0</td>\n",
              "    </tr>\n",
              "  </tbody>\n",
              "</table>\n",
              "<p>1296675 rows × 22 columns</p>\n",
              "</div>"
            ],
            "text/plain": [
              "        trans_date_trans_time            cc_num  ... is_fraud   age\n",
              "856060    2019-12-16 13:12:51    30518206766474  ...        0  43.0\n",
              "371549    2019-06-21 09:23:24     4783226709001  ...        0  61.0\n",
              "300745    2019-05-26 19:47:03  2286236465059468  ...        0  72.0\n",
              "906626    2019-12-28 13:29:54  3523843138706408  ...        0  51.0\n",
              "483715    2019-07-30 16:14:35  2285066385084291  ...        0  34.0\n",
              "...                       ...               ...  ...      ...   ...\n",
              "352894    2019-06-14 20:15:38  5540636818935089  ...        0  37.0\n",
              "606211    2019-09-14 22:19:01    30408301059761  ...        0  48.0\n",
              "1234797   2020-05-30 17:31:30       60423098130  ...        0  63.0\n",
              "793677    2019-12-02 15:53:46      675909898057  ...        0  58.0\n",
              "787549    2019-12-01 16:19:23  4979422371139333  ...        0  87.0\n",
              "\n",
              "[1296675 rows x 22 columns]"
            ]
          },
          "metadata": {},
          "execution_count": 29
        }
      ]
    },
    {
      "cell_type": "code",
      "metadata": {
        "id": "5mGAh_orYyn6",
        "colab": {
          "base_uri": "https://localhost:8080/",
          "height": 163
        },
        "outputId": "760ab22b-edcc-4149-f903-14c762987826"
      },
      "source": [
        "df.groupby('is_fraud').count()"
      ],
      "execution_count": null,
      "outputs": [
        {
          "output_type": "execute_result",
          "data": {
            "text/html": [
              "<div>\n",
              "<style scoped>\n",
              "    .dataframe tbody tr th:only-of-type {\n",
              "        vertical-align: middle;\n",
              "    }\n",
              "\n",
              "    .dataframe tbody tr th {\n",
              "        vertical-align: top;\n",
              "    }\n",
              "\n",
              "    .dataframe thead th {\n",
              "        text-align: right;\n",
              "    }\n",
              "</style>\n",
              "<table border=\"1\" class=\"dataframe\">\n",
              "  <thead>\n",
              "    <tr style=\"text-align: right;\">\n",
              "      <th></th>\n",
              "      <th>trans_date_trans_time</th>\n",
              "      <th>cc_num</th>\n",
              "      <th>merchant</th>\n",
              "      <th>category</th>\n",
              "      <th>amt</th>\n",
              "      <th>first</th>\n",
              "      <th>last</th>\n",
              "      <th>gender</th>\n",
              "      <th>street</th>\n",
              "      <th>city</th>\n",
              "      <th>state</th>\n",
              "      <th>zip</th>\n",
              "      <th>lat</th>\n",
              "      <th>long</th>\n",
              "      <th>city_pop</th>\n",
              "      <th>job</th>\n",
              "      <th>trans_num</th>\n",
              "      <th>unix_time</th>\n",
              "      <th>merch_lat</th>\n",
              "      <th>merch_long</th>\n",
              "      <th>age</th>\n",
              "    </tr>\n",
              "    <tr>\n",
              "      <th>is_fraud</th>\n",
              "      <th></th>\n",
              "      <th></th>\n",
              "      <th></th>\n",
              "      <th></th>\n",
              "      <th></th>\n",
              "      <th></th>\n",
              "      <th></th>\n",
              "      <th></th>\n",
              "      <th></th>\n",
              "      <th></th>\n",
              "      <th></th>\n",
              "      <th></th>\n",
              "      <th></th>\n",
              "      <th></th>\n",
              "      <th></th>\n",
              "      <th></th>\n",
              "      <th></th>\n",
              "      <th></th>\n",
              "      <th></th>\n",
              "      <th></th>\n",
              "      <th></th>\n",
              "    </tr>\n",
              "  </thead>\n",
              "  <tbody>\n",
              "    <tr>\n",
              "      <th>0</th>\n",
              "      <td>1289169</td>\n",
              "      <td>1289169</td>\n",
              "      <td>1289169</td>\n",
              "      <td>1289169</td>\n",
              "      <td>1289169</td>\n",
              "      <td>1289169</td>\n",
              "      <td>1289169</td>\n",
              "      <td>1289169</td>\n",
              "      <td>1289169</td>\n",
              "      <td>1289169</td>\n",
              "      <td>1289169</td>\n",
              "      <td>1289169</td>\n",
              "      <td>1289169</td>\n",
              "      <td>1289169</td>\n",
              "      <td>1289169</td>\n",
              "      <td>1289169</td>\n",
              "      <td>1289169</td>\n",
              "      <td>1289169</td>\n",
              "      <td>1289169</td>\n",
              "      <td>1289169</td>\n",
              "      <td>1289169</td>\n",
              "    </tr>\n",
              "    <tr>\n",
              "      <th>1</th>\n",
              "      <td>7506</td>\n",
              "      <td>7506</td>\n",
              "      <td>7506</td>\n",
              "      <td>7506</td>\n",
              "      <td>7506</td>\n",
              "      <td>7506</td>\n",
              "      <td>7506</td>\n",
              "      <td>7506</td>\n",
              "      <td>7506</td>\n",
              "      <td>7506</td>\n",
              "      <td>7506</td>\n",
              "      <td>7506</td>\n",
              "      <td>7506</td>\n",
              "      <td>7506</td>\n",
              "      <td>7506</td>\n",
              "      <td>7506</td>\n",
              "      <td>7506</td>\n",
              "      <td>7506</td>\n",
              "      <td>7506</td>\n",
              "      <td>7506</td>\n",
              "      <td>7506</td>\n",
              "    </tr>\n",
              "  </tbody>\n",
              "</table>\n",
              "</div>"
            ],
            "text/plain": [
              "          trans_date_trans_time   cc_num  ...  merch_long      age\n",
              "is_fraud                                  ...                     \n",
              "0                       1289169  1289169  ...     1289169  1289169\n",
              "1                          7506     7506  ...        7506     7506\n",
              "\n",
              "[2 rows x 21 columns]"
            ]
          },
          "metadata": {},
          "execution_count": 30
        }
      ]
    },
    {
      "cell_type": "code",
      "metadata": {
        "id": "VP7IsLwXY2NE",
        "colab": {
          "base_uri": "https://localhost:8080/",
          "height": 143
        },
        "outputId": "5a64bf69-e5f1-4ea5-975b-fbaf74e59115"
      },
      "source": [
        "df.groupby(['is_fraud']).mean()"
      ],
      "execution_count": null,
      "outputs": [
        {
          "output_type": "execute_result",
          "data": {
            "text/html": [
              "<div>\n",
              "<style scoped>\n",
              "    .dataframe tbody tr th:only-of-type {\n",
              "        vertical-align: middle;\n",
              "    }\n",
              "\n",
              "    .dataframe tbody tr th {\n",
              "        vertical-align: top;\n",
              "    }\n",
              "\n",
              "    .dataframe thead th {\n",
              "        text-align: right;\n",
              "    }\n",
              "</style>\n",
              "<table border=\"1\" class=\"dataframe\">\n",
              "  <thead>\n",
              "    <tr style=\"text-align: right;\">\n",
              "      <th></th>\n",
              "      <th>cc_num</th>\n",
              "      <th>amt</th>\n",
              "      <th>zip</th>\n",
              "      <th>lat</th>\n",
              "      <th>long</th>\n",
              "      <th>city_pop</th>\n",
              "      <th>unix_time</th>\n",
              "      <th>merch_lat</th>\n",
              "      <th>merch_long</th>\n",
              "      <th>age</th>\n",
              "    </tr>\n",
              "    <tr>\n",
              "      <th>is_fraud</th>\n",
              "      <th></th>\n",
              "      <th></th>\n",
              "      <th></th>\n",
              "      <th></th>\n",
              "      <th></th>\n",
              "      <th></th>\n",
              "      <th></th>\n",
              "      <th></th>\n",
              "      <th></th>\n",
              "      <th></th>\n",
              "    </tr>\n",
              "  </thead>\n",
              "  <tbody>\n",
              "    <tr>\n",
              "      <th>0</th>\n",
              "      <td>4.172901e+17</td>\n",
              "      <td>67.667110</td>\n",
              "      <td>48805.107481</td>\n",
              "      <td>38.536888</td>\n",
              "      <td>-90.228142</td>\n",
              "      <td>88775.228137</td>\n",
              "      <td>1.349249e+09</td>\n",
              "      <td>38.536659</td>\n",
              "      <td>-90.228274</td>\n",
              "      <td>48.159423</td>\n",
              "    </tr>\n",
              "    <tr>\n",
              "      <th>1</th>\n",
              "      <td>4.003577e+17</td>\n",
              "      <td>531.320092</td>\n",
              "      <td>48038.714229</td>\n",
              "      <td>38.663609</td>\n",
              "      <td>-89.916041</td>\n",
              "      <td>97276.763256</td>\n",
              "      <td>1.348389e+09</td>\n",
              "      <td>38.653901</td>\n",
              "      <td>-89.915808</td>\n",
              "      <td>51.004263</td>\n",
              "    </tr>\n",
              "  </tbody>\n",
              "</table>\n",
              "</div>"
            ],
            "text/plain": [
              "                cc_num         amt  ...  merch_long        age\n",
              "is_fraud                            ...                       \n",
              "0         4.172901e+17   67.667110  ...  -90.228274  48.159423\n",
              "1         4.003577e+17  531.320092  ...  -89.915808  51.004263\n",
              "\n",
              "[2 rows x 10 columns]"
            ]
          },
          "metadata": {},
          "execution_count": 31
        }
      ]
    },
    {
      "cell_type": "code",
      "metadata": {
        "id": "sylR5UuBY85z",
        "colab": {
          "base_uri": "https://localhost:8080/",
          "height": 334
        },
        "outputId": "2c7c0522-6b05-47ab-f1a0-fb342ddfdfed"
      },
      "source": [
        "df.nlargest(4,'amt')"
      ],
      "execution_count": null,
      "outputs": [
        {
          "output_type": "execute_result",
          "data": {
            "text/html": [
              "<div>\n",
              "<style scoped>\n",
              "    .dataframe tbody tr th:only-of-type {\n",
              "        vertical-align: middle;\n",
              "    }\n",
              "\n",
              "    .dataframe tbody tr th {\n",
              "        vertical-align: top;\n",
              "    }\n",
              "\n",
              "    .dataframe thead th {\n",
              "        text-align: right;\n",
              "    }\n",
              "</style>\n",
              "<table border=\"1\" class=\"dataframe\">\n",
              "  <thead>\n",
              "    <tr style=\"text-align: right;\">\n",
              "      <th></th>\n",
              "      <th>trans_date_trans_time</th>\n",
              "      <th>cc_num</th>\n",
              "      <th>merchant</th>\n",
              "      <th>category</th>\n",
              "      <th>amt</th>\n",
              "      <th>first</th>\n",
              "      <th>last</th>\n",
              "      <th>gender</th>\n",
              "      <th>street</th>\n",
              "      <th>city</th>\n",
              "      <th>state</th>\n",
              "      <th>zip</th>\n",
              "      <th>lat</th>\n",
              "      <th>long</th>\n",
              "      <th>city_pop</th>\n",
              "      <th>job</th>\n",
              "      <th>trans_num</th>\n",
              "      <th>unix_time</th>\n",
              "      <th>merch_lat</th>\n",
              "      <th>merch_long</th>\n",
              "      <th>is_fraud</th>\n",
              "      <th>age</th>\n",
              "    </tr>\n",
              "  </thead>\n",
              "  <tbody>\n",
              "    <tr>\n",
              "      <th>787549</th>\n",
              "      <td>2019-12-01 16:19:23</td>\n",
              "      <td>4979422371139333</td>\n",
              "      <td>fraud_Satterfield-Lowe</td>\n",
              "      <td>travel</td>\n",
              "      <td>28948.90</td>\n",
              "      <td>Kelly</td>\n",
              "      <td>Zimmerman</td>\n",
              "      <td>F</td>\n",
              "      <td>1893 Katie Tunnel</td>\n",
              "      <td>Westerville</td>\n",
              "      <td>NE</td>\n",
              "      <td>68881</td>\n",
              "      <td>41.4193</td>\n",
              "      <td>-99.3844</td>\n",
              "      <td>73</td>\n",
              "      <td>Product designer</td>\n",
              "      <td>309c4bf7fc47b1ddee5ad883bcf634b6</td>\n",
              "      <td>1354378763</td>\n",
              "      <td>42.317313</td>\n",
              "      <td>-99.139498</td>\n",
              "      <td>0</td>\n",
              "      <td>87.0</td>\n",
              "    </tr>\n",
              "    <tr>\n",
              "      <th>793677</th>\n",
              "      <td>2019-12-02 15:53:46</td>\n",
              "      <td>675909898057</td>\n",
              "      <td>fraud_Monahan, Hermann and Johns</td>\n",
              "      <td>travel</td>\n",
              "      <td>27390.12</td>\n",
              "      <td>Christopher</td>\n",
              "      <td>Henry</td>\n",
              "      <td>M</td>\n",
              "      <td>1198 Robert Stravenue Apt. 479</td>\n",
              "      <td>Armonk</td>\n",
              "      <td>NY</td>\n",
              "      <td>10504</td>\n",
              "      <td>41.1360</td>\n",
              "      <td>-73.7009</td>\n",
              "      <td>7987</td>\n",
              "      <td>Television/film/video producer</td>\n",
              "      <td>2ca9bd5df126cc35e541a4f2c2551197</td>\n",
              "      <td>1354463626</td>\n",
              "      <td>41.665873</td>\n",
              "      <td>-74.663015</td>\n",
              "      <td>0</td>\n",
              "      <td>58.0</td>\n",
              "    </tr>\n",
              "    <tr>\n",
              "      <th>1234797</th>\n",
              "      <td>2020-05-30 17:31:30</td>\n",
              "      <td>60423098130</td>\n",
              "      <td>fraud_Monahan, Hermann and Johns</td>\n",
              "      <td>travel</td>\n",
              "      <td>27119.77</td>\n",
              "      <td>Jason</td>\n",
              "      <td>Gray</td>\n",
              "      <td>M</td>\n",
              "      <td>875 Amy Point</td>\n",
              "      <td>Amorita</td>\n",
              "      <td>OK</td>\n",
              "      <td>73719</td>\n",
              "      <td>36.9412</td>\n",
              "      <td>-98.2458</td>\n",
              "      <td>83</td>\n",
              "      <td>Barrister's clerk</td>\n",
              "      <td>916093eeab1831be71d49362bf5b7be5</td>\n",
              "      <td>1369935090</td>\n",
              "      <td>37.286865</td>\n",
              "      <td>-97.249611</td>\n",
              "      <td>0</td>\n",
              "      <td>63.0</td>\n",
              "    </tr>\n",
              "    <tr>\n",
              "      <th>606211</th>\n",
              "      <td>2019-09-14 22:19:01</td>\n",
              "      <td>30408301059761</td>\n",
              "      <td>fraud_Boyer-Haley</td>\n",
              "      <td>travel</td>\n",
              "      <td>26544.12</td>\n",
              "      <td>Brandon</td>\n",
              "      <td>Pittman</td>\n",
              "      <td>M</td>\n",
              "      <td>2881 Frey Village</td>\n",
              "      <td>Cross</td>\n",
              "      <td>SC</td>\n",
              "      <td>29436</td>\n",
              "      <td>33.3364</td>\n",
              "      <td>-80.1859</td>\n",
              "      <td>4471</td>\n",
              "      <td>Occupational hygienist</td>\n",
              "      <td>dda9d800d37a9fc2c086a836d66b0588</td>\n",
              "      <td>1347661141</td>\n",
              "      <td>33.020256</td>\n",
              "      <td>-80.125607</td>\n",
              "      <td>0</td>\n",
              "      <td>48.0</td>\n",
              "    </tr>\n",
              "  </tbody>\n",
              "</table>\n",
              "</div>"
            ],
            "text/plain": [
              "        trans_date_trans_time            cc_num  ... is_fraud   age\n",
              "787549    2019-12-01 16:19:23  4979422371139333  ...        0  87.0\n",
              "793677    2019-12-02 15:53:46      675909898057  ...        0  58.0\n",
              "1234797   2020-05-30 17:31:30       60423098130  ...        0  63.0\n",
              "606211    2019-09-14 22:19:01    30408301059761  ...        0  48.0\n",
              "\n",
              "[4 rows x 22 columns]"
            ]
          },
          "metadata": {},
          "execution_count": 32
        }
      ]
    },
    {
      "cell_type": "code",
      "metadata": {
        "id": "aF6ON9GeZLQp"
      },
      "source": [
        "df_copy=df.iloc[:,[4,-2]]"
      ],
      "execution_count": null,
      "outputs": []
    },
    {
      "cell_type": "code",
      "metadata": {
        "id": "zIfzvmLnZYPN",
        "colab": {
          "base_uri": "https://localhost:8080/",
          "height": 423
        },
        "outputId": "3616d346-b87d-4ee7-9a48-cc8e5616f1d7"
      },
      "source": [
        "melted=pd.melt(df_copy,id_vars=['is_fraud'],var_name='Attribute')\n",
        "melted"
      ],
      "execution_count": null,
      "outputs": [
        {
          "output_type": "execute_result",
          "data": {
            "text/html": [
              "<div>\n",
              "<style scoped>\n",
              "    .dataframe tbody tr th:only-of-type {\n",
              "        vertical-align: middle;\n",
              "    }\n",
              "\n",
              "    .dataframe tbody tr th {\n",
              "        vertical-align: top;\n",
              "    }\n",
              "\n",
              "    .dataframe thead th {\n",
              "        text-align: right;\n",
              "    }\n",
              "</style>\n",
              "<table border=\"1\" class=\"dataframe\">\n",
              "  <thead>\n",
              "    <tr style=\"text-align: right;\">\n",
              "      <th></th>\n",
              "      <th>is_fraud</th>\n",
              "      <th>Attribute</th>\n",
              "      <th>value</th>\n",
              "    </tr>\n",
              "  </thead>\n",
              "  <tbody>\n",
              "    <tr>\n",
              "      <th>0</th>\n",
              "      <td>0</td>\n",
              "      <td>amt</td>\n",
              "      <td>4.97</td>\n",
              "    </tr>\n",
              "    <tr>\n",
              "      <th>1</th>\n",
              "      <td>0</td>\n",
              "      <td>amt</td>\n",
              "      <td>107.23</td>\n",
              "    </tr>\n",
              "    <tr>\n",
              "      <th>2</th>\n",
              "      <td>0</td>\n",
              "      <td>amt</td>\n",
              "      <td>220.11</td>\n",
              "    </tr>\n",
              "    <tr>\n",
              "      <th>3</th>\n",
              "      <td>0</td>\n",
              "      <td>amt</td>\n",
              "      <td>45.00</td>\n",
              "    </tr>\n",
              "    <tr>\n",
              "      <th>4</th>\n",
              "      <td>0</td>\n",
              "      <td>amt</td>\n",
              "      <td>41.96</td>\n",
              "    </tr>\n",
              "    <tr>\n",
              "      <th>...</th>\n",
              "      <td>...</td>\n",
              "      <td>...</td>\n",
              "      <td>...</td>\n",
              "    </tr>\n",
              "    <tr>\n",
              "      <th>1296670</th>\n",
              "      <td>0</td>\n",
              "      <td>amt</td>\n",
              "      <td>15.56</td>\n",
              "    </tr>\n",
              "    <tr>\n",
              "      <th>1296671</th>\n",
              "      <td>0</td>\n",
              "      <td>amt</td>\n",
              "      <td>51.70</td>\n",
              "    </tr>\n",
              "    <tr>\n",
              "      <th>1296672</th>\n",
              "      <td>0</td>\n",
              "      <td>amt</td>\n",
              "      <td>105.93</td>\n",
              "    </tr>\n",
              "    <tr>\n",
              "      <th>1296673</th>\n",
              "      <td>0</td>\n",
              "      <td>amt</td>\n",
              "      <td>74.90</td>\n",
              "    </tr>\n",
              "    <tr>\n",
              "      <th>1296674</th>\n",
              "      <td>0</td>\n",
              "      <td>amt</td>\n",
              "      <td>4.30</td>\n",
              "    </tr>\n",
              "  </tbody>\n",
              "</table>\n",
              "<p>1296675 rows × 3 columns</p>\n",
              "</div>"
            ],
            "text/plain": [
              "         is_fraud Attribute   value\n",
              "0               0       amt    4.97\n",
              "1               0       amt  107.23\n",
              "2               0       amt  220.11\n",
              "3               0       amt   45.00\n",
              "4               0       amt   41.96\n",
              "...           ...       ...     ...\n",
              "1296670         0       amt   15.56\n",
              "1296671         0       amt   51.70\n",
              "1296672         0       amt  105.93\n",
              "1296673         0       amt   74.90\n",
              "1296674         0       amt    4.30\n",
              "\n",
              "[1296675 rows x 3 columns]"
            ]
          },
          "metadata": {},
          "execution_count": 34
        }
      ]
    },
    {
      "cell_type": "code",
      "metadata": {
        "id": "9-1NpFjUZdGJ",
        "colab": {
          "base_uri": "https://localhost:8080/",
          "height": 423
        },
        "outputId": "ecf58297-b965-4745-b645-c55bd2bcd35e"
      },
      "source": [
        "melted[melted['is_fraud']==1]"
      ],
      "execution_count": null,
      "outputs": [
        {
          "output_type": "execute_result",
          "data": {
            "text/html": [
              "<div>\n",
              "<style scoped>\n",
              "    .dataframe tbody tr th:only-of-type {\n",
              "        vertical-align: middle;\n",
              "    }\n",
              "\n",
              "    .dataframe tbody tr th {\n",
              "        vertical-align: top;\n",
              "    }\n",
              "\n",
              "    .dataframe thead th {\n",
              "        text-align: right;\n",
              "    }\n",
              "</style>\n",
              "<table border=\"1\" class=\"dataframe\">\n",
              "  <thead>\n",
              "    <tr style=\"text-align: right;\">\n",
              "      <th></th>\n",
              "      <th>is_fraud</th>\n",
              "      <th>Attribute</th>\n",
              "      <th>value</th>\n",
              "    </tr>\n",
              "  </thead>\n",
              "  <tbody>\n",
              "    <tr>\n",
              "      <th>2449</th>\n",
              "      <td>1</td>\n",
              "      <td>amt</td>\n",
              "      <td>281.06</td>\n",
              "    </tr>\n",
              "    <tr>\n",
              "      <th>2472</th>\n",
              "      <td>1</td>\n",
              "      <td>amt</td>\n",
              "      <td>11.52</td>\n",
              "    </tr>\n",
              "    <tr>\n",
              "      <th>2523</th>\n",
              "      <td>1</td>\n",
              "      <td>amt</td>\n",
              "      <td>276.31</td>\n",
              "    </tr>\n",
              "    <tr>\n",
              "      <th>2546</th>\n",
              "      <td>1</td>\n",
              "      <td>amt</td>\n",
              "      <td>7.03</td>\n",
              "    </tr>\n",
              "    <tr>\n",
              "      <th>2553</th>\n",
              "      <td>1</td>\n",
              "      <td>amt</td>\n",
              "      <td>275.73</td>\n",
              "    </tr>\n",
              "    <tr>\n",
              "      <th>...</th>\n",
              "      <td>...</td>\n",
              "      <td>...</td>\n",
              "      <td>...</td>\n",
              "    </tr>\n",
              "    <tr>\n",
              "      <th>1295399</th>\n",
              "      <td>1</td>\n",
              "      <td>amt</td>\n",
              "      <td>977.01</td>\n",
              "    </tr>\n",
              "    <tr>\n",
              "      <th>1295491</th>\n",
              "      <td>1</td>\n",
              "      <td>amt</td>\n",
              "      <td>1210.91</td>\n",
              "    </tr>\n",
              "    <tr>\n",
              "      <th>1295532</th>\n",
              "      <td>1</td>\n",
              "      <td>amt</td>\n",
              "      <td>10.24</td>\n",
              "    </tr>\n",
              "    <tr>\n",
              "      <th>1295666</th>\n",
              "      <td>1</td>\n",
              "      <td>amt</td>\n",
              "      <td>21.69</td>\n",
              "    </tr>\n",
              "    <tr>\n",
              "      <th>1295733</th>\n",
              "      <td>1</td>\n",
              "      <td>amt</td>\n",
              "      <td>10.20</td>\n",
              "    </tr>\n",
              "  </tbody>\n",
              "</table>\n",
              "<p>7506 rows × 3 columns</p>\n",
              "</div>"
            ],
            "text/plain": [
              "         is_fraud Attribute    value\n",
              "2449            1       amt   281.06\n",
              "2472            1       amt    11.52\n",
              "2523            1       amt   276.31\n",
              "2546            1       amt     7.03\n",
              "2553            1       amt   275.73\n",
              "...           ...       ...      ...\n",
              "1295399         1       amt   977.01\n",
              "1295491         1       amt  1210.91\n",
              "1295532         1       amt    10.24\n",
              "1295666         1       amt    21.69\n",
              "1295733         1       amt    10.20\n",
              "\n",
              "[7506 rows x 3 columns]"
            ]
          },
          "metadata": {},
          "execution_count": 35
        }
      ]
    },
    {
      "cell_type": "code",
      "metadata": {
        "id": "gwoCug_WZgvW",
        "colab": {
          "base_uri": "https://localhost:8080/",
          "height": 143
        },
        "outputId": "cd2d11f7-3223-4b23-afd9-ab03bfafe45c"
      },
      "source": [
        "unmelt=melted.pivot_table(index=['is_fraud'],columns='Attribute',values='value',aggfunc='mean')\n",
        "unmelt"
      ],
      "execution_count": null,
      "outputs": [
        {
          "output_type": "execute_result",
          "data": {
            "text/html": [
              "<div>\n",
              "<style scoped>\n",
              "    .dataframe tbody tr th:only-of-type {\n",
              "        vertical-align: middle;\n",
              "    }\n",
              "\n",
              "    .dataframe tbody tr th {\n",
              "        vertical-align: top;\n",
              "    }\n",
              "\n",
              "    .dataframe thead th {\n",
              "        text-align: right;\n",
              "    }\n",
              "</style>\n",
              "<table border=\"1\" class=\"dataframe\">\n",
              "  <thead>\n",
              "    <tr style=\"text-align: right;\">\n",
              "      <th>Attribute</th>\n",
              "      <th>amt</th>\n",
              "    </tr>\n",
              "    <tr>\n",
              "      <th>is_fraud</th>\n",
              "      <th></th>\n",
              "    </tr>\n",
              "  </thead>\n",
              "  <tbody>\n",
              "    <tr>\n",
              "      <th>0</th>\n",
              "      <td>67.667110</td>\n",
              "    </tr>\n",
              "    <tr>\n",
              "      <th>1</th>\n",
              "      <td>531.320092</td>\n",
              "    </tr>\n",
              "  </tbody>\n",
              "</table>\n",
              "</div>"
            ],
            "text/plain": [
              "Attribute         amt\n",
              "is_fraud             \n",
              "0           67.667110\n",
              "1          531.320092"
            ]
          },
          "metadata": {},
          "execution_count": 36
        }
      ]
    },
    {
      "cell_type": "code",
      "metadata": {
        "id": "GEHjg4nXZkE4",
        "colab": {
          "base_uri": "https://localhost:8080/",
          "height": 455
        },
        "outputId": "7318ed1a-6827-431a-9abb-8a23460b8ff2"
      },
      "source": [
        "pd.crosstab(df.amt,df.is_fraud)"
      ],
      "execution_count": null,
      "outputs": [
        {
          "output_type": "execute_result",
          "data": {
            "text/html": [
              "<div>\n",
              "<style scoped>\n",
              "    .dataframe tbody tr th:only-of-type {\n",
              "        vertical-align: middle;\n",
              "    }\n",
              "\n",
              "    .dataframe tbody tr th {\n",
              "        vertical-align: top;\n",
              "    }\n",
              "\n",
              "    .dataframe thead th {\n",
              "        text-align: right;\n",
              "    }\n",
              "</style>\n",
              "<table border=\"1\" class=\"dataframe\">\n",
              "  <thead>\n",
              "    <tr style=\"text-align: right;\">\n",
              "      <th>is_fraud</th>\n",
              "      <th>0</th>\n",
              "      <th>1</th>\n",
              "    </tr>\n",
              "    <tr>\n",
              "      <th>amt</th>\n",
              "      <th></th>\n",
              "      <th></th>\n",
              "    </tr>\n",
              "  </thead>\n",
              "  <tbody>\n",
              "    <tr>\n",
              "      <th>1.00</th>\n",
              "      <td>222</td>\n",
              "      <td>0</td>\n",
              "    </tr>\n",
              "    <tr>\n",
              "      <th>1.01</th>\n",
              "      <td>523</td>\n",
              "      <td>0</td>\n",
              "    </tr>\n",
              "    <tr>\n",
              "      <th>1.02</th>\n",
              "      <td>533</td>\n",
              "      <td>0</td>\n",
              "    </tr>\n",
              "    <tr>\n",
              "      <th>1.03</th>\n",
              "      <td>499</td>\n",
              "      <td>0</td>\n",
              "    </tr>\n",
              "    <tr>\n",
              "      <th>1.04</th>\n",
              "      <td>538</td>\n",
              "      <td>0</td>\n",
              "    </tr>\n",
              "    <tr>\n",
              "      <th>...</th>\n",
              "      <td>...</td>\n",
              "      <td>...</td>\n",
              "    </tr>\n",
              "    <tr>\n",
              "      <th>25086.94</th>\n",
              "      <td>1</td>\n",
              "      <td>0</td>\n",
              "    </tr>\n",
              "    <tr>\n",
              "      <th>26544.12</th>\n",
              "      <td>1</td>\n",
              "      <td>0</td>\n",
              "    </tr>\n",
              "    <tr>\n",
              "      <th>27119.77</th>\n",
              "      <td>1</td>\n",
              "      <td>0</td>\n",
              "    </tr>\n",
              "    <tr>\n",
              "      <th>27390.12</th>\n",
              "      <td>1</td>\n",
              "      <td>0</td>\n",
              "    </tr>\n",
              "    <tr>\n",
              "      <th>28948.90</th>\n",
              "      <td>1</td>\n",
              "      <td>0</td>\n",
              "    </tr>\n",
              "  </tbody>\n",
              "</table>\n",
              "<p>52928 rows × 2 columns</p>\n",
              "</div>"
            ],
            "text/plain": [
              "is_fraud    0  1\n",
              "amt             \n",
              "1.00      222  0\n",
              "1.01      523  0\n",
              "1.02      533  0\n",
              "1.03      499  0\n",
              "1.04      538  0\n",
              "...       ... ..\n",
              "25086.94    1  0\n",
              "26544.12    1  0\n",
              "27119.77    1  0\n",
              "27390.12    1  0\n",
              "28948.90    1  0\n",
              "\n",
              "[52928 rows x 2 columns]"
            ]
          },
          "metadata": {},
          "execution_count": 37
        }
      ]
    },
    {
      "cell_type": "code",
      "metadata": {
        "id": "7REXIm-3Z5Ll"
      },
      "source": [
        "df_proper = df.loc[df['is_fraud']==0,['amt']]\n",
        "df_fraud = df.loc[df['is_fraud']==1,['amt']]"
      ],
      "execution_count": null,
      "outputs": []
    },
    {
      "cell_type": "markdown",
      "metadata": {
        "id": "aLJ7WyJ0Tio4"
      },
      "source": [
        "###**Label Encoder**"
      ]
    },
    {
      "cell_type": "code",
      "metadata": {
        "id": "GNaB_NYMo40l"
      },
      "source": [
        "from sklearn.preprocessing import LabelEncoder\n",
        "\n",
        "# label_encoder \n",
        "label_encoder = LabelEncoder()\n",
        " \n",
        "# Encode labels in column 'gender'.\n",
        "df['gender']= label_encoder.fit_transform(df['gender'])"
      ],
      "execution_count": null,
      "outputs": []
    },
    {
      "cell_type": "code",
      "metadata": {
        "id": "tLN6WsPro8P5",
        "colab": {
          "base_uri": "https://localhost:8080/",
          "height": 423
        },
        "outputId": "c681d0a9-e784-4e66-97f0-1e89baf3f8a3"
      },
      "source": [
        "# Seperating nominal from numeric\n",
        "df1 = df.loc[:,df.dtypes!=np.object]\n",
        "df1"
      ],
      "execution_count": null,
      "outputs": [
        {
          "output_type": "execute_result",
          "data": {
            "text/html": [
              "<div>\n",
              "<style scoped>\n",
              "    .dataframe tbody tr th:only-of-type {\n",
              "        vertical-align: middle;\n",
              "    }\n",
              "\n",
              "    .dataframe tbody tr th {\n",
              "        vertical-align: top;\n",
              "    }\n",
              "\n",
              "    .dataframe thead th {\n",
              "        text-align: right;\n",
              "    }\n",
              "</style>\n",
              "<table border=\"1\" class=\"dataframe\">\n",
              "  <thead>\n",
              "    <tr style=\"text-align: right;\">\n",
              "      <th></th>\n",
              "      <th>cc_num</th>\n",
              "      <th>amt</th>\n",
              "      <th>gender</th>\n",
              "      <th>zip</th>\n",
              "      <th>lat</th>\n",
              "      <th>long</th>\n",
              "      <th>city_pop</th>\n",
              "      <th>unix_time</th>\n",
              "      <th>merch_lat</th>\n",
              "      <th>merch_long</th>\n",
              "      <th>is_fraud</th>\n",
              "      <th>age</th>\n",
              "    </tr>\n",
              "  </thead>\n",
              "  <tbody>\n",
              "    <tr>\n",
              "      <th>0</th>\n",
              "      <td>2703186189652095</td>\n",
              "      <td>4.97</td>\n",
              "      <td>0</td>\n",
              "      <td>28654</td>\n",
              "      <td>36.0788</td>\n",
              "      <td>-81.1781</td>\n",
              "      <td>3495</td>\n",
              "      <td>1325376018</td>\n",
              "      <td>36.011293</td>\n",
              "      <td>-82.048315</td>\n",
              "      <td>0</td>\n",
              "      <td>34.0</td>\n",
              "    </tr>\n",
              "    <tr>\n",
              "      <th>1</th>\n",
              "      <td>630423337322</td>\n",
              "      <td>107.23</td>\n",
              "      <td>0</td>\n",
              "      <td>99160</td>\n",
              "      <td>48.8878</td>\n",
              "      <td>-118.2105</td>\n",
              "      <td>149</td>\n",
              "      <td>1325376044</td>\n",
              "      <td>49.159047</td>\n",
              "      <td>-118.186462</td>\n",
              "      <td>0</td>\n",
              "      <td>43.0</td>\n",
              "    </tr>\n",
              "    <tr>\n",
              "      <th>2</th>\n",
              "      <td>38859492057661</td>\n",
              "      <td>220.11</td>\n",
              "      <td>1</td>\n",
              "      <td>83252</td>\n",
              "      <td>42.1808</td>\n",
              "      <td>-112.2620</td>\n",
              "      <td>4154</td>\n",
              "      <td>1325376051</td>\n",
              "      <td>43.150704</td>\n",
              "      <td>-112.154481</td>\n",
              "      <td>0</td>\n",
              "      <td>60.0</td>\n",
              "    </tr>\n",
              "    <tr>\n",
              "      <th>3</th>\n",
              "      <td>3534093764340240</td>\n",
              "      <td>45.00</td>\n",
              "      <td>1</td>\n",
              "      <td>59632</td>\n",
              "      <td>46.2306</td>\n",
              "      <td>-112.1138</td>\n",
              "      <td>1939</td>\n",
              "      <td>1325376076</td>\n",
              "      <td>47.034331</td>\n",
              "      <td>-112.561071</td>\n",
              "      <td>0</td>\n",
              "      <td>55.0</td>\n",
              "    </tr>\n",
              "    <tr>\n",
              "      <th>4</th>\n",
              "      <td>375534208663984</td>\n",
              "      <td>41.96</td>\n",
              "      <td>1</td>\n",
              "      <td>24433</td>\n",
              "      <td>38.4207</td>\n",
              "      <td>-79.4629</td>\n",
              "      <td>99</td>\n",
              "      <td>1325376186</td>\n",
              "      <td>38.674999</td>\n",
              "      <td>-78.632459</td>\n",
              "      <td>0</td>\n",
              "      <td>36.0</td>\n",
              "    </tr>\n",
              "    <tr>\n",
              "      <th>...</th>\n",
              "      <td>...</td>\n",
              "      <td>...</td>\n",
              "      <td>...</td>\n",
              "      <td>...</td>\n",
              "      <td>...</td>\n",
              "      <td>...</td>\n",
              "      <td>...</td>\n",
              "      <td>...</td>\n",
              "      <td>...</td>\n",
              "      <td>...</td>\n",
              "      <td>...</td>\n",
              "      <td>...</td>\n",
              "    </tr>\n",
              "    <tr>\n",
              "      <th>1296670</th>\n",
              "      <td>30263540414123</td>\n",
              "      <td>15.56</td>\n",
              "      <td>1</td>\n",
              "      <td>84735</td>\n",
              "      <td>37.7175</td>\n",
              "      <td>-112.4777</td>\n",
              "      <td>258</td>\n",
              "      <td>1371816728</td>\n",
              "      <td>36.841266</td>\n",
              "      <td>-111.690765</td>\n",
              "      <td>0</td>\n",
              "      <td>60.0</td>\n",
              "    </tr>\n",
              "    <tr>\n",
              "      <th>1296671</th>\n",
              "      <td>6011149206456997</td>\n",
              "      <td>51.70</td>\n",
              "      <td>1</td>\n",
              "      <td>21790</td>\n",
              "      <td>39.2667</td>\n",
              "      <td>-77.5101</td>\n",
              "      <td>100</td>\n",
              "      <td>1371816739</td>\n",
              "      <td>38.906881</td>\n",
              "      <td>-78.246528</td>\n",
              "      <td>0</td>\n",
              "      <td>42.0</td>\n",
              "    </tr>\n",
              "    <tr>\n",
              "      <th>1296672</th>\n",
              "      <td>3514865930894695</td>\n",
              "      <td>105.93</td>\n",
              "      <td>1</td>\n",
              "      <td>88325</td>\n",
              "      <td>32.9396</td>\n",
              "      <td>-105.8189</td>\n",
              "      <td>899</td>\n",
              "      <td>1371816752</td>\n",
              "      <td>33.619513</td>\n",
              "      <td>-105.130529</td>\n",
              "      <td>0</td>\n",
              "      <td>54.0</td>\n",
              "    </tr>\n",
              "    <tr>\n",
              "      <th>1296673</th>\n",
              "      <td>2720012583106919</td>\n",
              "      <td>74.90</td>\n",
              "      <td>1</td>\n",
              "      <td>57756</td>\n",
              "      <td>43.3526</td>\n",
              "      <td>-102.5411</td>\n",
              "      <td>1126</td>\n",
              "      <td>1371816816</td>\n",
              "      <td>42.788940</td>\n",
              "      <td>-103.241160</td>\n",
              "      <td>0</td>\n",
              "      <td>41.0</td>\n",
              "    </tr>\n",
              "    <tr>\n",
              "      <th>1296674</th>\n",
              "      <td>4292902571056973207</td>\n",
              "      <td>4.30</td>\n",
              "      <td>1</td>\n",
              "      <td>59871</td>\n",
              "      <td>45.8433</td>\n",
              "      <td>-113.8748</td>\n",
              "      <td>218</td>\n",
              "      <td>1371816817</td>\n",
              "      <td>46.565983</td>\n",
              "      <td>-114.186110</td>\n",
              "      <td>0</td>\n",
              "      <td>26.0</td>\n",
              "    </tr>\n",
              "  </tbody>\n",
              "</table>\n",
              "<p>1296675 rows × 12 columns</p>\n",
              "</div>"
            ],
            "text/plain": [
              "                      cc_num     amt  gender  ...  merch_long  is_fraud   age\n",
              "0           2703186189652095    4.97       0  ...  -82.048315         0  34.0\n",
              "1               630423337322  107.23       0  ... -118.186462         0  43.0\n",
              "2             38859492057661  220.11       1  ... -112.154481         0  60.0\n",
              "3           3534093764340240   45.00       1  ... -112.561071         0  55.0\n",
              "4            375534208663984   41.96       1  ...  -78.632459         0  36.0\n",
              "...                      ...     ...     ...  ...         ...       ...   ...\n",
              "1296670       30263540414123   15.56       1  ... -111.690765         0  60.0\n",
              "1296671     6011149206456997   51.70       1  ...  -78.246528         0  42.0\n",
              "1296672     3514865930894695  105.93       1  ... -105.130529         0  54.0\n",
              "1296673     2720012583106919   74.90       1  ... -103.241160         0  41.0\n",
              "1296674  4292902571056973207    4.30       1  ... -114.186110         0  26.0\n",
              "\n",
              "[1296675 rows x 12 columns]"
            ]
          },
          "metadata": {},
          "execution_count": 40
        }
      ]
    },
    {
      "cell_type": "markdown",
      "metadata": {
        "id": "A-M3EdpFLFsN"
      },
      "source": [
        "# **Hypothesis Testing**"
      ]
    },
    {
      "cell_type": "markdown",
      "source": [
        "##**z-test**"
      ],
      "metadata": {
        "id": "DNcdM-fu_qgK"
      }
    },
    {
      "cell_type": "code",
      "source": [
        "pop_mean = df['amt'].mean()\n",
        "pop_mean"
      ],
      "metadata": {
        "id": "GMSOuHIp_xQe",
        "colab": {
          "base_uri": "https://localhost:8080/"
        },
        "outputId": "ea23e55b-c246-488c-b6f8-b554656b993c"
      },
      "execution_count": null,
      "outputs": [
        {
          "output_type": "execute_result",
          "data": {
            "text/plain": [
              "70.35103545606833"
            ]
          },
          "metadata": {},
          "execution_count": 41
        }
      ]
    },
    {
      "cell_type": "code",
      "source": [
        "pop_std = df['amt'].std()"
      ],
      "metadata": {
        "id": "gEzc2yhvAIVR"
      },
      "execution_count": null,
      "outputs": []
    },
    {
      "cell_type": "code",
      "source": [
        "data = df['amt'].sample(42)"
      ],
      "metadata": {
        "id": "3g_AvZd5AgXP"
      },
      "execution_count": null,
      "outputs": []
    },
    {
      "cell_type": "code",
      "source": [
        "sample_mean=np.mean(data)\n",
        "sample_mean"
      ],
      "metadata": {
        "id": "1dGmDLuaCtGf",
        "colab": {
          "base_uri": "https://localhost:8080/"
        },
        "outputId": "e6935618-c1a5-47ca-a613-883b752ad2ce"
      },
      "execution_count": null,
      "outputs": [
        {
          "output_type": "execute_result",
          "data": {
            "text/plain": [
              "86.91428571428568"
            ]
          },
          "metadata": {},
          "execution_count": 44
        }
      ]
    },
    {
      "cell_type": "code",
      "source": [
        "import scipy.stats as st\n",
        "st.norm.interval(alpha=0.1,loc=np.mean(data),scale=st.sem(data))"
      ],
      "metadata": {
        "id": "xvx7U3dPAYQG",
        "colab": {
          "base_uri": "https://localhost:8080/"
        },
        "outputId": "dd40f4b9-5dde-4910-a1ff-f6e5fdf57208"
      },
      "execution_count": null,
      "outputs": [
        {
          "output_type": "execute_result",
          "data": {
            "text/plain": [
              "(84.628133189724, 89.20043823884738)"
            ]
          },
          "metadata": {},
          "execution_count": 45
        }
      ]
    },
    {
      "cell_type": "code",
      "source": [
        "#two tailed \n",
        "Z_critical = st.norm.ppf(0.1/2)\n",
        "Z_critical"
      ],
      "metadata": {
        "id": "jawKzVERBszh",
        "colab": {
          "base_uri": "https://localhost:8080/"
        },
        "outputId": "3dea11c0-c8a8-47f9-d8c3-f6837f07e4ca"
      },
      "execution_count": null,
      "outputs": [
        {
          "output_type": "execute_result",
          "data": {
            "text/plain": [
              "-1.6448536269514729"
            ]
          },
          "metadata": {},
          "execution_count": 46
        }
      ]
    },
    {
      "cell_type": "code",
      "source": [
        "# H0 : mu = 70.35   :  mu!= 70.35\n",
        "n = 42 \n",
        "xbar = sample_mean #sample mean\n",
        "mu = pop_mean       #population mean\n",
        "sigma =  pop_std    #population standard deviation\n",
        "alpha = 0.1"
      ],
      "metadata": {
        "id": "Hac4Y77Y_22y"
      },
      "execution_count": null,
      "outputs": []
    },
    {
      "cell_type": "code",
      "source": [
        "z_value = (xbar-mu)/(sigma/np.sqrt(n))\n",
        "z_value"
      ],
      "metadata": {
        "id": "m7zcCBu9A1WA",
        "colab": {
          "base_uri": "https://localhost:8080/"
        },
        "outputId": "54efe66d-7db5-4c47-cad8-5c245d721a51"
      },
      "execution_count": null,
      "outputs": [
        {
          "output_type": "execute_result",
          "data": {
            "text/plain": [
              "0.6695657590020503"
            ]
          },
          "metadata": {},
          "execution_count": 48
        }
      ]
    },
    {
      "cell_type": "code",
      "source": [
        "p_value = 2*(1- st.norm.cdf(z_value))\n",
        "p_value"
      ],
      "metadata": {
        "id": "vb3Itv8xCoSC",
        "colab": {
          "base_uri": "https://localhost:8080/"
        },
        "outputId": "7c994122-8a44-465c-93db-a3e9bbf64cc4"
      },
      "execution_count": null,
      "outputs": [
        {
          "output_type": "execute_result",
          "data": {
            "text/plain": [
              "0.5031346479208547"
            ]
          },
          "metadata": {},
          "execution_count": 49
        }
      ]
    },
    {
      "cell_type": "code",
      "source": [
        "if(p_value>alpha):\n",
        "   print('Accept Null Hypothesis')\n",
        "else:\n",
        "   print('Reject Null Hypothesis')"
      ],
      "metadata": {
        "id": "KV_3mRKRA8IS",
        "colab": {
          "base_uri": "https://localhost:8080/"
        },
        "outputId": "06a8f274-461a-4f9d-b3bd-55859955337b"
      },
      "execution_count": null,
      "outputs": [
        {
          "output_type": "stream",
          "name": "stdout",
          "text": [
            "Accept Null Hypothesis\n"
          ]
        }
      ]
    },
    {
      "cell_type": "code",
      "metadata": {
        "id": "z6GnySm1LiRQ",
        "colab": {
          "base_uri": "https://localhost:8080/"
        },
        "outputId": "bbb827de-0aae-4d90-b0d9-cc393847916b"
      },
      "source": [
        "import scipy.stats as st\n",
        "st.norm.interval(alpha=0.95,loc=np.mean(data),scale=st.sem(data))"
      ],
      "execution_count": null,
      "outputs": [
        {
          "output_type": "execute_result",
          "data": {
            "text/plain": [
              "(51.25672892815683, 122.57184250041453)"
            ]
          },
          "metadata": {},
          "execution_count": 51
        }
      ]
    },
    {
      "cell_type": "code",
      "metadata": {
        "id": "8NGTgtsxceP2",
        "colab": {
          "base_uri": "https://localhost:8080/"
        },
        "outputId": "d74ccdb5-3f61-41ea-91e4-59da1bfe1dde"
      },
      "source": [
        "import scipy.stats as st\n",
        "st.norm.interval(alpha=0.99,loc=np.mean(data),scale=st.sem(data))"
      ],
      "execution_count": null,
      "outputs": [
        {
          "output_type": "execute_result",
          "data": {
            "text/plain": [
              "(40.05231254174108, 133.77625888683028)"
            ]
          },
          "metadata": {},
          "execution_count": 52
        }
      ]
    },
    {
      "cell_type": "markdown",
      "source": [
        "##**t-test**"
      ],
      "metadata": {
        "id": "YU3E8WWFK1x_"
      }
    },
    {
      "cell_type": "code",
      "source": [
        "#H0 : mu=75.35  Ha :  mu=75.35\n",
        "n = 42 \n",
        "degrees_of_freedom = n-1\n",
        "xbar =  sample_mean       #sample mean\n",
        "mu = pop_mean             #population mean\n",
        "sigma =  pop_std               \n",
        "alpha = 0.1"
      ],
      "metadata": {
        "id": "x2daItgBK5tE"
      },
      "execution_count": null,
      "outputs": []
    },
    {
      "cell_type": "code",
      "source": [
        "t_value=(xbar-mu)/(sigma/np.sqrt(n))\n",
        "t_value"
      ],
      "metadata": {
        "colab": {
          "base_uri": "https://localhost:8080/"
        },
        "id": "BUOVvZ4sK5wl",
        "outputId": "e7ab298a-a30c-41ff-d67f-70cee4d6781c"
      },
      "execution_count": null,
      "outputs": [
        {
          "output_type": "execute_result",
          "data": {
            "text/plain": [
              "0.6695657590020503"
            ]
          },
          "metadata": {},
          "execution_count": 54
        }
      ]
    },
    {
      "cell_type": "code",
      "source": [
        "t_critical=abs(st.t.ppf(alpha/2,degrees_of_freedom))\n",
        "t_critical"
      ],
      "metadata": {
        "colab": {
          "base_uri": "https://localhost:8080/"
        },
        "id": "tJjB7JHlLDmt",
        "outputId": "2339263d-bcb1-4c61-dec0-4507079c91c3"
      },
      "execution_count": null,
      "outputs": [
        {
          "output_type": "execute_result",
          "data": {
            "text/plain": [
              "1.682878000411292"
            ]
          },
          "metadata": {},
          "execution_count": 55
        }
      ]
    },
    {
      "cell_type": "code",
      "source": [
        "if(t_value<t_critical): #2 tail\n",
        "  print('Accept Null hypothesis')\n",
        "else:\n",
        "  print('Reject Null Hypothesis')"
      ],
      "metadata": {
        "colab": {
          "base_uri": "https://localhost:8080/"
        },
        "id": "BlJ1Egy3LDqR",
        "outputId": "709d787f-b420-4dfa-8105-e4a793302e76"
      },
      "execution_count": null,
      "outputs": [
        {
          "output_type": "stream",
          "name": "stdout",
          "text": [
            "Accept Null hypothesis\n"
          ]
        }
      ]
    },
    {
      "cell_type": "markdown",
      "metadata": {
        "id": "wTrzCpxtQgG4"
      },
      "source": [
        "# **Visualisation**"
      ]
    },
    {
      "cell_type": "code",
      "metadata": {
        "id": "1gpg_bEAPjJz",
        "colab": {
          "base_uri": "https://localhost:8080/"
        },
        "outputId": "12d4e47f-fee5-4abf-875a-0445b0a9b183"
      },
      "source": [
        "# OUTLIERS\n",
        "\n",
        "# Finding the 1st and 3rd Quantile for Amount Column\n",
        "Q1 = np.percentile(df['amt'], 25)\n",
        "Q3 = np.percentile(df['amt'], 75)\n",
        "\n",
        "# interquartile range\n",
        "IQR = (Q3 - Q1)\n",
        "\n",
        "# computing lower bound and upper bound\n",
        "lower_bound = Q1 - (IQR * 1.5)\n",
        "upper_bound = Q3 + (IQR * 1.5)\n",
        "\n",
        "#  Remove values less than lower bound and greater than upper bound\n",
        "outliers_data = (df['amt'] < lower_bound) | (df['amt'] > upper_bound)\n",
        "\n",
        "# Finding outliers from dataset\n",
        "outliers = df[outliers_data]['amt']\n",
        "fraud_outliers = df[(df['is_fraud'] == 1) & outliers_data]['amt']\n",
        "proper_outliers = df[(df['is_fraud'] == 0) & outliers_data]['amt']\n",
        "print(f\"Total Number of Outliers : {outliers.count()}\")\n",
        "print(f\"Number of Outliers in Fraudulent Class : {fraud_outliers.count()}\")\n",
        "print(f\"Number of Outliers in Normal Class : {proper_outliers.count()}\")"
      ],
      "execution_count": null,
      "outputs": [
        {
          "output_type": "stream",
          "name": "stdout",
          "text": [
            "Total Number of Outliers : 67290\n",
            "Number of Outliers in Fraudulent Class : 5705\n",
            "Number of Outliers in Normal Class : 61585\n"
          ]
        }
      ]
    },
    {
      "cell_type": "code",
      "metadata": {
        "id": "UdkFsuhPPjYI",
        "colab": {
          "base_uri": "https://localhost:8080/",
          "height": 279
        },
        "outputId": "3b6e6003-792e-49cd-ebb3-ced73053233b"
      },
      "source": [
        "sns.boxplot(x = \"amt\", data = df)\n",
        "plt.show()"
      ],
      "execution_count": null,
      "outputs": [
        {
          "output_type": "display_data",
          "data": {
            "image/png": "[encoded data removed]",
            "text/plain": [
              "<Figure size 432x288 with 1 Axes>"
            ]
          },
          "metadata": {
            "needs_background": "light"
          }
        }
      ]
    },
    {
      "cell_type": "code",
      "metadata": {
        "id": "27PkMBhVQsxX",
        "colab": {
          "base_uri": "https://localhost:8080/",
          "height": 282
        },
        "outputId": "1ff95f39-cfa3-4d14-f59c-572fd2837942"
      },
      "source": [
        "sns.boxplot(x = \"is_fraud\", y = \"amt\", data = df)\n",
        "plt.show()"
      ],
      "execution_count": null,
      "outputs": [
        {
          "output_type": "display_data",
          "data": {
            "image/png": "[encoded data removed]",
            "text/plain": [
              "<Figure size 432x288 with 1 Axes>"
            ]
          },
          "metadata": {
            "needs_background": "light"
          }
        }
      ]
    },
    {
      "cell_type": "code",
      "metadata": {
        "id": "HGqu9ul-Qs1T",
        "colab": {
          "base_uri": "https://localhost:8080/",
          "height": 284
        },
        "outputId": "f53c5c87-e6d2-46b5-be47-684e0c63b1ba"
      },
      "source": [
        "sns.boxplot(x = \"is_fraud\", y = \"amt\", data = df)\n",
        "plt.ylim(0, 3000)\n",
        "plt.show()"
      ],
      "execution_count": null,
      "outputs": [
        {
          "output_type": "display_data",
          "data": {
            "image/png": "[encoded data removed]",
            "text/plain": [
              "<Figure size 432x288 with 1 Axes>"
            ]
          },
          "metadata": {
            "needs_background": "light"
          }
        }
      ]
    },
    {
      "cell_type": "code",
      "metadata": {
        "id": "jlKis6jJPjbc",
        "colab": {
          "base_uri": "https://localhost:8080/",
          "height": 966
        },
        "outputId": "4b8b53ea-12a6-4d69-e297-11a0b0a0bcf5"
      },
      "source": [
        "plt.figure(figsize=(18,16))\n",
        "sns.boxenplot(x=df.is_fraud, y=df.amt).set_title(\"Title\")"
      ],
      "execution_count": null,
      "outputs": [
        {
          "output_type": "execute_result",
          "data": {
            "text/plain": [
              "Text(0.5, 1.0, 'Title')"
            ]
          },
          "metadata": {},
          "execution_count": 61
        },
        {
          "output_type": "display_data",
          "data": {
            "image/png": "[encoded data removed]",
            "text/plain": [
              "<Figure size 1296x1152 with 1 Axes>"
            ]
          },
          "metadata": {
            "needs_background": "light"
          }
        }
      ]
    },
    {
      "cell_type": "code",
      "metadata": {
        "id": "dfzTMFITPjeX"
      },
      "source": [
        "#data = df[['amt','age', 'is_fraud']]\n",
        "#sns.set_style(\"whitegrid\")\n",
        "#sns.pairplot(data, hue='is_fraud',size=5)\n",
        "#plt.show()"
      ],
      "execution_count": null,
      "outputs": []
    },
    {
      "cell_type": "code",
      "metadata": {
        "id": "5K393EuRQ19s"
      },
      "source": [
        "# Creating fraudulent dataframe\n",
        "data_fraud = df[df['is_fraud'] == 1]\n",
        "\n",
        "# Creating non fraudulent dataframe\n",
        "data_proper = df[df['is_fraud'] == 0]"
      ],
      "execution_count": null,
      "outputs": []
    },
    {
      "cell_type": "code",
      "metadata": {
        "id": "E8fT-65FQ2As",
        "colab": {
          "base_uri": "https://localhost:8080/",
          "height": 334
        },
        "outputId": "bf0db221-e708-4512-e58f-0bb7d0f78f2f"
      },
      "source": [
        "# Distribution plot\n",
        "plt.figure(figsize=(8,5))\n",
        "ax = sns.distplot(data_fraud['age'],label='fraudulent',hist=False)\n",
        "ax = sns.distplot(data_proper['age'],label='non-fraudulent',hist=False)\n",
        "ax.set(xlabel='age')\n",
        "plt.show()"
      ],
      "execution_count": null,
      "outputs": [
        {
          "output_type": "display_data",
          "data": {
            "image/png": "[encoded data removed]",
            "text/plain": [
              "<Figure size 576x360 with 1 Axes>"
            ]
          },
          "metadata": {
            "needs_background": "light"
          }
        }
      ]
    },
    {
      "cell_type": "code",
      "metadata": {
        "id": "xu1s_X2ZQ2DU",
        "colab": {
          "base_uri": "https://localhost:8080/",
          "height": 334
        },
        "outputId": "17053cc5-0972-4a8f-ce37-806c0cc39e4e"
      },
      "source": [
        "# Distribution plot\n",
        "plt.figure(figsize=(8,5))\n",
        "ax = sns.distplot(data_fraud['amt'],label='fraudulent',hist=False)\n",
        "ax = sns.distplot(data_proper['amt'],label='non fraudulent',hist=False)\n",
        "ax.set(xlabel='Transction Amount')\n",
        "plt.show()"
      ],
      "execution_count": null,
      "outputs": [
        {
          "output_type": "display_data",
          "data": {
            "image/png": "[encoded data removed]",
            "text/plain": [
              "<Figure size 576x360 with 1 Axes>"
            ]
          },
          "metadata": {
            "needs_background": "light"
          }
        }
      ]
    },
    {
      "cell_type": "code",
      "metadata": {
        "id": "UwoaonO9Q2GS",
        "colab": {
          "base_uri": "https://localhost:8080/",
          "height": 295
        },
        "outputId": "309b9bd1-38a3-4a6d-874d-c20623a0b1f1"
      },
      "source": [
        "# Scatter plot\n",
        "sns.scatterplot(df[\"amt\"], df[\"is_fraud\"],hue=df['is_fraud'])\n",
        "plt.title(\"amt vs is_fraud\")\n",
        "plt.show()"
      ],
      "execution_count": null,
      "outputs": [
        {
          "output_type": "display_data",
          "data": {
            "image/png": "[encoded data removed]",
            "text/plain": [
              "<Figure size 432x288 with 1 Axes>"
            ]
          },
          "metadata": {
            "needs_background": "light"
          }
        }
      ]
    },
    {
      "cell_type": "code",
      "metadata": {
        "id": "wrUWCusOQ_jp",
        "colab": {
          "base_uri": "https://localhost:8080/",
          "height": 282
        },
        "outputId": "9593c788-80de-4ef5-9438-c5ce2b4a0041"
      },
      "source": [
        "#Boxplot\n",
        "sns.boxplot(x = \"is_fraud\", y = \"age\", data = df)\n",
        "plt.show()"
      ],
      "execution_count": null,
      "outputs": [
        {
          "output_type": "display_data",
          "data": {
            "image/png": "[encoded data removed]",
            "text/plain": [
              "<Figure size 432x288 with 1 Axes>"
            ]
          },
          "metadata": {
            "needs_background": "light"
          }
        }
      ]
    },
    {
      "cell_type": "code",
      "metadata": {
        "id": "EDkPkGhpQ_md",
        "colab": {
          "base_uri": "https://localhost:8080/",
          "height": 265
        },
        "outputId": "8d1b63e4-fc97-4581-845a-05d51338a2e6"
      },
      "source": [
        "plt.plot(df_proper[\"amt\"], np.zeros_like(df_proper[\"amt\"]), \"o\")\n",
        "plt.plot(df_fraud[\"amt\"], np.zeros_like(df_fraud[\"amt\"]), \"o\")\n",
        "plt.show()"
      ],
      "execution_count": null,
      "outputs": [
        {
          "output_type": "display_data",
          "data": {
            "image/png": "[encoded data removed]",
            "text/plain": [
              "<Figure size 432x288 with 1 Axes>"
            ]
          },
          "metadata": {
            "needs_background": "light"
          }
        }
      ]
    },
    {
      "cell_type": "code",
      "metadata": {
        "id": "dZxIMrfTREMl",
        "colab": {
          "base_uri": "https://localhost:8080/",
          "height": 443
        },
        "outputId": "113ca82a-e998-4650-90e0-b749d30d5328"
      },
      "source": [
        "plt.figure(figsize=(10,7))\n",
        "sns.violinplot(x=df['is_fraud'],y=df['amt'], data = df,hue='gender')\n",
        "plt.show()"
      ],
      "execution_count": null,
      "outputs": [
        {
          "output_type": "display_data",
          "data": {
            "image/png": "[encoded data removed]",
            "text/plain": [
              "<Figure size 720x504 with 1 Axes>"
            ]
          },
          "metadata": {
            "needs_background": "light"
          }
        }
      ]
    },
    {
      "cell_type": "code",
      "metadata": {
        "id": "jCZzJZWTREQv",
        "colab": {
          "base_uri": "https://localhost:8080/",
          "height": 443
        },
        "outputId": "11a3a8cc-28a9-4d9d-f2ac-3fa6eaea6ba7"
      },
      "source": [
        "plt.figure(figsize=(10,7))\n",
        "sns.violinplot(x=df['is_fraud'],y=df['amt'], data = df, hue='gender',split=True)\n",
        "plt.show()"
      ],
      "execution_count": null,
      "outputs": [
        {
          "output_type": "display_data",
          "data": {
            "image/png": "[encoded data removed]",
            "text/plain": [
              "<Figure size 720x504 with 1 Axes>"
            ]
          },
          "metadata": {
            "needs_background": "light"
          }
        }
      ]
    },
    {
      "cell_type": "code",
      "metadata": {
        "id": "PfLI4ovFQ_pO",
        "colab": {
          "base_uri": "https://localhost:8080/",
          "height": 987
        },
        "outputId": "ca77340e-fd92-4843-8423-1b8a3d374d3e"
      },
      "source": [
        "plt.figure(figsize=(20,17))\n",
        "sns.violinplot(x=df['is_fraud'],y=df['amt'], data = df,inner='quartile',scale='count',bw=.7)\n",
        "plt.show()"
      ],
      "execution_count": null,
      "outputs": [
        {
          "output_type": "display_data",
          "data": {
            "image/png": "[encoded data removed]",
            "text/plain": [
              "<Figure size 1440x1224 with 1 Axes>"
            ]
          },
          "metadata": {
            "needs_background": "light"
          }
        }
      ]
    },
    {
      "cell_type": "code",
      "metadata": {
        "id": "lr_WuO08YKZR",
        "colab": {
          "base_uri": "https://localhost:8080/",
          "height": 350
        },
        "outputId": "100f664d-2cff-478e-c391-19679d60eef2"
      },
      "source": [
        "fig, ax = plt.subplots(1,3,figsize=(20,5))\n",
        "ax[0].hist(df[df['amt']<=1500]['amt'], bins=50)\n",
        "ax[1].hist(df[(df['is_fraud']==0) & (df['amt']<=1500)]['amt'], bins=50)\n",
        "ax[2].hist(df[(df['is_fraud']==1) & (df['amt']<=1500)]['amt'], bins=50)\n",
        "\n",
        "ax[0].set_title('Overall Amt Distribution')\n",
        "ax[1].set_title('Non Fraud Amt Distribution')\n",
        "ax[2].set_title('Fraud Amt Distribution')\n",
        "\n",
        "ax[0].set_xlabel('Transaction Amount')\n",
        "ax[0].set_ylabel('No.of Transactions')\n",
        "\n",
        "ax[1].set_xlabel('Transaction Amount')\n",
        "ax[2].set_xlabel('Transaction Amount')\n",
        "plt.show()"
      ],
      "execution_count": null,
      "outputs": [
        {
          "output_type": "display_data",
          "data": {
            "image/png": "[encoded data removed]",
            "text/plain": [
              "<Figure size 1440x360 with 3 Axes>"
            ]
          },
          "metadata": {
            "needs_background": "light"
          }
        }
      ]
    },
    {
      "cell_type": "markdown",
      "metadata": {
        "id": "XP6NGPe-RhKb"
      },
      "source": [
        "# **Feature Scaling**"
      ]
    },
    {
      "cell_type": "code",
      "metadata": {
        "id": "xO2uINDNRh2a"
      },
      "source": [
        "df2=df1.drop(['cc_num','is_fraud'],axis=1)"
      ],
      "execution_count": null,
      "outputs": []
    },
    {
      "cell_type": "code",
      "metadata": {
        "id": "jLaFvs7aRqqH"
      },
      "source": [
        "from sklearn.preprocessing import MinMaxScaler, StandardScaler\n",
        "scaler = StandardScaler()\n",
        "standard_df = scaler.fit_transform(df2)\n",
        "standard_df = pd.DataFrame(standard_df)\n",
        "  \n",
        "scaler = MinMaxScaler()\n",
        "minmax_df = scaler.fit_transform(df2)\n",
        "minmax_df = pd.DataFrame(minmax_df)"
      ],
      "execution_count": null,
      "outputs": []
    },
    {
      "cell_type": "code",
      "metadata": {
        "id": "jwPkgtSbRqsF",
        "colab": {
          "base_uri": "https://localhost:8080/",
          "height": 368
        },
        "outputId": "82636e24-9fc7-419b-920d-ec88b846fcad"
      },
      "source": [
        "# using KDE plot\n",
        "#Only some columns are opted out in order to speed up the process\n",
        "fig, (ax1,ax3,ax4) = plt.subplots(ncols = 3, figsize =(20, 5))\n",
        "ax1.set_title('Before Scaling')\n",
        "sns.kdeplot(df2['merch_long'], ax = ax1)\n",
        "sns.kdeplot(df2['merch_lat'], ax = ax1)\n",
        "sns.kdeplot(df2['city_pop'], ax = ax1)\n",
        "sns.kdeplot(df2['long'], ax = ax1)\n",
        "sns.kdeplot(df2['lat'], ax = ax1)\n",
        "\n",
        "ax3.set_title('After Standard Scaling')  \n",
        "sns.kdeplot(standard_df[9], ax = ax3)\n",
        "sns.kdeplot(standard_df[8], ax = ax3)\n",
        "sns.kdeplot(standard_df[7], ax = ax3)\n",
        "sns.kdeplot(standard_df[5], ax = ax3)\n",
        "sns.kdeplot(standard_df[4], ax = ax3)\n",
        "\n",
        "\n",
        "ax4.set_title('After Min-Max Scaling')  \n",
        "sns.kdeplot(minmax_df[9], ax = ax4)\n",
        "sns.kdeplot(minmax_df[8], ax = ax4)\n",
        "sns.kdeplot(minmax_df[7], ax = ax4)\n",
        "sns.kdeplot(minmax_df[5], ax = ax4)\n",
        "sns.kdeplot(minmax_df[4], ax = ax4)"
      ],
      "execution_count": null,
      "outputs": [
        {
          "output_type": "execute_result",
          "data": {
            "text/plain": [
              "<matplotlib.axes._subplots.AxesSubplot at 0x7fa49b35c190>"
            ]
          },
          "metadata": {},
          "execution_count": 75
        },
        {
          "output_type": "display_data",
          "data": {
            "image/png": "[encoded data removed]",
            "text/plain": [
              "<Figure size 1440x360 with 3 Axes>"
            ]
          },
          "metadata": {
            "needs_background": "light"
          }
        }
      ]
    },
    {
      "cell_type": "code",
      "metadata": {
        "id": "o1RABnEaRqvo"
      },
      "source": [
        "standard_df.columns = ['amt','gender','zip','lat','long','city_pop','unix_time','merch_lat','merch_long','age']"
      ],
      "execution_count": null,
      "outputs": []
    },
    {
      "cell_type": "code",
      "metadata": {
        "id": "u8Mmrm2vxyVK"
      },
      "source": [
        "standard_df['is_fraud']=df1['is_fraud']"
      ],
      "execution_count": null,
      "outputs": []
    },
    {
      "cell_type": "code",
      "metadata": {
        "id": "CjDze-L9Rz2a",
        "colab": {
          "base_uri": "https://localhost:8080/",
          "height": 423
        },
        "outputId": "00d0b8a3-a8aa-4346-e5a0-6b8cbc59abd7"
      },
      "source": [
        "standard_df"
      ],
      "execution_count": null,
      "outputs": [
        {
          "output_type": "execute_result",
          "data": {
            "text/html": [
              "<div>\n",
              "<style scoped>\n",
              "    .dataframe tbody tr th:only-of-type {\n",
              "        vertical-align: middle;\n",
              "    }\n",
              "\n",
              "    .dataframe tbody tr th {\n",
              "        vertical-align: top;\n",
              "    }\n",
              "\n",
              "    .dataframe thead th {\n",
              "        text-align: right;\n",
              "    }\n",
              "</style>\n",
              "<table border=\"1\" class=\"dataframe\">\n",
              "  <thead>\n",
              "    <tr style=\"text-align: right;\">\n",
              "      <th></th>\n",
              "      <th>amt</th>\n",
              "      <th>gender</th>\n",
              "      <th>zip</th>\n",
              "      <th>lat</th>\n",
              "      <th>long</th>\n",
              "      <th>city_pop</th>\n",
              "      <th>unix_time</th>\n",
              "      <th>merch_lat</th>\n",
              "      <th>merch_long</th>\n",
              "      <th>age</th>\n",
              "      <th>is_fraud</th>\n",
              "    </tr>\n",
              "  </thead>\n",
              "  <tbody>\n",
              "    <tr>\n",
              "      <th>0</th>\n",
              "      <td>-0.407826</td>\n",
              "      <td>-0.909206</td>\n",
              "      <td>-0.749136</td>\n",
              "      <td>-0.484420</td>\n",
              "      <td>0.657620</td>\n",
              "      <td>-0.282589</td>\n",
              "      <td>-1.858664</td>\n",
              "      <td>-0.494354</td>\n",
              "      <td>0.593864</td>\n",
              "      <td>-0.814926</td>\n",
              "      <td>0</td>\n",
              "    </tr>\n",
              "    <tr>\n",
              "      <th>1</th>\n",
              "      <td>0.230039</td>\n",
              "      <td>-0.909206</td>\n",
              "      <td>1.872567</td>\n",
              "      <td>2.039120</td>\n",
              "      <td>-2.033870</td>\n",
              "      <td>-0.293670</td>\n",
              "      <td>-1.858662</td>\n",
              "      <td>2.078699</td>\n",
              "      <td>-2.030341</td>\n",
              "      <td>-0.297545</td>\n",
              "      <td>0</td>\n",
              "    </tr>\n",
              "    <tr>\n",
              "      <th>2</th>\n",
              "      <td>0.934149</td>\n",
              "      <td>1.099861</td>\n",
              "      <td>1.281042</td>\n",
              "      <td>0.717754</td>\n",
              "      <td>-1.601537</td>\n",
              "      <td>-0.280406</td>\n",
              "      <td>-1.858662</td>\n",
              "      <td>0.902849</td>\n",
              "      <td>-1.592323</td>\n",
              "      <td>0.679730</td>\n",
              "      <td>0</td>\n",
              "    </tr>\n",
              "    <tr>\n",
              "      <th>3</th>\n",
              "      <td>-0.158132</td>\n",
              "      <td>1.099861</td>\n",
              "      <td>0.402753</td>\n",
              "      <td>1.515617</td>\n",
              "      <td>-1.590766</td>\n",
              "      <td>-0.287742</td>\n",
              "      <td>-1.858660</td>\n",
              "      <td>1.662886</td>\n",
              "      <td>-1.621848</td>\n",
              "      <td>0.392296</td>\n",
              "      <td>0</td>\n",
              "    </tr>\n",
              "    <tr>\n",
              "      <th>4</th>\n",
              "      <td>-0.177094</td>\n",
              "      <td>1.099861</td>\n",
              "      <td>-0.906090</td>\n",
              "      <td>-0.023035</td>\n",
              "      <td>0.782279</td>\n",
              "      <td>-0.293835</td>\n",
              "      <td>-1.858651</td>\n",
              "      <td>0.026941</td>\n",
              "      <td>0.841909</td>\n",
              "      <td>-0.699953</td>\n",
              "      <td>0</td>\n",
              "    </tr>\n",
              "    <tr>\n",
              "      <th>...</th>\n",
              "      <td>...</td>\n",
              "      <td>...</td>\n",
              "      <td>...</td>\n",
              "      <td>...</td>\n",
              "      <td>...</td>\n",
              "      <td>...</td>\n",
              "      <td>...</td>\n",
              "      <td>...</td>\n",
              "      <td>...</td>\n",
              "      <td>...</td>\n",
              "      <td>...</td>\n",
              "    </tr>\n",
              "    <tr>\n",
              "      <th>1296670</th>\n",
              "      <td>-0.341769</td>\n",
              "      <td>1.099861</td>\n",
              "      <td>1.336186</td>\n",
              "      <td>-0.161575</td>\n",
              "      <td>-1.617214</td>\n",
              "      <td>-0.293309</td>\n",
              "      <td>1.757855</td>\n",
              "      <td>-0.331926</td>\n",
              "      <td>-1.558650</td>\n",
              "      <td>0.679730</td>\n",
              "      <td>0</td>\n",
              "    </tr>\n",
              "    <tr>\n",
              "      <th>1296671</th>\n",
              "      <td>-0.116339</td>\n",
              "      <td>1.099861</td>\n",
              "      <td>-1.004368</td>\n",
              "      <td>0.143638</td>\n",
              "      <td>0.924207</td>\n",
              "      <td>-0.293832</td>\n",
              "      <td>1.757855</td>\n",
              "      <td>0.072321</td>\n",
              "      <td>0.869934</td>\n",
              "      <td>-0.355032</td>\n",
              "      <td>0</td>\n",
              "    </tr>\n",
              "    <tr>\n",
              "      <th>1296672</th>\n",
              "      <td>0.221930</td>\n",
              "      <td>1.099861</td>\n",
              "      <td>1.469677</td>\n",
              "      <td>-1.102883</td>\n",
              "      <td>-1.133257</td>\n",
              "      <td>-0.291186</td>\n",
              "      <td>1.757856</td>\n",
              "      <td>-0.962433</td>\n",
              "      <td>-1.082272</td>\n",
              "      <td>0.334809</td>\n",
              "      <td>0</td>\n",
              "    </tr>\n",
              "    <tr>\n",
              "      <th>1296673</th>\n",
              "      <td>0.028375</td>\n",
              "      <td>1.099861</td>\n",
              "      <td>0.332996</td>\n",
              "      <td>0.948613</td>\n",
              "      <td>-0.895029</td>\n",
              "      <td>-0.290434</td>\n",
              "      <td>1.757861</td>\n",
              "      <td>0.832051</td>\n",
              "      <td>-0.945074</td>\n",
              "      <td>-0.412519</td>\n",
              "      <td>0</td>\n",
              "    </tr>\n",
              "    <tr>\n",
              "      <th>1296674</th>\n",
              "      <td>-0.412005</td>\n",
              "      <td>1.099861</td>\n",
              "      <td>0.411640</td>\n",
              "      <td>1.439314</td>\n",
              "      <td>-1.718754</td>\n",
              "      <td>-0.293441</td>\n",
              "      <td>1.757862</td>\n",
              "      <td>1.571229</td>\n",
              "      <td>-1.739852</td>\n",
              "      <td>-1.274821</td>\n",
              "      <td>0</td>\n",
              "    </tr>\n",
              "  </tbody>\n",
              "</table>\n",
              "<p>1296675 rows × 11 columns</p>\n",
              "</div>"
            ],
            "text/plain": [
              "              amt    gender       zip  ...  merch_long       age  is_fraud\n",
              "0       -0.407826 -0.909206 -0.749136  ...    0.593864 -0.814926         0\n",
              "1        0.230039 -0.909206  1.872567  ...   -2.030341 -0.297545         0\n",
              "2        0.934149  1.099861  1.281042  ...   -1.592323  0.679730         0\n",
              "3       -0.158132  1.099861  0.402753  ...   -1.621848  0.392296         0\n",
              "4       -0.177094  1.099861 -0.906090  ...    0.841909 -0.699953         0\n",
              "...           ...       ...       ...  ...         ...       ...       ...\n",
              "1296670 -0.341769  1.099861  1.336186  ...   -1.558650  0.679730         0\n",
              "1296671 -0.116339  1.099861 -1.004368  ...    0.869934 -0.355032         0\n",
              "1296672  0.221930  1.099861  1.469677  ...   -1.082272  0.334809         0\n",
              "1296673  0.028375  1.099861  0.332996  ...   -0.945074 -0.412519         0\n",
              "1296674 -0.412005  1.099861  0.411640  ...   -1.739852 -1.274821         0\n",
              "\n",
              "[1296675 rows x 11 columns]"
            ]
          },
          "metadata": {},
          "execution_count": 78
        }
      ]
    },
    {
      "cell_type": "markdown",
      "metadata": {
        "id": "KvZJO4BNStUO"
      },
      "source": [
        "###**Resampling using SMOTE(Synthetic Minority Over-sampling Technique)**"
      ]
    },
    {
      "cell_type": "code",
      "metadata": {
        "id": "ep0JiGBUo8ol"
      },
      "source": [
        "X = standard_df.drop('is_fraud',axis=1)\n",
        "y = standard_df['is_fraud']"
      ],
      "execution_count": null,
      "outputs": []
    },
    {
      "cell_type": "code",
      "metadata": {
        "id": "O73EMv42pAz8",
        "colab": {
          "base_uri": "https://localhost:8080/",
          "height": 332
        },
        "outputId": "bd93c1a0-dc89-4146-b5c9-d57d570b0a2b"
      },
      "source": [
        "# Resampling via SMOTE\n",
        "from imblearn.over_sampling import SMOTE\n",
        "sm = SMOTE()\n",
        "X_smote, y_smote = sm.fit_resample(X, y.ravel())\n",
        "\n",
        "# to demonstrate the effect of SMOTE over imbalanced datasets\n",
        "fig, (ax1, ax2) = plt.subplots(ncols = 2, figsize =(15, 5))\n",
        "ax1.set_title('Before SMOTE')\n",
        "pd.Series(y).value_counts().plot.bar(ax=ax1)\n",
        "\n",
        "ax2.set_title('After SMOTE')  \n",
        "pd.Series(y_smote).value_counts().plot.bar(ax=ax2)\n",
        "\n",
        "plt.show()"
      ],
      "execution_count": null,
      "outputs": [
        {
          "output_type": "display_data",
          "data": {
            "image/png": "[encoded data removed]",
            "text/plain": [
              "<Figure size 1080x360 with 2 Axes>"
            ]
          },
          "metadata": {
            "needs_background": "light"
          }
        }
      ]
    },
    {
      "cell_type": "code",
      "metadata": {
        "id": "cApyCbrppOgk"
      },
      "source": [
        "X=pd.DataFrame(X_smote)\n",
        "X.columns =['amt','gender','zip','lat','long','city_pop','unix_time','merch_lat','merch_long','age']"
      ],
      "execution_count": null,
      "outputs": []
    },
    {
      "cell_type": "code",
      "metadata": {
        "id": "LG9yLAn65mO-",
        "colab": {
          "base_uri": "https://localhost:8080/"
        },
        "outputId": "0e4860f5-3de7-4f80-a889-dcb6134b7cfa"
      },
      "source": [
        "y = pd.Series(y_smote)\n",
        "y"
      ],
      "execution_count": null,
      "outputs": [
        {
          "output_type": "execute_result",
          "data": {
            "text/plain": [
              "0          0\n",
              "1          0\n",
              "2          0\n",
              "3          0\n",
              "4          0\n",
              "          ..\n",
              "2578333    1\n",
              "2578334    1\n",
              "2578335    1\n",
              "2578336    1\n",
              "2578337    1\n",
              "Length: 2578338, dtype: int64"
            ]
          },
          "metadata": {},
          "execution_count": 82
        }
      ]
    },
    {
      "cell_type": "code",
      "metadata": {
        "id": "5AJpxothpST1",
        "colab": {
          "base_uri": "https://localhost:8080/"
        },
        "outputId": "3b7c690d-223c-414d-82d2-0d6340051e14"
      },
      "source": [
        "np.unique(y)"
      ],
      "execution_count": null,
      "outputs": [
        {
          "output_type": "execute_result",
          "data": {
            "text/plain": [
              "array([0, 1])"
            ]
          },
          "metadata": {},
          "execution_count": 83
        }
      ]
    },
    {
      "cell_type": "code",
      "metadata": {
        "id": "p9UjgU7-pU1k",
        "colab": {
          "base_uri": "https://localhost:8080/"
        },
        "outputId": "aad22424-6c09-4e80-eb04-31cd5167af85"
      },
      "source": [
        "values, counts = np.unique(y, return_counts=True)\n",
        "counts"
      ],
      "execution_count": null,
      "outputs": [
        {
          "output_type": "execute_result",
          "data": {
            "text/plain": [
              "array([1289169, 1289169])"
            ]
          },
          "metadata": {},
          "execution_count": 84
        }
      ]
    },
    {
      "cell_type": "markdown",
      "metadata": {
        "id": "LpznfpJpZ0xj"
      },
      "source": [
        "## **EDA**"
      ]
    },
    {
      "cell_type": "markdown",
      "metadata": {
        "id": "KNkp6CgHZ2aZ"
      },
      "source": [
        "# **Descriptive Statistics**"
      ]
    },
    {
      "cell_type": "code",
      "metadata": {
        "id": "MNX8dDnqZ_e-",
        "colab": {
          "base_uri": "https://localhost:8080/"
        },
        "outputId": "cede9b46-9146-4141-83d2-9de601c057b3"
      },
      "source": [
        "# MEAN\n",
        "print(\"Means of the fraud and proper transactions:\")\n",
        "print(\"Mean of transaction amount of proper transactions: \",np.mean(df_proper[\"amt\"]))\n",
        "print(\"Mean of transaction amount of fraud transactions: \",np.mean(df_fraud[\"amt\"]))"
      ],
      "execution_count": null,
      "outputs": [
        {
          "output_type": "stream",
          "name": "stdout",
          "text": [
            "Means of the fraud and proper transactions:\n",
            "Mean of transaction amount of proper transactions:  67.667109812599\n",
            "Mean of transaction amount of fraud transactions:  531.3200919264573\n"
          ]
        }
      ]
    },
    {
      "cell_type": "code",
      "metadata": {
        "id": "9DlXNib5Z60T",
        "colab": {
          "base_uri": "https://localhost:8080/"
        },
        "outputId": "c7725f67-6cd7-4b83-ccf5-ed1db3153ecc"
      },
      "source": [
        "# MEDIAN\n",
        "print(\"Median of the fraud and proper transactions:\")\n",
        "print(\"Median of transaction amount of proper transactions: \", np.median(df_proper[\"amt\"]))\n",
        "print(\"Median of transaction amount of fraud transactions: \", np.median(df_fraud[\"amt\"]))"
      ],
      "execution_count": null,
      "outputs": [
        {
          "output_type": "stream",
          "name": "stdout",
          "text": [
            "Median of the fraud and proper transactions:\n",
            "Median of transaction amount of proper transactions:  47.28\n",
            "Median of transaction amount of fraud transactions:  396.505\n"
          ]
        }
      ]
    },
    {
      "cell_type": "code",
      "metadata": {
        "id": "-9ooDZQQaFvM",
        "colab": {
          "base_uri": "https://localhost:8080/"
        },
        "outputId": "ffdd81bd-e632-40db-b182-7f61c262d9af"
      },
      "source": [
        "# STANDARD DEVIATION\n",
        "print(\"Standard Deviation of the fraud and proper transactions:\")\n",
        "print(\"Std-Deviation of transaction amount of proper transactions: \", np.std(df_proper[\"amt\"]))\n",
        "print(\"Std-Deviation of transaction amount of fraud transactions: \", np.std(df_fraud[\"amt\"]))"
      ],
      "execution_count": null,
      "outputs": [
        {
          "output_type": "stream",
          "name": "stdout",
          "text": [
            "Standard Deviation of the fraud and proper transactions:\n",
            "Std-Deviation of transaction amount of proper transactions:  154.00791081458004\n",
            "Std-Deviation of transaction amount of fraud transactions:  390.5340523341919\n"
          ]
        }
      ]
    },
    {
      "cell_type": "code",
      "metadata": {
        "id": "ziDaDsy5aJpT",
        "colab": {
          "base_uri": "https://localhost:8080/"
        },
        "outputId": "52f6e6de-e7cd-4137-9482-a54f1591735e"
      },
      "source": [
        "# VARIANCE\n",
        "print(\"Variance of the fraud and proper transactions:\")\n",
        "print(\"Variance of transaction amount of proper transactions: \", np.var(df_proper[\"amt\"]))\n",
        "print(\"Variance of transaction amount of fraud transactions: \", np.var(df_fraud[\"amt\"]))"
      ],
      "execution_count": null,
      "outputs": [
        {
          "output_type": "stream",
          "name": "stdout",
          "text": [
            "Variance of the fraud and proper transactions:\n",
            "Variance of transaction amount of proper transactions:  23718.436593471637\n",
            "Variance of transaction amount of fraud transactions:  152516.84603256537\n"
          ]
        }
      ]
    },
    {
      "cell_type": "code",
      "metadata": {
        "id": "zWDWiSmSeMJz",
        "colab": {
          "base_uri": "https://localhost:8080/"
        },
        "outputId": "0442f5e2-35b6-4139-8064-ca80dd13be56"
      },
      "source": [
        "# KURTOSIS \n",
        "#Proper\n",
        "df.loc[df['is_fraud']==0,'amt'].kurt()"
      ],
      "execution_count": null,
      "outputs": [
        {
          "output_type": "execute_result",
          "data": {
            "text/plain": [
              "5369.470710133239"
            ]
          },
          "metadata": {},
          "execution_count": 89
        }
      ]
    },
    {
      "cell_type": "code",
      "metadata": {
        "id": "7cpykRVheAET",
        "colab": {
          "base_uri": "https://localhost:8080/"
        },
        "outputId": "d09248e7-e4be-4a8c-c211-8952da533bbe"
      },
      "source": [
        "#Fraud\n",
        "df.loc[df['is_fraud']==1,'amt'].kurt()"
      ],
      "execution_count": null,
      "outputs": [
        {
          "output_type": "execute_result",
          "data": {
            "text/plain": [
              "-1.4998715572316823"
            ]
          },
          "metadata": {},
          "execution_count": 90
        }
      ]
    },
    {
      "cell_type": "code",
      "metadata": {
        "id": "eQQXtS31eOi4",
        "colab": {
          "base_uri": "https://localhost:8080/"
        },
        "outputId": "4be712ba-30ca-4d42-f873-c574e3122cd8"
      },
      "source": [
        "# SKEWNESS\n",
        "# Fraud\n",
        "df.loc[df['is_fraud']==1,'amt'].skew()"
      ],
      "execution_count": null,
      "outputs": [
        {
          "output_type": "execute_result",
          "data": {
            "text/plain": [
              "0.02584608402403506"
            ]
          },
          "metadata": {},
          "execution_count": 91
        }
      ]
    },
    {
      "cell_type": "code",
      "metadata": {
        "id": "19e91vk-eP_i",
        "colab": {
          "base_uri": "https://localhost:8080/"
        },
        "outputId": "75a271e6-6927-4fac-b5fd-90012d81a079"
      },
      "source": [
        "#Proper\n",
        "df.loc[df['is_fraud']==0,'amt'].skew()"
      ],
      "execution_count": null,
      "outputs": [
        {
          "output_type": "execute_result",
          "data": {
            "text/plain": [
              "47.523765335989694"
            ]
          },
          "metadata": {},
          "execution_count": 92
        }
      ]
    },
    {
      "cell_type": "code",
      "metadata": {
        "id": "mP4nJ1Qqa_cF"
      },
      "source": [
        "var = standard_df.columns"
      ],
      "execution_count": null,
      "outputs": []
    },
    {
      "cell_type": "code",
      "metadata": {
        "id": "OpWMynmta_eC",
        "colab": {
          "base_uri": "https://localhost:8080/"
        },
        "outputId": "d2fa5188-0764-4e46-f394-bfb4fb1a6ac3"
      },
      "source": [
        "var"
      ],
      "execution_count": null,
      "outputs": [
        {
          "output_type": "execute_result",
          "data": {
            "text/plain": [
              "Index(['amt', 'gender', 'zip', 'lat', 'long', 'city_pop', 'unix_time',\n",
              "       'merch_lat', 'merch_long', 'age', 'is_fraud'],\n",
              "      dtype='object')"
            ]
          },
          "metadata": {},
          "execution_count": 94
        }
      ]
    },
    {
      "cell_type": "code",
      "metadata": {
        "id": "ZdYfbu5Ka_ga",
        "colab": {
          "base_uri": "https://localhost:8080/",
          "height": 416
        },
        "outputId": "dd7adb5d-7830-485a-e4ae-e357df4407e8"
      },
      "source": [
        "plt.figure(figsize=(52,24), dpi=20)\n",
        "x=sns.barplot(x=var, y=standard_df[var].mean())\n",
        "plt.xlabel('Column')\n",
        "plt.ylabel('Mean')\n",
        "plt.title('Means')"
      ],
      "execution_count": null,
      "outputs": [
        {
          "output_type": "execute_result",
          "data": {
            "text/plain": [
              "Text(0.5, 1.0, 'Means')"
            ]
          },
          "metadata": {},
          "execution_count": 95
        },
        {
          "output_type": "display_data",
          "data": {
            "image/png": "[encoded data removed]",
            "text/plain": [
              "<Figure size 1040x480 with 1 Axes>"
            ]
          },
          "metadata": {
            "needs_background": "light"
          }
        }
      ]
    },
    {
      "cell_type": "code",
      "metadata": {
        "id": "n4PhmiDhbHaM",
        "colab": {
          "base_uri": "https://localhost:8080/",
          "height": 376
        },
        "outputId": "613a722e-71d4-4bda-ed55-55e92648d8b6"
      },
      "source": [
        "plt.figure(figsize=(28,14), dpi=30)\n",
        "sns.barplot(x=var, y=standard_df[var].std(), color='darkred')\n",
        "plt.xlabel('Column')\n",
        "plt.ylabel('Standard Deviation')\n",
        "plt.title('Standard Deviations')"
      ],
      "execution_count": null,
      "outputs": [
        {
          "output_type": "execute_result",
          "data": {
            "text/plain": [
              "Text(0.5, 1.0, 'Standard Deviations')"
            ]
          },
          "metadata": {},
          "execution_count": 96
        },
        {
          "output_type": "display_data",
          "data": {
            "image/png": "[encoded data removed]",
            "text/plain": [
              "<Figure size 840x420 with 1 Axes>"
            ]
          },
          "metadata": {
            "needs_background": "light"
          }
        }
      ]
    },
    {
      "cell_type": "code",
      "metadata": {
        "id": "hdxUKZNnbHdn",
        "colab": {
          "base_uri": "https://localhost:8080/",
          "height": 490
        },
        "outputId": "4e621d5b-2632-47e2-bf15-b098e3baed72"
      },
      "source": [
        "plt.figure(figsize=(28,14), dpi=40)\n",
        "sns.barplot(x=var, y=standard_df[var].median(), color='darkblue')\n",
        "plt.xlabel('Column')\n",
        "plt.ylabel('Median')\n",
        "plt.title('Medians')"
      ],
      "execution_count": null,
      "outputs": [
        {
          "output_type": "execute_result",
          "data": {
            "text/plain": [
              "Text(0.5, 1.0, 'Medians')"
            ]
          },
          "metadata": {},
          "execution_count": 97
        },
        {
          "output_type": "display_data",
          "data": {
            "image/png": "[encoded data removed]",
            "text/plain": [
              "<Figure size 1120x560 with 1 Axes>"
            ]
          },
          "metadata": {
            "needs_background": "light"
          }
        }
      ]
    },
    {
      "cell_type": "code",
      "metadata": {
        "id": "MySZbicWa_j-",
        "colab": {
          "base_uri": "https://localhost:8080/",
          "height": 490
        },
        "outputId": "164e34f5-68a9-4354-f940-4a7f12bc2105"
      },
      "source": [
        "plt.figure(figsize=(28,14), dpi=40)\n",
        "sns.barplot(x=var, y=standard_df[var].quantile(0.75) - standard_df[var].quantile(0.25), color='darkred')\n",
        "plt.xlabel('Column')\n",
        "plt.ylabel('IQR')\n",
        "plt.title('IQRs')"
      ],
      "execution_count": null,
      "outputs": [
        {
          "output_type": "execute_result",
          "data": {
            "text/plain": [
              "Text(0.5, 1.0, 'IQRs')"
            ]
          },
          "metadata": {},
          "execution_count": 98
        },
        {
          "output_type": "display_data",
          "data": {
            "image/png": "[encoded data removed]",
            "text/plain": [
              "<Figure size 1120x560 with 1 Axes>"
            ]
          },
          "metadata": {
            "needs_background": "light"
          }
        }
      ]
    },
    {
      "cell_type": "code",
      "metadata": {
        "id": "F3-VhoX8bPGs",
        "colab": {
          "base_uri": "https://localhost:8080/",
          "height": 602
        },
        "outputId": "359939bf-9a3b-41cf-8cd5-bf8001c1c0e3"
      },
      "source": [
        "plt.figure(figsize=(28,24), dpi=30)\n",
        "sns.barplot(x=var, y=standard_df[var].skew(), color='darkgreen')\n",
        "plt.xlabel('Column')\n",
        "plt.ylabel('Skewness')\n",
        "plt.title('Skewnesses')"
      ],
      "execution_count": null,
      "outputs": [
        {
          "output_type": "execute_result",
          "data": {
            "text/plain": [
              "Text(0.5, 1.0, 'Skewnesses')"
            ]
          },
          "metadata": {},
          "execution_count": 99
        },
        {
          "output_type": "display_data",
          "data": {
            "image/png": "[encoded data removed]",
            "text/plain": [
              "<Figure size 840x720 with 1 Axes>"
            ]
          },
          "metadata": {
            "needs_background": "light"
          }
        }
      ]
    },
    {
      "cell_type": "code",
      "metadata": {
        "id": "ZfMXVcqmbPKL",
        "colab": {
          "base_uri": "https://localhost:8080/",
          "height": 490
        },
        "outputId": "19c8454c-a692-4e7c-96c4-1d93b406f7fe"
      },
      "source": [
        "plt.figure(figsize=(28,14), dpi=40)\n",
        "plt.yscale('log')\n",
        "sns.barplot(x=var, y=standard_df[var].skew(), color='darkorange')\n",
        "plt.xlabel('Column')\n",
        "plt.ylabel('Kurtosis')\n",
        "plt.title('Kurtoses')"
      ],
      "execution_count": null,
      "outputs": [
        {
          "output_type": "execute_result",
          "data": {
            "text/plain": [
              "Text(0.5, 1.0, 'Kurtoses')"
            ]
          },
          "metadata": {},
          "execution_count": 100
        },
        {
          "output_type": "display_data",
          "data": {
            "image/png": "[encoded data removed]",
            "text/plain": [
              "<Figure size 1120x560 with 1 Axes>"
            ]
          },
          "metadata": {
            "needs_background": "light"
          }
        }
      ]
    },
    {
      "cell_type": "markdown",
      "metadata": {
        "id": "LZDzzNGRugRK"
      },
      "source": [
        "# **Feature Selection using Correlation**"
      ]
    },
    {
      "cell_type": "code",
      "metadata": {
        "id": "3VAMCltbuk5t"
      },
      "source": [
        "from sklearn.model_selection import train_test_split\n",
        "X_train, X_test, y_train, y_test = train_test_split(X,y,test_size=0.2)"
      ],
      "execution_count": null,
      "outputs": []
    },
    {
      "cell_type": "code",
      "metadata": {
        "id": "b9OI7or-1VAv",
        "colab": {
          "base_uri": "https://localhost:8080/"
        },
        "outputId": "c13c5ce9-8a11-43ab-90cf-57a769667423"
      },
      "source": [
        "type(X_train)"
      ],
      "execution_count": null,
      "outputs": [
        {
          "output_type": "execute_result",
          "data": {
            "text/plain": [
              "pandas.core.frame.DataFrame"
            ]
          },
          "metadata": {},
          "execution_count": 102
        }
      ]
    },
    {
      "cell_type": "code",
      "metadata": {
        "id": "uVpaCq1U0Rzq",
        "colab": {
          "base_uri": "https://localhost:8080/",
          "height": 363
        },
        "outputId": "bddcbdc2-ee72-4509-8e73-10b12734a9c7"
      },
      "source": [
        "X_train.corr()"
      ],
      "execution_count": null,
      "outputs": [
        {
          "output_type": "execute_result",
          "data": {
            "text/html": [
              "<div>\n",
              "<style scoped>\n",
              "    .dataframe tbody tr th:only-of-type {\n",
              "        vertical-align: middle;\n",
              "    }\n",
              "\n",
              "    .dataframe tbody tr th {\n",
              "        vertical-align: top;\n",
              "    }\n",
              "\n",
              "    .dataframe thead th {\n",
              "        text-align: right;\n",
              "    }\n",
              "</style>\n",
              "<table border=\"1\" class=\"dataframe\">\n",
              "  <thead>\n",
              "    <tr style=\"text-align: right;\">\n",
              "      <th></th>\n",
              "      <th>amt</th>\n",
              "      <th>gender</th>\n",
              "      <th>zip</th>\n",
              "      <th>lat</th>\n",
              "      <th>long</th>\n",
              "      <th>city_pop</th>\n",
              "      <th>unix_time</th>\n",
              "      <th>merch_lat</th>\n",
              "      <th>merch_long</th>\n",
              "      <th>age</th>\n",
              "    </tr>\n",
              "  </thead>\n",
              "  <tbody>\n",
              "    <tr>\n",
              "      <th>amt</th>\n",
              "      <td>1.000000</td>\n",
              "      <td>0.079948</td>\n",
              "      <td>-0.019337</td>\n",
              "      <td>0.008772</td>\n",
              "      <td>0.018011</td>\n",
              "      <td>0.022305</td>\n",
              "      <td>-0.007394</td>\n",
              "      <td>0.008125</td>\n",
              "      <td>0.018153</td>\n",
              "      <td>0.068934</td>\n",
              "    </tr>\n",
              "    <tr>\n",
              "      <th>gender</th>\n",
              "      <td>0.079948</td>\n",
              "      <td>1.000000</td>\n",
              "      <td>-0.047953</td>\n",
              "      <td>0.056498</td>\n",
              "      <td>0.036165</td>\n",
              "      <td>-0.027848</td>\n",
              "      <td>0.009299</td>\n",
              "      <td>0.056000</td>\n",
              "      <td>0.036212</td>\n",
              "      <td>-0.000199</td>\n",
              "    </tr>\n",
              "    <tr>\n",
              "      <th>zip</th>\n",
              "      <td>-0.019337</td>\n",
              "      <td>-0.047953</td>\n",
              "      <td>1.000000</td>\n",
              "      <td>-0.084382</td>\n",
              "      <td>-0.911082</td>\n",
              "      <td>0.102156</td>\n",
              "      <td>0.007828</td>\n",
              "      <td>-0.083658</td>\n",
              "      <td>-0.910351</td>\n",
              "      <td>0.004206</td>\n",
              "    </tr>\n",
              "    <tr>\n",
              "      <th>lat</th>\n",
              "      <td>0.008772</td>\n",
              "      <td>0.056498</td>\n",
              "      <td>-0.084382</td>\n",
              "      <td>1.000000</td>\n",
              "      <td>-0.065671</td>\n",
              "      <td>-0.169220</td>\n",
              "      <td>-0.019385</td>\n",
              "      <td>0.994669</td>\n",
              "      <td>-0.065665</td>\n",
              "      <td>0.023372</td>\n",
              "    </tr>\n",
              "    <tr>\n",
              "      <th>long</th>\n",
              "      <td>0.018011</td>\n",
              "      <td>0.036165</td>\n",
              "      <td>-0.911082</td>\n",
              "      <td>-0.065671</td>\n",
              "      <td>1.000000</td>\n",
              "      <td>-0.070083</td>\n",
              "      <td>-0.003775</td>\n",
              "      <td>-0.065728</td>\n",
              "      <td>0.999290</td>\n",
              "      <td>-0.020041</td>\n",
              "    </tr>\n",
              "    <tr>\n",
              "      <th>city_pop</th>\n",
              "      <td>0.022305</td>\n",
              "      <td>-0.027848</td>\n",
              "      <td>0.102156</td>\n",
              "      <td>-0.169220</td>\n",
              "      <td>-0.070083</td>\n",
              "      <td>1.000000</td>\n",
              "      <td>0.002769</td>\n",
              "      <td>-0.169431</td>\n",
              "      <td>-0.070139</td>\n",
              "      <td>-0.064432</td>\n",
              "    </tr>\n",
              "    <tr>\n",
              "      <th>unix_time</th>\n",
              "      <td>-0.007394</td>\n",
              "      <td>0.009299</td>\n",
              "      <td>0.007828</td>\n",
              "      <td>-0.019385</td>\n",
              "      <td>-0.003775</td>\n",
              "      <td>0.002769</td>\n",
              "      <td>1.000000</td>\n",
              "      <td>-0.019791</td>\n",
              "      <td>-0.003748</td>\n",
              "      <td>0.011960</td>\n",
              "    </tr>\n",
              "    <tr>\n",
              "      <th>merch_lat</th>\n",
              "      <td>0.008125</td>\n",
              "      <td>0.056000</td>\n",
              "      <td>-0.083658</td>\n",
              "      <td>0.994669</td>\n",
              "      <td>-0.065728</td>\n",
              "      <td>-0.169431</td>\n",
              "      <td>-0.019791</td>\n",
              "      <td>1.000000</td>\n",
              "      <td>-0.065693</td>\n",
              "      <td>0.022842</td>\n",
              "    </tr>\n",
              "    <tr>\n",
              "      <th>merch_long</th>\n",
              "      <td>0.018153</td>\n",
              "      <td>0.036212</td>\n",
              "      <td>-0.910351</td>\n",
              "      <td>-0.065665</td>\n",
              "      <td>0.999290</td>\n",
              "      <td>-0.070139</td>\n",
              "      <td>-0.003748</td>\n",
              "      <td>-0.065693</td>\n",
              "      <td>1.000000</td>\n",
              "      <td>-0.019765</td>\n",
              "    </tr>\n",
              "    <tr>\n",
              "      <th>age</th>\n",
              "      <td>0.068934</td>\n",
              "      <td>-0.000199</td>\n",
              "      <td>0.004206</td>\n",
              "      <td>0.023372</td>\n",
              "      <td>-0.020041</td>\n",
              "      <td>-0.064432</td>\n",
              "      <td>0.011960</td>\n",
              "      <td>0.022842</td>\n",
              "      <td>-0.019765</td>\n",
              "      <td>1.000000</td>\n",
              "    </tr>\n",
              "  </tbody>\n",
              "</table>\n",
              "</div>"
            ],
            "text/plain": [
              "                 amt    gender       zip  ...  merch_lat  merch_long       age\n",
              "amt         1.000000  0.079948 -0.019337  ...   0.008125    0.018153  0.068934\n",
              "gender      0.079948  1.000000 -0.047953  ...   0.056000    0.036212 -0.000199\n",
              "zip        -0.019337 -0.047953  1.000000  ...  -0.083658   -0.910351  0.004206\n",
              "lat         0.008772  0.056498 -0.084382  ...   0.994669   -0.065665  0.023372\n",
              "long        0.018011  0.036165 -0.911082  ...  -0.065728    0.999290 -0.020041\n",
              "city_pop    0.022305 -0.027848  0.102156  ...  -0.169431   -0.070139 -0.064432\n",
              "unix_time  -0.007394  0.009299  0.007828  ...  -0.019791   -0.003748  0.011960\n",
              "merch_lat   0.008125  0.056000 -0.083658  ...   1.000000   -0.065693  0.022842\n",
              "merch_long  0.018153  0.036212 -0.910351  ...  -0.065693    1.000000 -0.019765\n",
              "age         0.068934 -0.000199  0.004206  ...   0.022842   -0.019765  1.000000\n",
              "\n",
              "[10 rows x 10 columns]"
            ]
          },
          "metadata": {},
          "execution_count": 103
        }
      ]
    },
    {
      "cell_type": "code",
      "metadata": {
        "id": "Id86sezu80ZF",
        "colab": {
          "base_uri": "https://localhost:8080/",
          "height": 535
        },
        "outputId": "3b61b32b-46b4-4b21-803f-4e8069309075"
      },
      "source": [
        "import seaborn as sns\n",
        "#Using Pearson Correlation\n",
        "plt.figure(figsize=(10,8))\n",
        "cor = X_train.corr()\n",
        "sns.heatmap(cor, annot=True, cmap=plt.cm.CMRmap_r)\n",
        "plt.show()"
      ],
      "execution_count": null,
      "outputs": [
        {
          "output_type": "display_data",
          "data": {
            "image/png": "[encoded data removed]",
            "text/plain": [
              "<Figure size 720x576 with 2 Axes>"
            ]
          },
          "metadata": {
            "needs_background": "light"
          }
        }
      ]
    },
    {
      "cell_type": "code",
      "metadata": {
        "id": "n_xnKyhj0Sgi"
      },
      "source": [
        "def correlation(dataset, threshold):\n",
        "    col_corr = set()  # Set of all the names of correlated columns\n",
        "    corr_matrix = dataset.corr()\n",
        "    for i in range(len(corr_matrix.columns)):\n",
        "        for j in range(i):\n",
        "            if abs(corr_matrix.iloc[i, j]) > threshold: # we are interested in absolute coeff value\n",
        "                colname = corr_matrix.columns[i]  # getting the name of column\n",
        "                col_corr.add(colname)\n",
        "    return col_corr"
      ],
      "execution_count": null,
      "outputs": []
    },
    {
      "cell_type": "code",
      "metadata": {
        "id": "05cvHZRD-uOC",
        "colab": {
          "base_uri": "https://localhost:8080/"
        },
        "outputId": "b551351c-f616-4a6d-876f-1fc45ae62234"
      },
      "source": [
        "corr_features = correlation(X_train, 0.7)\n",
        "len(set(corr_features))"
      ],
      "execution_count": null,
      "outputs": [
        {
          "output_type": "execute_result",
          "data": {
            "text/plain": [
              "3"
            ]
          },
          "metadata": {},
          "execution_count": 106
        }
      ]
    },
    {
      "cell_type": "code",
      "metadata": {
        "id": "oMLHY1j494Ch",
        "colab": {
          "base_uri": "https://localhost:8080/"
        },
        "outputId": "2f7aca14-6be4-46da-fdac-f8377b5536a8"
      },
      "source": [
        "corr_features"
      ],
      "execution_count": null,
      "outputs": [
        {
          "output_type": "execute_result",
          "data": {
            "text/plain": [
              "{'long', 'merch_lat', 'merch_long'}"
            ]
          },
          "metadata": {},
          "execution_count": 107
        }
      ]
    },
    {
      "cell_type": "code",
      "metadata": {
        "id": "sEf5OlQw94_k",
        "colab": {
          "base_uri": "https://localhost:8080/",
          "height": 423
        },
        "outputId": "fb539bb9-2a54-4d0d-b27f-d848469bed23"
      },
      "source": [
        "X_train.drop(corr_features,axis=1)\n",
        "X_test.drop(corr_features,axis=1)"
      ],
      "execution_count": null,
      "outputs": [
        {
          "output_type": "execute_result",
          "data": {
            "text/html": [
              "<div>\n",
              "<style scoped>\n",
              "    .dataframe tbody tr th:only-of-type {\n",
              "        vertical-align: middle;\n",
              "    }\n",
              "\n",
              "    .dataframe tbody tr th {\n",
              "        vertical-align: top;\n",
              "    }\n",
              "\n",
              "    .dataframe thead th {\n",
              "        text-align: right;\n",
              "    }\n",
              "</style>\n",
              "<table border=\"1\" class=\"dataframe\">\n",
              "  <thead>\n",
              "    <tr style=\"text-align: right;\">\n",
              "      <th></th>\n",
              "      <th>amt</th>\n",
              "      <th>gender</th>\n",
              "      <th>zip</th>\n",
              "      <th>lat</th>\n",
              "      <th>city_pop</th>\n",
              "      <th>unix_time</th>\n",
              "      <th>age</th>\n",
              "    </tr>\n",
              "  </thead>\n",
              "  <tbody>\n",
              "    <tr>\n",
              "      <th>2135073</th>\n",
              "      <td>4.841275</td>\n",
              "      <td>1.099861</td>\n",
              "      <td>0.140233</td>\n",
              "      <td>0.423377</td>\n",
              "      <td>-0.290414</td>\n",
              "      <td>-1.040756</td>\n",
              "      <td>0.737217</td>\n",
              "    </tr>\n",
              "    <tr>\n",
              "      <th>985983</th>\n",
              "      <td>-0.050033</td>\n",
              "      <td>-0.909206</td>\n",
              "      <td>0.522635</td>\n",
              "      <td>-0.107041</td>\n",
              "      <td>-0.293090</td>\n",
              "      <td>0.845046</td>\n",
              "      <td>-0.182572</td>\n",
              "    </tr>\n",
              "    <tr>\n",
              "      <th>1975298</th>\n",
              "      <td>-0.360231</td>\n",
              "      <td>-0.909206</td>\n",
              "      <td>-0.110224</td>\n",
              "      <td>0.234647</td>\n",
              "      <td>-0.061104</td>\n",
              "      <td>0.903219</td>\n",
              "      <td>0.397467</td>\n",
              "    </tr>\n",
              "    <tr>\n",
              "      <th>1654880</th>\n",
              "      <td>5.034264</td>\n",
              "      <td>1.099861</td>\n",
              "      <td>-1.347019</td>\n",
              "      <td>0.575254</td>\n",
              "      <td>-0.286685</td>\n",
              "      <td>0.818262</td>\n",
              "      <td>2.116900</td>\n",
              "    </tr>\n",
              "    <tr>\n",
              "      <th>867735</th>\n",
              "      <td>0.681024</td>\n",
              "      <td>1.099861</td>\n",
              "      <td>-1.014259</td>\n",
              "      <td>0.228354</td>\n",
              "      <td>-0.292090</td>\n",
              "      <td>0.520738</td>\n",
              "      <td>0.737217</td>\n",
              "    </tr>\n",
              "    <tr>\n",
              "      <th>...</th>\n",
              "      <td>...</td>\n",
              "      <td>...</td>\n",
              "      <td>...</td>\n",
              "      <td>...</td>\n",
              "      <td>...</td>\n",
              "      <td>...</td>\n",
              "      <td>...</td>\n",
              "    </tr>\n",
              "    <tr>\n",
              "      <th>819739</th>\n",
              "      <td>0.530134</td>\n",
              "      <td>-0.909206</td>\n",
              "      <td>-0.555109</td>\n",
              "      <td>-2.180407</td>\n",
              "      <td>-0.125811</td>\n",
              "      <td>0.447533</td>\n",
              "      <td>-0.699953</td>\n",
              "    </tr>\n",
              "    <tr>\n",
              "      <th>1449724</th>\n",
              "      <td>5.742879</td>\n",
              "      <td>-0.909206</td>\n",
              "      <td>0.235276</td>\n",
              "      <td>1.271459</td>\n",
              "      <td>2.199960</td>\n",
              "      <td>0.885871</td>\n",
              "      <td>0.104862</td>\n",
              "    </tr>\n",
              "    <tr>\n",
              "      <th>643239</th>\n",
              "      <td>-0.294862</td>\n",
              "      <td>-0.909206</td>\n",
              "      <td>-1.319912</td>\n",
              "      <td>0.923218</td>\n",
              "      <td>-0.288586</td>\n",
              "      <td>-0.017583</td>\n",
              "      <td>-1.159847</td>\n",
              "    </tr>\n",
              "    <tr>\n",
              "      <th>50149</th>\n",
              "      <td>-0.386306</td>\n",
              "      <td>1.099861</td>\n",
              "      <td>-1.630436</td>\n",
              "      <td>1.241513</td>\n",
              "      <td>-0.283473</td>\n",
              "      <td>-1.663617</td>\n",
              "      <td>-1.274821</td>\n",
              "    </tr>\n",
              "    <tr>\n",
              "      <th>1538322</th>\n",
              "      <td>-0.048837</td>\n",
              "      <td>1.099861</td>\n",
              "      <td>1.276134</td>\n",
              "      <td>0.882535</td>\n",
              "      <td>-0.292603</td>\n",
              "      <td>1.666584</td>\n",
              "      <td>0.334809</td>\n",
              "    </tr>\n",
              "  </tbody>\n",
              "</table>\n",
              "<p>515668 rows × 7 columns</p>\n",
              "</div>"
            ],
            "text/plain": [
              "              amt    gender       zip       lat  city_pop  unix_time       age\n",
              "2135073  4.841275  1.099861  0.140233  0.423377 -0.290414  -1.040756  0.737217\n",
              "985983  -0.050033 -0.909206  0.522635 -0.107041 -0.293090   0.845046 -0.182572\n",
              "1975298 -0.360231 -0.909206 -0.110224  0.234647 -0.061104   0.903219  0.397467\n",
              "1654880  5.034264  1.099861 -1.347019  0.575254 -0.286685   0.818262  2.116900\n",
              "867735   0.681024  1.099861 -1.014259  0.228354 -0.292090   0.520738  0.737217\n",
              "...           ...       ...       ...       ...       ...        ...       ...\n",
              "819739   0.530134 -0.909206 -0.555109 -2.180407 -0.125811   0.447533 -0.699953\n",
              "1449724  5.742879 -0.909206  0.235276  1.271459  2.199960   0.885871  0.104862\n",
              "643239  -0.294862 -0.909206 -1.319912  0.923218 -0.288586  -0.017583 -1.159847\n",
              "50149   -0.386306  1.099861 -1.630436  1.241513 -0.283473  -1.663617 -1.274821\n",
              "1538322 -0.048837  1.099861  1.276134  0.882535 -0.292603   1.666584  0.334809\n",
              "\n",
              "[515668 rows x 7 columns]"
            ]
          },
          "metadata": {},
          "execution_count": 108
        }
      ]
    },
    {
      "cell_type": "markdown",
      "metadata": {
        "id": "XPT2IMtq_Qks"
      },
      "source": [
        "#**Mutual Information Gain**"
      ]
    },
    {
      "cell_type": "code",
      "metadata": {
        "id": "pHZt7gcKh48Z",
        "colab": {
          "base_uri": "https://localhost:8080/"
        },
        "outputId": "19b77474-25ac-41f9-86ea-4524c39498c5"
      },
      "source": [
        "from sklearn.feature_selection import mutual_info_classif\n",
        "mutual_info = mutual_info_classif(X_train,y_train)\n",
        "mutual_info"
      ],
      "execution_count": null,
      "outputs": [
        {
          "output_type": "execute_result",
          "data": {
            "text/plain": [
              "array([0.58629897, 0.12747225, 0.33153188, 0.3313653 , 0.33118493,\n",
              "       0.3156504 , 0.06136648, 0.0050628 , 0.00724727, 0.20785537])"
            ]
          },
          "metadata": {},
          "execution_count": 109
        }
      ]
    },
    {
      "cell_type": "code",
      "metadata": {
        "id": "iHmBiWoa9hA9",
        "colab": {
          "base_uri": "https://localhost:8080/"
        },
        "outputId": "60b6ff62-4ab3-4ddd-c7ba-8e53e27fc91f"
      },
      "source": [
        "mutual_info = pd.Series(mutual_info)\n",
        "mutual_info.index = X_train.columns\n",
        "mutual_info.sort_values(ascending=False)"
      ],
      "execution_count": null,
      "outputs": [
        {
          "output_type": "execute_result",
          "data": {
            "text/plain": [
              "amt           0.586299\n",
              "zip           0.331532\n",
              "lat           0.331365\n",
              "long          0.331185\n",
              "city_pop      0.315650\n",
              "age           0.207855\n",
              "gender        0.127472\n",
              "unix_time     0.061366\n",
              "merch_long    0.007247\n",
              "merch_lat     0.005063\n",
              "dtype: float64"
            ]
          },
          "metadata": {},
          "execution_count": 110
        }
      ]
    },
    {
      "cell_type": "code",
      "metadata": {
        "id": "Y3F181Y69hEE",
        "colab": {
          "base_uri": "https://localhost:8080/"
        },
        "outputId": "8e1c72fb-2523-405b-de40-49a394657cf6"
      },
      "source": [
        "X_train.columns"
      ],
      "execution_count": null,
      "outputs": [
        {
          "output_type": "execute_result",
          "data": {
            "text/plain": [
              "Index(['amt', 'gender', 'zip', 'lat', 'long', 'city_pop', 'unix_time',\n",
              "       'merch_lat', 'merch_long', 'age'],\n",
              "      dtype='object')"
            ]
          },
          "metadata": {},
          "execution_count": 111
        }
      ]
    },
    {
      "cell_type": "code",
      "metadata": {
        "id": "WdGo3Pm99hHs",
        "colab": {
          "base_uri": "https://localhost:8080/"
        },
        "outputId": "395087e4-b297-4bab-915b-6f8211ef898a"
      },
      "source": [
        "X_test.columns"
      ],
      "execution_count": null,
      "outputs": [
        {
          "output_type": "execute_result",
          "data": {
            "text/plain": [
              "Index(['amt', 'gender', 'zip', 'lat', 'long', 'city_pop', 'unix_time',\n",
              "       'merch_lat', 'merch_long', 'age'],\n",
              "      dtype='object')"
            ]
          },
          "metadata": {},
          "execution_count": 112
        }
      ]
    },
    {
      "cell_type": "code",
      "metadata": {
        "id": "XutJNeiF9hLv"
      },
      "source": [
        "from sklearn.feature_selection import SelectKBest"
      ],
      "execution_count": null,
      "outputs": []
    },
    {
      "cell_type": "code",
      "metadata": {
        "id": "fSKL3N649hiM",
        "colab": {
          "base_uri": "https://localhost:8080/"
        },
        "outputId": "8f4c9fc8-9b52-4368-f6f2-4069070abeea"
      },
      "source": [
        "sel_five=SelectKBest(mutual_info_classif,k=5)\n",
        "sel_five.fit(X_train,y_train)\n",
        "X_train.columns[sel_five.get_support()]"
      ],
      "execution_count": null,
      "outputs": [
        {
          "output_type": "execute_result",
          "data": {
            "text/plain": [
              "Index(['amt', 'zip', 'lat', 'long', 'city_pop'], dtype='object')"
            ]
          },
          "metadata": {},
          "execution_count": 114
        }
      ]
    },
    {
      "cell_type": "code",
      "metadata": {
        "id": "ZofceDgr9hlH"
      },
      "source": [
        "from sklearn.feature_selection import SelectPercentile"
      ],
      "execution_count": null,
      "outputs": []
    },
    {
      "cell_type": "code",
      "metadata": {
        "id": "KH5VuJln9sul",
        "colab": {
          "base_uri": "https://localhost:8080/"
        },
        "outputId": "e8e8d228-1b0b-44a0-ba62-e65226e4676f"
      },
      "source": [
        "selected_top_columns = SelectPercentile(mutual_info_classif, percentile=20)\n",
        "selected_top_columns.fit(X_train.fillna(0), y_train)"
      ],
      "execution_count": null,
      "outputs": [
        {
          "output_type": "execute_result",
          "data": {
            "text/plain": [
              "SelectPercentile(percentile=20,\n",
              "                 score_func=<function mutual_info_classif at 0x7fa495de05f0>)"
            ]
          },
          "metadata": {},
          "execution_count": 116
        }
      ]
    },
    {
      "cell_type": "code",
      "metadata": {
        "id": "eU3GT7jR9sxv",
        "colab": {
          "base_uri": "https://localhost:8080/"
        },
        "outputId": "b4eb8aa3-7ffb-4ca3-db6e-a021a88a3dec"
      },
      "source": [
        "X_train.columns[selected_top_columns.get_support()]"
      ],
      "execution_count": null,
      "outputs": [
        {
          "output_type": "execute_result",
          "data": {
            "text/plain": [
              "Index(['amt', 'zip'], dtype='object')"
            ]
          },
          "metadata": {},
          "execution_count": 117
        }
      ]
    },
    {
      "cell_type": "markdown",
      "metadata": {
        "id": "lpcqKM8q_1fX"
      },
      "source": [
        "#**MODELS**"
      ]
    },
    {
      "cell_type": "code",
      "metadata": {
        "id": "0IQJsUkq_33m"
      },
      "source": [
        "from sklearn.linear_model import LinearRegression,LogisticRegression,SGDRegressor , Ridge,Lasso\n",
        "from sklearn.model_selection import train_test_split,GridSearchCV\n",
        "from sklearn.preprocessing import LabelEncoder,StandardScaler\n",
        "from warnings import filterwarnings\n",
        "filterwarnings('ignore')\n",
        "from sklearn.metrics import accuracy_score,precision_score,confusion_matrix\n",
        "from sklearn.metrics import classification_report,roc_curve,roc_auc_score\n",
        "from sklearn.neighbors import KNeighborsClassifier\n",
        "from sklearn.naive_bayes import GaussianNB"
      ],
      "execution_count": null,
      "outputs": []
    },
    {
      "cell_type": "code",
      "metadata": {
        "id": "t45LMMNU_7Ei"
      },
      "source": [
        "lr = LogisticRegression()\n",
        "model_v1 = lr.fit(X_train,y_train)\n",
        "lr_acc = accuracy_score(y_test, model_v1.predict(X_test))"
      ],
      "execution_count": null,
      "outputs": []
    },
    {
      "cell_type": "code",
      "metadata": {
        "id": "M1fumXvn_8rt",
        "colab": {
          "base_uri": "https://localhost:8080/",
          "height": 265
        },
        "outputId": "77783ba9-3a2e-4cd7-b4bb-01799cd8ea7a"
      },
      "source": [
        "ypred = model_v1.predict(X_test)\n",
        "cm  = confusion_matrix(y_test,ypred)\n",
        "sns.heatmap(cm,annot=True)\n",
        "plt.show()"
      ],
      "execution_count": null,
      "outputs": [
        {
          "output_type": "display_data",
          "data": {
            "image/png": "[encoded data removed]",
            "text/plain": [
              "<Figure size 432x288 with 2 Axes>"
            ]
          },
          "metadata": {
            "needs_background": "light"
          }
        }
      ]
    },
    {
      "cell_type": "code",
      "metadata": {
        "id": "VxU_Mwu9AAvt",
        "colab": {
          "base_uri": "https://localhost:8080/"
        },
        "outputId": "b46397ab-f1bc-43c5-a021-95b085cc71af"
      },
      "source": [
        "print(classification_report(y_test,ypred))"
      ],
      "execution_count": null,
      "outputs": [
        {
          "output_type": "stream",
          "name": "stdout",
          "text": [
            "              precision    recall  f1-score   support\n",
            "\n",
            "           0       0.80      0.95      0.87    257546\n",
            "           1       0.94      0.76      0.84    258122\n",
            "\n",
            "    accuracy                           0.86    515668\n",
            "   macro avg       0.87      0.86      0.86    515668\n",
            "weighted avg       0.87      0.86      0.86    515668\n",
            "\n"
          ]
        }
      ]
    },
    {
      "cell_type": "code",
      "metadata": {
        "id": "6K7xtAr9ABh6"
      },
      "source": [
        "#KNN model\n",
        "knn = KNeighborsClassifier()\n",
        "model_v2 = knn.fit(X_train,y_train)\n",
        "knn_acc = accuracy_score(y_test, knn.predict(X_test))\n",
        "ypred1 = model_v2.predict(X_test)"
      ],
      "execution_count": null,
      "outputs": []
    },
    {
      "cell_type": "code",
      "metadata": {
        "id": "89LjPagFAE8I",
        "colab": {
          "base_uri": "https://localhost:8080/",
          "height": 282
        },
        "outputId": "f4c15f48-f4b1-455b-b985-8d9e14585f06"
      },
      "source": [
        "cm_knn = confusion_matrix(y_test,ypred1)\n",
        "sns.heatmap(cm_knn,annot=True)"
      ],
      "execution_count": null,
      "outputs": [
        {
          "output_type": "execute_result",
          "data": {
            "text/plain": [
              "<matplotlib.axes._subplots.AxesSubplot at 0x7fa4941b8cd0>"
            ]
          },
          "metadata": {},
          "execution_count": 134
        },
        {
          "output_type": "display_data",
          "data": {
            "image/png": "[encoded data removed]",
            "text/plain": [
              "<Figure size 432x288 with 2 Axes>"
            ]
          },
          "metadata": {
            "needs_background": "light"
          }
        }
      ]
    },
    {
      "cell_type": "code",
      "metadata": {
        "id": "uMrY4fQkAHsT",
        "colab": {
          "base_uri": "https://localhost:8080/"
        },
        "outputId": "3cc1f0b9-fb40-4b07-d79d-f48dbdd2d634"
      },
      "source": [
        "print(classification_report(y_test,ypred))"
      ],
      "execution_count": null,
      "outputs": [
        {
          "output_type": "stream",
          "name": "stdout",
          "text": [
            "              precision    recall  f1-score   support\n",
            "\n",
            "           0       0.74      0.97      0.84    257546\n",
            "           1       0.96      0.66      0.78    258122\n",
            "\n",
            "    accuracy                           0.82    515668\n",
            "   macro avg       0.85      0.82      0.81    515668\n",
            "weighted avg       0.85      0.82      0.81    515668\n",
            "\n"
          ]
        }
      ]
    },
    {
      "cell_type": "code",
      "metadata": {
        "id": "p2MP7XhUALLY"
      },
      "source": [
        "nb =GaussianNB()\n",
        "model_v3 = nb.fit(X_train,y_train)\n",
        "nb_acc = accuracy_score(y_test, model_v3.predict(X_test))\n"
      ],
      "execution_count": null,
      "outputs": []
    },
    {
      "cell_type": "code",
      "metadata": {
        "id": "ggBHJqTTAM3y",
        "colab": {
          "base_uri": "https://localhost:8080/",
          "height": 286
        },
        "outputId": "ab499a57-80d1-4582-8ca9-63b45db22dba"
      },
      "source": [
        "ypred = model_v3.predict(X_test)\n",
        "cm = confusion_matrix(y_test,ypred)\n",
        "sns.heatmap(cm,annot=True)"
      ],
      "execution_count": null,
      "outputs": [
        {
          "output_type": "execute_result",
          "data": {
            "text/plain": [
              "<matplotlib.axes._subplots.AxesSubplot at 0x7fa49411abd0>"
            ]
          },
          "metadata": {},
          "execution_count": 137
        },
        {
          "output_type": "display_data",
          "data": {
            "image/png": "[encoded data removed]",
            "text/plain": [
              "<Figure size 432x288 with 2 Axes>"
            ]
          },
          "metadata": {
            "needs_background": "light"
          }
        }
      ]
    },
    {
      "cell_type": "code",
      "metadata": {
        "id": "ykiArLjyAOub",
        "colab": {
          "base_uri": "https://localhost:8080/"
        },
        "outputId": "913481ea-2598-4ee1-d77c-774744c48e56"
      },
      "source": [
        "print(classification_report(y_test,ypred))"
      ],
      "execution_count": null,
      "outputs": [
        {
          "output_type": "stream",
          "name": "stdout",
          "text": [
            "              precision    recall  f1-score   support\n",
            "\n",
            "           0       0.74      0.97      0.84    257546\n",
            "           1       0.96      0.66      0.78    258122\n",
            "\n",
            "    accuracy                           0.82    515668\n",
            "   macro avg       0.85      0.82      0.81    515668\n",
            "weighted avg       0.85      0.82      0.81    515668\n",
            "\n"
          ]
        }
      ]
    },
    {
      "cell_type": "code",
      "metadata": {
        "id": "Bozwacl_AQjj",
        "colab": {
          "base_uri": "https://localhost:8080/",
          "height": 295
        },
        "outputId": "a3a0edb2-2915-4d2d-efd3-7a2085cf3b23"
      },
      "source": [
        "#### ROC curve\n",
        "## Logistic Regression Model\n",
        "prob = model_v1.predict_proba(X_test)[:,1]\n",
        "fpr,tpr,threshold = roc_curve(y_test,prob)\n",
        "#Plotting Roc Curve\n",
        "plt.plot(fpr,tpr)\n",
        "plt.plot([[0,0],[1,1]],color='red',linestyle = '-')\n",
        "plt.xlabel('FPR')\n",
        "plt.ylabel('TPR')\n",
        "plt.title('ROC Curve')\n",
        "plt.show()"
      ],
      "execution_count": null,
      "outputs": [
        {
          "output_type": "display_data",
          "data": {
            "image/png": "[encoded data removed]",
            "text/plain": [
              "<Figure size 432x288 with 1 Axes>"
            ]
          },
          "metadata": {
            "needs_background": "light"
          }
        }
      ]
    },
    {
      "cell_type": "code",
      "metadata": {
        "id": "MtSKziquAXfh",
        "colab": {
          "base_uri": "https://localhost:8080/",
          "height": 295
        },
        "outputId": "18abeca8-47a4-4b12-ea98-1afc137f5f90"
      },
      "source": [
        "## KNN Classifier Model\n",
        "prob1 = model_v2.predict_proba(X_test)[:,1]\n",
        "fpr,tpr,threshold = roc_curve(y_test,prob1)\n",
        "#Plotting Roc Curve\n",
        "plt.plot(fpr,tpr)\n",
        "plt.plot([[0,0],[1,1]],color='red',linestyle = '-')\n",
        "plt.xlabel('FPR')\n",
        "plt.ylabel('TPR')\n",
        "plt.title('ROC Curve')\n",
        "plt.show()"
      ],
      "execution_count": null,
      "outputs": [
        {
          "output_type": "display_data",
          "data": {
            "image/png": "[encoded data removed]",
            "text/plain": [
              "<Figure size 432x288 with 1 Axes>"
            ]
          },
          "metadata": {
            "needs_background": "light"
          }
        }
      ]
    },
    {
      "cell_type": "code",
      "metadata": {
        "id": "3N_F36DjAZyf",
        "colab": {
          "base_uri": "https://localhost:8080/",
          "height": 295
        },
        "outputId": "e1780275-0358-4390-e69f-2b167e8a4333"
      },
      "source": [
        "## Naive Bayes Model\n",
        "prob2 = model_v3.predict_proba(X_test)[:,1]\n",
        "\n",
        "fpr,tpr,threshold = roc_curve(y_test,prob2)\n",
        "#Plotting Roc Curve\n",
        "plt.plot(fpr,tpr)\n",
        "plt.plot([[0,0],[1,1]],color='red',linestyle = '-')\n",
        "plt.xlabel('FPR')\n",
        "plt.ylabel('TPR')\n",
        "plt.title('ROC Curve')\n",
        "plt.show()"
      ],
      "execution_count": null,
      "outputs": [
        {
          "output_type": "display_data",
          "data": {
            "image/png": "[encoded data removed]",
            "text/plain": [
              "<Figure size 432x288 with 1 Axes>"
            ]
          },
          "metadata": {
            "needs_background": "light"
          }
        }
      ]
    },
    {
      "cell_type": "code",
      "metadata": {
        "id": "GMRg2Fk1lE1L",
        "colab": {
          "base_uri": "https://localhost:8080/",
          "height": 143
        },
        "outputId": "a99bdec7-9b6b-4b2e-eb50-f6f35a9eaa1d"
      },
      "source": [
        "models = pd.DataFrame({'Model' : [ 'KNN', 'Logistic Regression', 'Gaussian NAive Bayes'],'Score' : [knn_acc, lr_acc, nb_acc]})\n",
        "models.sort_values(by = 'Score', ascending = False)"
      ],
      "execution_count": null,
      "outputs": [
        {
          "output_type": "execute_result",
          "data": {
            "text/html": [
              "<div>\n",
              "<style scoped>\n",
              "    .dataframe tbody tr th:only-of-type {\n",
              "        vertical-align: middle;\n",
              "    }\n",
              "\n",
              "    .dataframe tbody tr th {\n",
              "        vertical-align: top;\n",
              "    }\n",
              "\n",
              "    .dataframe thead th {\n",
              "        text-align: right;\n",
              "    }\n",
              "</style>\n",
              "<table border=\"1\" class=\"dataframe\">\n",
              "  <thead>\n",
              "    <tr style=\"text-align: right;\">\n",
              "      <th></th>\n",
              "      <th>Model</th>\n",
              "      <th>Score</th>\n",
              "    </tr>\n",
              "  </thead>\n",
              "  <tbody>\n",
              "    <tr>\n",
              "      <th>0</th>\n",
              "      <td>KNN</td>\n",
              "      <td>0.992964</td>\n",
              "    </tr>\n",
              "    <tr>\n",
              "      <th>1</th>\n",
              "      <td>Logistic Regression</td>\n",
              "      <td>0.857187</td>\n",
              "    </tr>\n",
              "    <tr>\n",
              "      <th>2</th>\n",
              "      <td>Gaussian NAive Bayes</td>\n",
              "      <td>0.815156</td>\n",
              "    </tr>\n",
              "  </tbody>\n",
              "</table>\n",
              "</div>"
            ],
            "text/plain": [
              "                  Model     Score\n",
              "0                   KNN  0.992964\n",
              "1   Logistic Regression  0.857187\n",
              "2  Gaussian NAive Bayes  0.815156"
            ]
          },
          "metadata": {},
          "execution_count": 142
        }
      ]
    }
  ]
}